{
 "cells": [
  {
   "cell_type": "markdown",
   "id": "f72ca9c0-623b-4358-afc9-e9a7c606d102",
   "metadata": {},
   "source": [
    "# 1 - The supply chain graph\n",
    "\n",
    "This notebook describes how supply chain graphs can be entered, edited, and used in the latest version of the Brightway LCA framework. It follows our recommended practice for using Brightway. When in doubt on which commands to use, please [check the cheat sheet](https://docs.brightway.dev/en/latest/content/cheatsheet/index.html), and let us know if you think something there is missing.\n",
    "\n",
    "The most common approach in life cycle assessment, and the approach that Brightway uses, is to model systems as [graphs](https://en.wikipedia.org/wiki/Graph_(discrete_mathematics)). Graphs have nodes and edges, and data attributes can be attached to both nodes and edges. Here is an example of a graph for a simple product system making a bicycle and the associated LCA objects:\n",
    "\n",
    "<img src=\"images/supply-chain-simple.png\">\n",
    "\n",
    "In our graph, edges are [directed](https://en.wikipedia.org/wiki/Graph_(discrete_mathematics)#Directed_graph) - each edge has a _source_ and a _target_. \n",
    "\n",
    "We have also added types to both the nodes and edges. These types are metadata, just like things like names, units, and locations. This metadata helps us make sense of the graph in the context of LCA.\n",
    "\n",
    "Brightway has a suggested set of labels to use for metadata for the different node and edge types - see the [Brightway interface schemas](https://github.com/brightway-lca/bw_interface_schemas/blob/main/bw_interface_schemas/models.py)\n",
    "\n",
    "This graph can be logically divided between processes - things that do something, action words, or verbs, and products and elementary flows - the physical things being acted upon, or nouns:\n",
    "\n",
    "<img src=\"images/bipartite.png\">\n",
    "\n",
    "Brightway is designed around flexibility, and so this partition is a convention, not a rule. However, for the sake of your and our sanity, we strongly recommend following this pattern :)\n",
    "\n",
    "It can be helpful to split an LCA graph into a set of [subgraphs](https://en.wikipedia.org/wiki/Glossary_of_graph_theory#subgraph). For example, we might want to separate the work of two analysts, or separate a foreground and a background system. In Brightway, a subgraph is called a `Database`. Let's add a `Database to our graph:\n",
    "\n",
    "<img src=\"images/with-database.png\">\n",
    "\n",
    "A `Database` is just a collection of nodes - it can be large or small, there aren't any general rules. Edges don't belong to a database, as they can cross from one database to another.\n",
    "\n",
    "In Brightway, we currently have \"graphy\"-type methods to access nodes and edges, and non-\"graphy\"-type methods to access database relationships and LCIA, but you should be thinking of them mentally as being part of a large graph. Let's make that graph:"
   ]
  },
  {
   "cell_type": "code",
   "execution_count": null,
   "id": "73ad8843-58b9-4975-bd89-d2508ac992ca",
   "metadata": {},
   "outputs": [],
   "source": [
    "import bw2data as bd"
   ]
  },
  {
   "cell_type": "code",
   "execution_count": null,
   "id": "83426200-078c-47fe-80c5-27a64c356a05",
   "metadata": {},
   "outputs": [],
   "source": [
    "db = bd.Database(\"Demo\")\n",
    "# Let the metadata system know this database exists. Not necessary if using a `bw2io` importer.\n",
    "db.register(hi_mom=True, language=\"Singlish\")"
   ]
  },
  {
   "cell_type": "markdown",
   "id": "d9244904-a58d-457f-80f1-0c6249505eaf",
   "metadata": {},
   "source": [
    "Registering a database allows us to find it in our registry of databases (sorry if that was a bit recursive!):"
   ]
  },
  {
   "cell_type": "code",
   "execution_count": null,
   "id": "24994463-f80e-4bf0-859e-15caa0ae84a1",
   "metadata": {},
   "outputs": [],
   "source": [
    "bd.databases"
   ]
  },
  {
   "cell_type": "markdown",
   "id": "52f32eab-e05d-4ff0-9bb7-f1c98793c37b",
   "metadata": {},
   "source": [
    "Creating a `Database` also created its metadata:"
   ]
  },
  {
   "cell_type": "code",
   "execution_count": null,
   "id": "38b23e75-a197-46c4-a044-249f89d3adb5",
   "metadata": {},
   "outputs": [],
   "source": [
    "db.metadata"
   ]
  },
  {
   "cell_type": "markdown",
   "id": "f2cb67f1-45cc-46a3-81ec-d19a309237d4",
   "metadata": {},
   "source": [
    "Our first two nodes - the bicycle itself, and the bicycle production activity.\n",
    "\n",
    "We are using here some [fixed values for type labels](https://github.com/brightway-lca/brightway2-data/blob/main/bw2data/configuration.py). This is preferable to entering the strings ourselves to avoid human error or inconsistency."
   ]
  },
  {
   "cell_type": "code",
   "execution_count": null,
   "id": "c887c7f5-c83a-40c3-9e85-430e93b837f6",
   "metadata": {},
   "outputs": [],
   "source": [
    "bicycle = db.new_node(\n",
    "    name=\"bicycle\",\n",
    "    unit=\"number\",\n",
    "    type=bd.labels.product_node_default,\n",
    ")\n",
    "\n",
    "bike_production = db.new_node(\n",
    "    name=\"bike production\",\n",
    "    location=\"DK\",\n",
    "    type=bd.labels.process_node_default,\n",
    ")\n",
    "\n",
    "bicycle.save()\n",
    "bike_production.save()"
   ]
  },
  {
   "cell_type": "markdown",
   "id": "7dd9683a-411e-423c-b86a-429d976a65cb",
   "metadata": {},
   "source": [
    "*Question* for reflection: Why does the bicycle production have a location and not a unit (and the opposite for the bicycle)?\n",
    "\n",
    "*Question*: What other attributes like location could we add to bicycle production?\n",
    "\n",
    "Let's add the rest of the life cycle inventory:"
   ]
  },
  {
   "cell_type": "code",
   "execution_count": null,
   "id": "6c67bf17-7a15-455d-a4ca-dd477c2ebc40",
   "metadata": {},
   "outputs": [],
   "source": [
    "natural_gas = db.new_node(\n",
    "    name='natural gas',\n",
    "    unit='megajoule',\n",
    "    type=bd.labels.product_node_default,\n",
    ")\n",
    "natural_gas_production = db.new_node(\n",
    "    name='natural gas production',\n",
    "    location='NO',\n",
    "    type=bd.labels.process_node_default,\n",
    ")\n",
    "\n",
    "natural_gas.save()\n",
    "natural_gas_production.save()"
   ]
  },
  {
   "cell_type": "markdown",
   "id": "3405e3e7-ecf3-4c09-8c4a-f70bf0474b7a",
   "metadata": {},
   "source": [
    "Brightway doesn't enforce any uniqueness constraints on fields like `name`. The only fields that must be unique are a combination of the `database` and the node `code`. If we can specify the `code` ourselves, we can run the same cell twice safely:"
   ]
  },
  {
   "cell_type": "code",
   "execution_count": null,
   "id": "789d250d-3a39-44f5-93ca-91e1403d1dd5",
   "metadata": {},
   "outputs": [],
   "source": [
    "cf_production = db.new_node(\n",
    "    code=\"cf-production\",\n",
    "    name='carbon fibre production',\n",
    "    location='DE',\n",
    "    type=bd.labels.process_node_default,\n",
    ")\n",
    "cf = db.new_node(\n",
    "    code=\"cf\",\n",
    "    name='carbon fibre',\n",
    "    unit=\"kilogram\",\n",
    "    type=bd.labels.product_node_default,\n",
    ")\n",
    "\n",
    "\n",
    "cf_production.save()\n",
    "cf.save()"
   ]
  },
  {
   "cell_type": "markdown",
   "id": "d45f83f4-c23e-4d7f-8204-dd709cd61ade",
   "metadata": {},
   "source": [
    "Brightway allows you complete flexibility to store any additional fields that you want on nodes and edges, but our recommendation is to use the following for fields outside the base set of fields given in [bw_interface_schemas](https://github.com/brightway-lca/bw_interface_schemas/blob/main/bw_interface_schemas/models.py):\n",
    "\n",
    "* `documentation`\n",
    "    * `dict[str, str]`, e.g. `node['documentation'] = {\"treatment_standards_routes\": \"from processing of high-energy waste\"}`\n",
    "    * For documentation fields outside the general comment\n",
    "* `tags`\n",
    "    * `dict[str, JsonValue]`, e.g. `node['tags'] = {\"CN 2024\": \"http://data.europa.eu/xsp/cn2024/681511000080\", \"start_year\": 2024}`\n",
    "    * For items which come a pre-defined and finite set of possible values\n",
    "* `attrs`\n",
    "    * `dict[str, JsonValue]`2024}`\n",
    "    * For items which whose values are different for each node, and/or are not know in advance of chosen from a given list\n",
    "* `properties`\n",
    "    * `dict[str, JsonValue]`, e.g. `node['properties'] = {\"carbon_mass_fraction\": 0.5}`\n",
    "    * Quantitative measure of the process or product\n",
    "\n",
    "Be careful setting `node['tags'] = {<something>}` as this will overwrite any data that was already given as `tags`. If you aren't sure if `tags` exists, you can do `node.setdefault('tags', {})['<something>'] = '<something>'` ([`setdefault` documentation](https://docs.python.org/3/library/stdtypes.html#dict.setdefault)). "
   ]
  },
  {
   "cell_type": "code",
   "execution_count": null,
   "id": "487752b1-1106-44fd-9a96-096059856bf6",
   "metadata": {},
   "outputs": [],
   "source": [
    "co2 = db.new_node(\n",
    "    name=\"Carbon Dioxide\", \n",
    "    context=('air',),\n",
    "    tags={'CAS Number': '124-38-9'},\n",
    "    unit='kilogram',\n",
    "    type=bd.labels.biosphere_node_default,\n",
    ")\n",
    "\n",
    "co2.save()"
   ]
  },
  {
   "cell_type": "markdown",
   "id": "256ca2e8-51c7-42c5-8cca-e37ecf633927",
   "metadata": {},
   "source": [
    "We also need to create edges between the nodes. We can do this in many ways, here is one - let's add the production of products by processes:"
   ]
  },
  {
   "cell_type": "code",
   "execution_count": null,
   "id": "fed2e6f1-b2bb-4a09-8a6b-de0c91665dea",
   "metadata": {},
   "outputs": [],
   "source": [
    "bike_production.new_edge(\n",
    "    amount=1,\n",
    "    input=bicycle,\n",
    "    type=bd.labels.production_edge_default,\n",
    ").save()\n",
    "cf_production.new_edge(\n",
    "    amount=1,\n",
    "    input=cf,\n",
    "    type=bd.labels.production_edge_default,\n",
    ").save()\n",
    "natural_gas_production.new_edge(\n",
    "    amount=1,\n",
    "    input=natural_gas,\n",
    "    type=bd.labels.production_edge_default,\n",
    ").save()    "
   ]
  },
  {
   "cell_type": "markdown",
   "id": "8468b0ac-50e8-4a2c-adad-d32e79af2602",
   "metadata": {},
   "source": [
    "The use of `input` is a bit weird in the above - this will change as it is incorrect.\n",
    "\n",
    "Sometimes we can run the same cell multiple times, and create duplicate exchanges. Brightway **will allow** you to create multiple edges between the same source and target.\n",
    "\n",
    "*Question* for reflection: Why does Brightway allow such seemingly duplicate edges? Does this reflect real-world conditions?\n",
    "\n",
    "Brightway has a utility function to fix these errors:"
   ]
  },
  {
   "cell_type": "code",
   "execution_count": null,
   "id": "f4b26efb-7862-4a2e-9a7f-edff98a56474",
   "metadata": {},
   "outputs": [],
   "source": [
    "db.delete_duplicate_exchanges()"
   ]
  },
  {
   "cell_type": "markdown",
   "id": "7accddb3-e418-43c5-9da2-bd94bb4dbf27",
   "metadata": {},
   "source": [
    "Now let's add the material and energy inputs:"
   ]
  },
  {
   "cell_type": "code",
   "execution_count": null,
   "id": "6950d13b-516f-44a5-9419-8c5bd7989ddf",
   "metadata": {},
   "outputs": [],
   "source": [
    "bike_production.new_edge(\n",
    "    amount=2.5, \n",
    "    type=bd.labels.consumption_edge_default,\n",
    "    input=cf\n",
    ").save()"
   ]
  },
  {
   "cell_type": "markdown",
   "id": "24d92417-d659-4f77-8be4-625ee99f611b",
   "metadata": {},
   "source": [
    "What about some uncertainty? We use [stats_arrays](https://stats-arrays.readthedocs.io/en/latest/) to model probability distribution functions."
   ]
  },
  {
   "cell_type": "code",
   "execution_count": null,
   "id": "402901ff-9553-46fb-ac89-230bd0de99c2",
   "metadata": {},
   "outputs": [],
   "source": [
    "cf_production.new_edge(\n",
    "    amount=237.3,  # plus 58 kWh of electricity, in ecoinvent 3.8 \n",
    "    uncertainty_type=5, \n",
    "    minimum=200, \n",
    "    maximum=300, \n",
    "    type=bd.labels.consumption_edge_default,\n",
    "    input=natural_gas,\n",
    ").save()"
   ]
  },
  {
   "cell_type": "markdown",
   "id": "d112c979-b188-423d-ae24-65a81a1274d1",
   "metadata": {},
   "source": [
    "And our emission of carbon dioxide:"
   ]
  },
  {
   "cell_type": "code",
   "execution_count": null,
   "id": "fbdf759e-20c7-4ad2-a88b-de2517bfbd67",
   "metadata": {},
   "outputs": [],
   "source": [
    "cf_production.new_edge(\n",
    "    amount=26.6, \n",
    "    uncertainty_type=5, \n",
    "    minimum=26,\n",
    "    maximum=27.2, \n",
    "    type=bd.labels.biosphere_edge_default,\n",
    "    input=co2,\n",
    ").save()"
   ]
  },
  {
   "cell_type": "markdown",
   "id": "5e320346-c81c-4046-9e98-bf1e7c32bf99",
   "metadata": {},
   "source": [
    "This is a life cycle inventory, and is enough to do an LCI calculation. Let's do a quick calculation:"
   ]
  },
  {
   "cell_type": "code",
   "execution_count": null,
   "id": "1686cf66-0db0-448e-a5ab-5e7d33070467",
   "metadata": {},
   "outputs": [],
   "source": [
    "import bw2calc as bc"
   ]
  },
  {
   "cell_type": "markdown",
   "id": "1d454c7f-7300-4cde-8d56-3ef208ad2bff",
   "metadata": {},
   "source": [
    "Don't worry about the syntax here right now, we will talk about it later."
   ]
  },
  {
   "cell_type": "code",
   "execution_count": null,
   "id": "c2a5a520-0875-43e9-a861-5337563b0e79",
   "metadata": {},
   "outputs": [],
   "source": [
    "functional_unit, data_objs, _ = bd.prepare_lca_inputs({bicycle: 1}, remapping=False)"
   ]
  },
  {
   "cell_type": "code",
   "execution_count": null,
   "id": "b315ed1e-df27-40c0-98c8-a18f728b0aa7",
   "metadata": {},
   "outputs": [],
   "source": [
    "lca = bc.LCA(demand=functional_unit, data_objs=data_objs)\n",
    "lca.lci()"
   ]
  },
  {
   "cell_type": "markdown",
   "id": "ca52de04-1160-4da4-8b70-a451eebb081e",
   "metadata": {},
   "source": [
    "*Question*: How much CO2 should be emitted by our functional unit? You can do this calculation by examining the graph manually."
   ]
  },
  {
   "cell_type": "code",
   "execution_count": null,
   "id": "632f42bf-b9d7-40f1-87bf-a5a9c81fb5a9",
   "metadata": {},
   "outputs": [],
   "source": [
    "lca.inventory[lca.dicts.biosphere[co2.id], :].sum()"
   ]
  },
  {
   "cell_type": "markdown",
   "id": "f9fcf876-1f60-4789-83a1-c831d5ef338c",
   "metadata": {},
   "source": [
    "## Exercise\n",
    "\n",
    "Create a new bicycle made of steel. You will need some coal and some iron ore mining for the steel, and some steel for the bicycle.\n",
    "\n",
    "Your use of steel consumed some iron ore, a natural resource. In a **new database**, create a biosphere flow for this iron ore, and add the iron ore flow. You might not be sure about the numbers - you can reflect that in the uncertainty you assign to the exchanges."
   ]
  },
  {
   "cell_type": "markdown",
   "id": "2b97b964-168c-41ed-9f3e-4a5edd6adeb9",
   "metadata": {},
   "source": [
    "Finally, if we want to do impact assessment, we need some nodes to represent impact categories, and edges to represent characterization factors:\n",
    "\n",
    "<img src=\"images/with-lcia.png\">"
   ]
  },
  {
   "cell_type": "markdown",
   "id": "ad55b66e-4aba-4596-993c-7c985ef3c5df",
   "metadata": {},
   "source": [
    "## LCIA\n",
    "\n",
    "To define characterization nodes and edges, we use a different data structure:"
   ]
  },
  {
   "cell_type": "code",
   "execution_count": null,
   "id": "c783967e-f54d-4146-a8b0-ff5b2af81923",
   "metadata": {},
   "outputs": [],
   "source": [
    "import stats_arrays as sa"
   ]
  },
  {
   "cell_type": "code",
   "execution_count": null,
   "id": "413baa19-fdc7-4f93-a84a-3037d3278c8c",
   "metadata": {},
   "outputs": [],
   "source": [
    "ipcc = bd.Method(('IPCC',))\n",
    "ipcc.write([\n",
    "    (co2, {'amount': 1, 'uncertainty_type': sa.NormalUncertainty.id, 'loc': 1, 'scale': 0.05}),\n",
    "])"
   ]
  },
  {
   "cell_type": "markdown",
   "id": "cc62a1bf-f02c-4c46-95d6-d0add1285069",
   "metadata": {},
   "source": [
    "We can now do a full LCIA, not just an LCI:"
   ]
  },
  {
   "cell_type": "code",
   "execution_count": null,
   "id": "38c16727-32e0-4cdf-a01b-8a3552ced1a0",
   "metadata": {},
   "outputs": [],
   "source": [
    "functional_unit, data_objs, _ = bd.prepare_lca_inputs({bicycle: 1}, method=('IPCC',), remapping=False)"
   ]
  },
  {
   "cell_type": "code",
   "execution_count": null,
   "id": "c8a87a8f-3386-4c4a-9077-63e0dbfa4953",
   "metadata": {},
   "outputs": [],
   "source": [
    "lca = bc.LCA(demand=functional_unit, data_objs=data_objs)\n",
    "lca.lci()\n",
    "lca.lcia()\n",
    "lca.score"
   ]
  },
  {
   "cell_type": "markdown",
   "id": "54adb347-6f8c-411e-a6bf-4bfdcca2f3ff",
   "metadata": {},
   "source": [
    "To use uncertainty, we tell the `LCA` object to use the probability distributions:"
   ]
  },
  {
   "cell_type": "code",
   "execution_count": null,
   "id": "bf359eae-01de-472b-94d0-4dc2c0ff2226",
   "metadata": {},
   "outputs": [],
   "source": [
    "import pandas as pd"
   ]
  },
  {
   "cell_type": "code",
   "execution_count": null,
   "id": "7d087957-f85b-4006-b110-bd3c336ca483",
   "metadata": {},
   "outputs": [],
   "source": [
    "lca = bc.LCA(demand=functional_unit, data_objs=data_objs, use_distributions=True)\n",
    "lca.lci()\n",
    "lca.lcia()\n",
    "\n",
    "df = pd.DataFrame([{'score': lca.score} for _ in zip(lca, range(25))])\n",
    "df.hist()"
   ]
  },
  {
   "cell_type": "markdown",
   "id": "da3ca039-16a8-4dd7-a368-b7f93c8df4e9",
   "metadata": {},
   "source": [
    "## Exercise\n",
    "\n",
    "Create a new LCIA method for your iron ore consumption. Calculate the LCIA result you should get, and then verify that you have the correct value."
   ]
  },
  {
   "cell_type": "markdown",
   "id": "43798d94-b985-4c61-9c89-56f5b330c64f",
   "metadata": {},
   "source": [
    "## Switching graphs - `projects`\n",
    "\n",
    "A Brightway `project` is a separate graph - completely self-contained, and independent of other projects. This independence can lead to data duplication, but helps keep each project safe from the changes in the others.\n",
    "\n",
    "We start in the `default` project:"
   ]
  },
  {
   "cell_type": "code",
   "execution_count": null,
   "id": "9a66f2b5-b9fe-4265-b06d-2af211ee3b55",
   "metadata": {},
   "outputs": [],
   "source": [
    "bd.projects.current"
   ]
  },
  {
   "cell_type": "markdown",
   "id": "0cb5fd3d-9052-4d80-aa43-4c6670ad8537",
   "metadata": {},
   "source": [
    "We can change to a new project:"
   ]
  },
  {
   "cell_type": "code",
   "execution_count": null,
   "id": "364436c3-e084-4a2b-9034-f1507574dcac",
   "metadata": {},
   "outputs": [],
   "source": [
    "bd.projects.set_current(\"Another project\")\n",
    "bd.projects.current"
   ]
  },
  {
   "cell_type": "markdown",
   "id": "9cbd8a83-e2a5-40c9-86dd-60fd4185bbfc",
   "metadata": {},
   "source": [
    "We now don't have any databases or any other data in the graph:"
   ]
  },
  {
   "cell_type": "code",
   "execution_count": null,
   "id": "501f40ae-0f41-4cc2-9aad-c2317f9642a8",
   "metadata": {},
   "outputs": [],
   "source": [
    "bd.databases"
   ]
  },
  {
   "cell_type": "markdown",
   "id": "1f61f80c-d85e-4db2-be20-c870a0f1f0ed",
   "metadata": {},
   "source": [
    "Let's switch back to our default project. It isn't best practice to do data development in the `default` project, so let's rename it:"
   ]
  },
  {
   "cell_type": "code",
   "execution_count": null,
   "id": "70989a1b-21f5-40fc-89ef-78403288c46d",
   "metadata": {},
   "outputs": [],
   "source": [
    "bd.projects.set_current(\"default\")\n",
    "bd.projects.rename_project(\"class-exercise-bicycle\")"
   ]
  },
  {
   "cell_type": "markdown",
   "id": "a5e29301-038c-4cc5-a38b-3787763cdeba",
   "metadata": {},
   "source": [
    "During development, it is very convenient to just delete everything and rerun the notebook to get the right data. Let's make a shortcut to purge the project:"
   ]
  },
  {
   "cell_type": "code",
   "execution_count": null,
   "id": "b2a0c34b-f4e0-4a66-8528-a35766c792c0",
   "metadata": {},
   "outputs": [],
   "source": [
    "I_SCREWED_UP = False\n",
    "\n",
    "if I_SCREWED_UP:\n",
    "    try:\n",
    "        bd.projects.delete_project(\"class-exercise-bicycle\", delete_dir=True)\n",
    "    except ValueError:\n",
    "        pass"
   ]
  },
  {
   "cell_type": "markdown",
   "id": "ddb5a306-2020-4cf2-a822-28eedeebf687",
   "metadata": {},
   "source": [
    "## Searching through the database\n",
    "\n",
    "In addition to storing and using nodes and edges, our graph database can be searched in different ways. Let's show this with a larger database."
   ]
  },
  {
   "cell_type": "markdown",
   "id": "521e2ad1-4f0e-4d2b-9488-592147a4ad0e",
   "metadata": {},
   "source": [
    "We can use a shortcut to install some data:"
   ]
  },
  {
   "cell_type": "code",
   "execution_count": null,
   "id": "4aba7543-fea8-4a41-a84e-ee436709181a",
   "metadata": {},
   "outputs": [],
   "source": [
    "import bw2io as bi\n",
    "bi.install_project(\"USEEIO-1.1\", overwrite_existing=True)\n",
    "\n",
    "# If that doesn't work for whatever reason, we can import the original data with this:\n",
    "# bi.useeio11()"
   ]
  },
  {
   "cell_type": "code",
   "execution_count": null,
   "id": "611e82fd-2d4a-425c-912d-b973fd8b2e13",
   "metadata": {},
   "outputs": [],
   "source": [
    "bd.projects.set_current(\"USEEIO-1.1\")"
   ]
  },
  {
   "cell_type": "code",
   "execution_count": null,
   "id": "d23260fc-6e05-430b-aae6-b4390390372b",
   "metadata": {},
   "outputs": [],
   "source": [
    "bd.databases"
   ]
  },
  {
   "cell_type": "code",
   "execution_count": null,
   "id": "bdd92c2f-17b3-4d01-86ae-89dcb6d89830",
   "metadata": {},
   "outputs": [],
   "source": [
    "db = bd.Database(\"USEEIO-1.1\")\n",
    "db.name"
   ]
  },
  {
   "cell_type": "markdown",
   "id": "f87311b8-28fd-4259-8e83-6b6a0112938f",
   "metadata": {},
   "source": [
    "We can search with the 'search' function."
   ]
  },
  {
   "cell_type": "code",
   "execution_count": null,
   "id": "c66aa64d-138f-468f-b8ea-c8bafffbbbfc",
   "metadata": {},
   "outputs": [],
   "source": [
    "fun = db.search(\"amusement\")[0]\n",
    "fun['name'] = 'fun'\n",
    "fun.save()"
   ]
  },
  {
   "cell_type": "code",
   "execution_count": null,
   "id": "83fd3221-872e-4a29-97ea-9e9381a0d49d",
   "metadata": {},
   "outputs": [],
   "source": [
    "db.search('amusement')"
   ]
  },
  {
   "cell_type": "code",
   "execution_count": null,
   "id": "3ac1549b-0780-4a97-84ea-3a719c23d14e",
   "metadata": {
    "tags": []
   },
   "outputs": [],
   "source": [
    "{node['name'] for node in db if node['type'] == 'product'}"
   ]
  },
  {
   "cell_type": "markdown",
   "id": "a520b6b7-3633-4d4d-9ed7-e4407bb9ee15",
   "metadata": {},
   "source": [
    "## Interacting with the graph"
   ]
  },
  {
   "cell_type": "code",
   "execution_count": null,
   "id": "8fe2144f-665b-4442-9bcb-c9a46acd4a8f",
   "metadata": {},
   "outputs": [],
   "source": [
    "moo = bd.get_node(name='Cattle ranches and feedlots', type='product')"
   ]
  },
  {
   "cell_type": "code",
   "execution_count": null,
   "id": "e2d44d33-a05d-4521-b703-d346e38818f4",
   "metadata": {},
   "outputs": [],
   "source": [
    "type(moo) == bd.Node"
   ]
  },
  {
   "cell_type": "markdown",
   "id": "7c922998-1b86-4d39-82a9-d886c6930a0a",
   "metadata": {},
   "source": [
    "We can assign any attributes to nodes (and to edges)"
   ]
  },
  {
   "cell_type": "code",
   "execution_count": null,
   "id": "981e7dd5-bef6-45ec-bf33-321abe9bc2e9",
   "metadata": {},
   "outputs": [],
   "source": [
    "moo['moo'] = 'loud'"
   ]
  },
  {
   "cell_type": "markdown",
   "id": "70d88e12-5191-44a9-917a-5cb2ad13f422",
   "metadata": {},
   "source": [
    "Note that this attributes are not saved to the database by default - we have to tell Brightway to save changed data!\n",
    "\n",
    "We have some attributes which are common to all inventory databases"
   ]
  },
  {
   "cell_type": "code",
   "execution_count": null,
   "id": "f1b0bea6-ff38-4a4e-9adb-0bd0e39930ec",
   "metadata": {},
   "outputs": [],
   "source": [
    "moo['categories'], moo['location'], moo['unit']"
   ]
  },
  {
   "cell_type": "markdown",
   "id": "540ee517-75ef-4550-90c5-abd89a6468b7",
   "metadata": {},
   "source": [
    "The node classes act like dictionaries, and raise error for missing keys"
   ]
  },
  {
   "cell_type": "code",
   "execution_count": null,
   "id": "6ced6e0e-140d-4cf0-9bd1-7d1b11a9af9b",
   "metadata": {},
   "outputs": [],
   "source": [
    "moo['missing']"
   ]
  },
  {
   "cell_type": "markdown",
   "id": "d4c2b8b4-dd26-49eb-9558-228005f90a1d",
   "metadata": {},
   "source": [
    "## Exercise\n",
    "\n",
    "Iterate through all `product` nodes in the US EEIO and tag every node whose combined name and unit is more than 40 characters long with `\"long\" = True`."
   ]
  },
  {
   "cell_type": "markdown",
   "id": "566c30d9-4d10-4fc6-be5d-0898302df65a",
   "metadata": {},
   "source": [
    "## Exchange iterators\n",
    "\n",
    "We have shortcuts to traverse the supply chain graph. For inputs, we have `.technosphere()` and `.biospere()`; for producing edges, we have `.producers()`, and for edges to other nodes which consume the outputs of our node there is `.consumers()`. You can also get all edges with `.edges()`.\n",
    "\n",
    "These are all [iterators](https://jakevdp.github.io/WhirlwindTourOfPython/10-iterators.html)."
   ]
  },
  {
   "cell_type": "code",
   "execution_count": null,
   "id": "de2ad280-6e61-490f-9751-e4b869289ec1",
   "metadata": {},
   "outputs": [],
   "source": [
    "bd.projects.set_current(\"class-exercise-bicycle\")"
   ]
  },
  {
   "cell_type": "code",
   "execution_count": null,
   "id": "64e79602-2e52-49c0-80fb-61efa5509282",
   "metadata": {},
   "outputs": [],
   "source": [
    "list(cf_production.technosphere())"
   ]
  },
  {
   "cell_type": "code",
   "execution_count": null,
   "id": "c810b72d-155a-4e97-9117-993b7bf9b434",
   "metadata": {},
   "outputs": [],
   "source": [
    "list(cf_production.biosphere())"
   ]
  },
  {
   "cell_type": "code",
   "execution_count": null,
   "id": "78df6237-2f21-4e33-87ff-5ca321c0e697",
   "metadata": {},
   "outputs": [],
   "source": [
    "list(cf.consumers())"
   ]
  },
  {
   "cell_type": "code",
   "execution_count": null,
   "id": "6ebd16d3-b62d-410f-b6b3-ae06d6d5fdf9",
   "metadata": {},
   "outputs": [],
   "source": [
    "list(cf_production.producers())"
   ]
  },
  {
   "cell_type": "markdown",
   "id": "cceb5ee8-c5e2-47a5-8062-4718f5c0270e",
   "metadata": {},
   "source": [
    "The US EEIO is the same, it is normalized to the production of one USD. It can be interesting to sum the costs of the inputs:"
   ]
  },
  {
   "cell_type": "code",
   "execution_count": null,
   "id": "9336bf62-7c8d-4a0a-b16b-ac1270805445",
   "metadata": {},
   "outputs": [],
   "source": [
    "bd.projects.set_current(\"USEEIO-1.1\")"
   ]
  },
  {
   "cell_type": "code",
   "execution_count": null,
   "id": "df9e68e2-3387-4a95-b24b-430035f1d166",
   "metadata": {},
   "outputs": [],
   "source": [
    "sum([o['amount'] for o in bd.get_node(name='Cattle ranches and feedlots', type='process').technosphere()])"
   ]
  },
  {
   "cell_type": "markdown",
   "id": "3e02c3dc-7599-4329-89d2-874dcbc4fe39",
   "metadata": {},
   "source": [
    "# Contribution"
   ]
  },
  {
   "cell_type": "markdown",
   "id": "6f3d70db-1daa-405f-8534-ebec445414b6",
   "metadata": {},
   "source": [
    "Let's show a little bit of what Brightway can do. We can compare the correlation of LCA scores across a variety of categories.\n",
    "\n",
    "There is an atuomatic way to do this in Brightway, but we can also program it manually to see how it works.\n",
    "\n",
    "Stop for a bit and think about what one would need to calculate LCA scores for 380 products and ~10 impact categories."
   ]
  },
  {
   "cell_type": "code",
   "execution_count": null,
   "id": "1dc4f1a5-96ba-4f59-9957-f2b9a2b05227",
   "metadata": {},
   "outputs": [],
   "source": [
    "products_in_order = [obj for obj in db if obj['type'] == 'product']\n",
    "categories_in_order = [method for method in bd.methods if method[0] == 'Impact Potential']"
   ]
  },
  {
   "cell_type": "markdown",
   "id": "a0a39ef0-36f5-440e-866c-ca23819335a2",
   "metadata": {},
   "source": [
    "In general, in Brightway there is *one secret* to getting good performance: Don't rebuild matrices unless you really need to. Rebuilding a matrix is not slow, but the time adds up if you do it a lot. But most importantly, if you are using `pypardiso` (normally everything except for ARM machines), and you keep the technosphere matrix the same, it will secretly remember all the preparation work it did to solve the linear system and you will get a factor of 100 speed increase on subsequent calculations.\n",
    "\n",
    "So, in this case we will use one `LCA` object, and use the `lci` method repeatedly."
   ]
  },
  {
   "cell_type": "code",
   "execution_count": null,
   "id": "f83d15e4-798f-4e6e-8c38-6735c2bbe404",
   "metadata": {},
   "outputs": [],
   "source": [
    "import numpy as np\n",
    "\n",
    "results = np.zeros((len(products_in_order), len(categories_in_order)))\n",
    "\n",
    "def get_lcia_scores(products, categories, results):\n",
    "    lca = bc.LCA({products[0]: 1}, categories[0])\n",
    "    lca.lci()\n",
    "    lca.lcia()\n",
    "    \n",
    "    method_matrices = [lca.characterization_matrix.copy()]\n",
    "    \n",
    "    for other_method in categories[1:]:\n",
    "        # Only build each characterization matrix once instead of once per product\n",
    "        lca.switch_method(other_method)\n",
    "        method_matrices.append(lca.characterization_matrix.copy())\n",
    "    \n",
    "    for i, product in enumerate(products):\n",
    "        lca.lci({product.id: 1})\n",
    "        for j, characterization_matrix in enumerate(method_matrices):\n",
    "            results[i, j] = (characterization_matrix * lca.inventory).sum()\n",
    "    \n",
    "    return results"
   ]
  },
  {
   "cell_type": "code",
   "execution_count": null,
   "id": "df88c7ef-9954-45d8-8989-6811266fef3f",
   "metadata": {},
   "outputs": [],
   "source": [
    "from time import time\n",
    "\n",
    "start = time()\n",
    "results = get_lcia_scores(products_in_order, categories_in_order, results)\n",
    "print(time() - start)"
   ]
  },
  {
   "cell_type": "markdown",
   "id": "4c4c7746-fb11-4f18-bc0d-88dfc9f18548",
   "metadata": {},
   "source": [
    "## Exercise\n",
    "\n",
    "Compare how long it would take to calculate LCA results for 3 products and 3 impact categories if you had to create a new LCA object each time."
   ]
  },
  {
   "cell_type": "code",
   "execution_count": null,
   "id": "8206e376-94b6-4049-bc80-449664e41ef4",
   "metadata": {},
   "outputs": [],
   "source": [
    "from scipy import stats\n",
    "\n",
    "def create_correlation_matrix(scores_array):\n",
    "    num_methods = scores_array.shape[1]\n",
    "    correlations = np.zeros((num_methods, num_methods))\n",
    "\n",
    "    for row in range(num_methods):\n",
    "        for col in range(num_methods):\n",
    "            if col <= row:\n",
    "                continue                               # Only need to compute correlation once\n",
    "            dataset_1 = scores_array[:, row]\n",
    "            dataset_2 = scores_array[:, col]\n",
    "            mask = (dataset_1 != 0) * (dataset_2 != 0) # Ignore activities that have zero score\n",
    "            corr = stats.kendalltau( # Get tau value, drop p-statistic\n",
    "                dataset_1[mask], \n",
    "                dataset_2[mask]\n",
    "            )[0]\n",
    "            if np.isnan(corr):\n",
    "                correlations[row, col] = 0\n",
    "            else:\n",
    "                correlations[row, col] = corr\n",
    "\n",
    "    correlations = correlations + correlations.T       # Make sorting easier by adding filling in lower left triangle\n",
    "    return correlations"
   ]
  },
  {
   "cell_type": "code",
   "execution_count": null,
   "id": "153a4d9c-ed3f-4cff-a1bd-c47ac9c2427e",
   "metadata": {},
   "outputs": [],
   "source": [
    "correlation_matrix = create_correlation_matrix(results)"
   ]
  },
  {
   "cell_type": "code",
   "execution_count": null,
   "id": "372ccc48-c5c9-41ca-aa88-414ceebc28a8",
   "metadata": {},
   "outputs": [],
   "source": [
    "%matplotlib inline"
   ]
  },
  {
   "cell_type": "code",
   "execution_count": null,
   "id": "78035852-533d-4e5e-8bf2-da0429f4e097",
   "metadata": {},
   "outputs": [],
   "source": [
    "import matplotlib.pyplot as plt\n",
    "\n",
    "fig = plt.gcf()\n",
    "fig.set_size_inches(12, 12)\n",
    "\n",
    "masked_correlation = np.ma.array(correlation_matrix, mask=correlation_matrix == 0).T\n",
    "plt.pcolor(masked_correlation, cmap=plt.cm.cubehelix_r)\n",
    "plt.colorbar()\n",
    "plt.ylim(None, correlation_matrix.shape[1])\n",
    "plt.xlim(None, correlation_matrix.shape[0])\n",
    "plt.xticks(np.arange(0.5, 10), [obj[1] for obj in categories_in_order])\n",
    "plt.yticks(np.arange(0.5, 10), [obj[1] for obj in categories_in_order])\n",
    "plt.tight_layout()"
   ]
  },
  {
   "cell_type": "code",
   "execution_count": null,
   "id": "ed5c1470-8e9b-4194-b321-d6f235c6661a",
   "metadata": {},
   "outputs": [],
   "source": [
    "for category in categories_in_order:\n",
    "    print(category[1], bd.methods[category]['description'])"
   ]
  }
 ],
 "metadata": {
  "kernelspec": {
   "display_name": "Python 3 (ipykernel)",
   "language": "python",
   "name": "python3"
  },
  "language_info": {
   "codemirror_mode": {
    "name": "ipython",
    "version": 3
   },
   "file_extension": ".py",
   "mimetype": "text/x-python",
   "name": "python",
   "nbconvert_exporter": "python",
   "pygments_lexer": "ipython3",
   "version": "3.11.9"
  }
 },
 "nbformat": 4,
 "nbformat_minor": 5
}
