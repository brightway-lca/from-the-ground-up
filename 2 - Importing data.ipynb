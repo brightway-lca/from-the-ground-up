{
 "cells": [
  {
   "cell_type": "markdown",
   "id": "b9837f16-f9ca-4bf7-8435-7148f1fda1bf",
   "metadata": {},
   "source": [
    "# Importing data\n",
    "\n",
    "Importing data means taking data in some form, and preparing it so that we can express that data as nodes and edges. On its own, this is not too challenging - it mostly means converting data formats. The harder part is harmonizing the data, so that the fields used across imported databases are consistent enough that we can link consumers and supplier.\n",
    "\n",
    "Let's make this more concrete with an example. In the file `lci-carbon-fiber.xlsx` we have data from the publication [Ecological assessment of fuel cell electric vehicles with special focus on type IV carbon fiber hydrogen tank](https://www.sciencedirect.com/science/article/abs/pii/S0959652620333229). As this data is from Excel, it is tabular, and so on its surface looks different than the graph:\n",
    "\n",
    "<img src=\"images/spreadsheet.png\">\n",
    "\n",
    "However, this difference is mostly cosmetic. Both the _document_ and _graph_ perspectives are showing the same information, but with a different emphasis and organizing structure. In the graph perspective, edges are independent objects with their own metadata, and their sources and targets are given as [pointers](https://en.wikipedia.org/wiki/Pointer_(computer_programming)) to the node objects. In the document perspective, edges are subsumed in the definition of the nodes, and because most input data formats don't have pointers, references to input or output flows are defined by the attributes of thoses flows.\n",
    "\n",
    "Because we only have flow attributes, we need to define a way that we associate those attributes with nodes in our existing databases. This is trickier than you might think, as those is no guarantee that two data providers will use the same labels for things like locations or units; indeed, sometimes we even find different labels for the same attributes.\n",
    "\n",
    "Therefore, Brightway treats IO as a classic [ETL pipeline](https://en.wikipedia.org/wiki/Extract,_transform,_load), and applies a series of transformation functions to prepare the data and find the correct flows. Let's look at our real-world example:"
   ]
  },
  {
   "cell_type": "code",
   "execution_count": 2,
   "id": "b8d8c15a-c5be-4feb-a7ab-17005d67b001",
   "metadata": {},
   "outputs": [],
   "source": [
    "import bw2data as bd\n",
    "import bw2io as bi\n",
    "from pathlib import Path"
   ]
  },
  {
   "cell_type": "markdown",
   "id": "e8cd71ae-1383-45d0-bc45-abbc3d7aa623",
   "metadata": {},
   "source": [
    "The example data is built on top of ecoinvent. You should update the project name to a project with ecoinvent 3.10 already installed."
   ]
  },
  {
   "cell_type": "code",
   "execution_count": 3,
   "id": "f831eb2e-6cbb-4c3c-baa1-e1a9c855c627",
   "metadata": {},
   "outputs": [
    {
     "name": "stdout",
     "output_type": "stream",
     "text": [
      "Extracted 1 worksheets in 0.02 seconds\n"
     ]
    }
   ],
   "source": [
    "imp = bi.ExcelImporter(Path.cwd() / \"lci-carbon-fiber.xlsx\")"
   ]
  },
  {
   "cell_type": "markdown",
   "id": "14e8a624-db86-4dd2-a638-94705adff6e0",
   "metadata": {},
   "source": [
    "Before we make any changes, let's see what the data looks like in its raw form:"
   ]
  },
  {
   "cell_type": "code",
   "execution_count": 4,
   "id": "f261814e-6253-4aa0-bff4-28a7c6d17a4f",
   "metadata": {},
   "outputs": [
    {
     "data": {
      "text/plain": [
       "{'comment': '1 kg of finished carbon fiber Toray T700 G. Carbon fiber manufacturing. Source: based on Ellringmann et al. (2016), Gill et al. (2016), Mützel (2012).',\n",
       " 'source': 'Benitez A, Wulf C, de Palmenaer A, Lengersdorf M, Röding T, Grube T, et al. Ecological assessment of fuel cell electric vehicles with special focus on type IV carbon fiber hydrogen tank. J Clean Prod 2021;278:123277. https://doi.org/10.1016/j.jclepro.2020.123277.',\n",
       " 'location': 'RER',\n",
       " 'production amount': 1,\n",
       " 'reference product': 'polyacrylonitrile',\n",
       " 'unit': 'kilogram',\n",
       " 'name': 'polyacrylonitrile production (PAN) by polymerisation',\n",
       " 'exchanges': [{'name': 'polyacrylonitrile production (PAN) by polymerisation',\n",
       "   'amount': 1,\n",
       "   'database': 'carbon fiber',\n",
       "   'location': 'RER',\n",
       "   'unit': 'kilogram',\n",
       "   'type': 'production',\n",
       "   'reference product': 'polyacrylonitrile'},\n",
       "  {'name': 'market for heat, from steam, in chemical industry',\n",
       "   'amount': 49.71610169491525,\n",
       "   'database': 'ecoinvent',\n",
       "   'location': 'RER',\n",
       "   'unit': 'megajoule',\n",
       "   'type': 'technosphere',\n",
       "   'reference product': 'heat, from steam, in chemical industry'},\n",
       "  {'name': 'market for acrylonitrile',\n",
       "   'amount': 1.1200564971751414,\n",
       "   'database': 'ecoinvent',\n",
       "   'location': 'GLO',\n",
       "   'unit': 'kilogram',\n",
       "   'type': 'technosphere',\n",
       "   'reference product': 'acrylonitrile'},\n",
       "  {'name': 'market group for electricity, low voltage',\n",
       "   'amount': 2.5,\n",
       "   'database': 'ecoinvent',\n",
       "   'location': 'RER',\n",
       "   'unit': 'kilowatt hour',\n",
       "   'type': 'technosphere',\n",
       "   'reference product': 'electricity, low voltage'},\n",
       "  {'name': 'market for methyl acrylate',\n",
       "   'amount': 0.05,\n",
       "   'database': 'ecoinvent',\n",
       "   'location': 'GLO',\n",
       "   'unit': 'kilogram',\n",
       "   'type': 'technosphere',\n",
       "   'reference product': 'methyl acrylate'},\n",
       "  {'name': 'market for acrylic acid',\n",
       "   'amount': 0.01,\n",
       "   'database': 'ecoinvent',\n",
       "   'location': 'RER',\n",
       "   'unit': 'kilogram',\n",
       "   'type': 'technosphere',\n",
       "   'reference product': 'acrylic acid'},\n",
       "  {'name': 'market for water, deionised',\n",
       "   'amount': 0.764830508474576,\n",
       "   'database': 'ecoinvent',\n",
       "   'location': 'Europe without Switzerland',\n",
       "   'unit': 'kilogram',\n",
       "   'type': 'technosphere',\n",
       "   'reference product': 'water, deionised'}],\n",
       " 'worksheet name': 'Carbon fiber',\n",
       " 'database': 'carbon fiber'}"
      ]
     },
     "execution_count": 4,
     "metadata": {},
     "output_type": "execute_result"
    }
   ],
   "source": [
    "imp.data[0]"
   ]
  },
  {
   "cell_type": "markdown",
   "id": "f04a9b97-8eb5-415a-bd82-369fd8bcaac3",
   "metadata": {},
   "source": [
    "This is actually aleady quite close to the final form. In this case we are lucky as the import data was designed to be used in Brightway. Normally we would need to apply transformation functions; lets see what those default transformation functions would be:"
   ]
  },
  {
   "cell_type": "code",
   "execution_count": 5,
   "id": "eeccdb7b-a069-437d-9ca0-f85aa2a6bd59",
   "metadata": {},
   "outputs": [
    {
     "name": "stdout",
     "output_type": "stream",
     "text": [
      "Applying strategy: csv_restore_tuples\n",
      "Applying strategy: csv_restore_booleans\n",
      "Applying strategy: csv_numerize\n",
      "Applying strategy: csv_drop_unknown\n",
      "Applying strategy: csv_add_missing_exchanges_section\n",
      "Applying strategy: normalize_units\n",
      "Applying strategy: normalize_biosphere_categories\n",
      "Applying strategy: normalize_biosphere_names\n",
      "Applying strategy: strip_biosphere_exc_locations\n",
      "Applying strategy: set_code_by_activity_hash\n",
      "Applying strategy: link_iterable_by_fields\n",
      "Applying strategy: assign_only_product_as_production\n",
      "Applying strategy: link_technosphere_by_activity_hash\n",
      "Applying strategy: drop_falsey_uncertainty_fields_but_keep_zeros\n",
      "Applying strategy: convert_uncertainty_types_to_integers\n",
      "Applying strategy: convert_activity_parameters_to_list\n",
      "Applied 16 strategies in 0.08 seconds\n"
     ]
    }
   ],
   "source": [
    "imp.apply_strategies()"
   ]
  },
  {
   "cell_type": "markdown",
   "id": "8df333cd-b52d-431f-9342-5115f189ef63",
   "metadata": {},
   "source": [
    "We can look at the imported data statistics:"
   ]
  },
  {
   "cell_type": "code",
   "execution_count": 6,
   "id": "8f3e5fe2-4034-4629-887b-8b4b89f81d15",
   "metadata": {},
   "outputs": [
    {
     "name": "stdout",
     "output_type": "stream",
     "text": [
      "Graph statistics for `carbon fiber` importer:\n",
      "10 graph nodes:\n",
      "\tNone: 10\n",
      "109 graph edges:\n",
      "\ttechnosphere: 90\n",
      "\tproduction: 10\n",
      "\tbiosphere: 9\n",
      "27 edges to the following databases:\n",
      "\tcarbon fiber: 19\n",
      "\tecoinvent-3.10-biosphere: 8\n",
      "20 unique unlinked edges (82 total):\n",
      "\ttechnosphere: 19\n",
      "\tbiosphere: 1\n",
      "\n",
      "\n"
     ]
    },
    {
     "data": {
      "text/plain": [
       "(10, 109, 82, 0)"
      ]
     },
     "execution_count": 6,
     "metadata": {},
     "output_type": "execute_result"
    }
   ],
   "source": [
    "imp.statistics()"
   ]
  },
  {
   "cell_type": "markdown",
   "id": "81efd996-a16a-4e04-b472-b32e7ba44f57",
   "metadata": {},
   "source": [
    "We can iterate over the unlinked edges to get a sense for what we are missing:"
   ]
  },
  {
   "cell_type": "code",
   "execution_count": 7,
   "id": "c4d92e47-7581-4eb1-b0f0-699181532df6",
   "metadata": {},
   "outputs": [
    {
     "name": "stdout",
     "output_type": "stream",
     "text": [
      "{'name': 'market for heat, from steam, in chemical industry', 'amount': 49.71610169491525, 'database': 'ecoinvent', 'location': 'RER', 'unit': 'megajoule', 'type': 'technosphere', 'reference product': 'heat, from steam, in chemical industry'}\n",
      "{'name': 'market for acrylonitrile', 'amount': 1.1200564971751414, 'database': 'ecoinvent', 'location': 'GLO', 'unit': 'kilogram', 'type': 'technosphere', 'reference product': 'acrylonitrile'}\n",
      "{'name': 'market group for electricity, low voltage', 'amount': 2.5, 'database': 'ecoinvent', 'location': 'RER', 'unit': 'kilowatt hour', 'type': 'technosphere', 'reference product': 'electricity, low voltage'}\n",
      "{'name': 'market for methyl acrylate', 'amount': 0.05, 'database': 'ecoinvent', 'location': 'GLO', 'unit': 'kilogram', 'type': 'technosphere', 'reference product': 'methyl acrylate'}\n",
      "{'name': 'market for acrylic acid', 'amount': 0.01, 'database': 'ecoinvent', 'location': 'RER', 'unit': 'kilogram', 'type': 'technosphere', 'reference product': 'acrylic acid'}\n"
     ]
    }
   ],
   "source": [
    "for edge, _ in zip(imp.unlinked, range(5)):\n",
    "    print(edge)"
   ]
  },
  {
   "cell_type": "markdown",
   "id": "2e40ab72-9bb1-4f37-8fbc-f62904276eb2",
   "metadata": {},
   "source": [
    "OK, some unlinked exchanges are clearly from ecoinvent. Let's try to link those."
   ]
  },
  {
   "cell_type": "code",
   "execution_count": 8,
   "id": "c6c27315-a41b-44eb-8659-90956eee4ad8",
   "metadata": {},
   "outputs": [
    {
     "name": "stdout",
     "output_type": "stream",
     "text": [
      "Applying strategy: link_iterable_by_fields\n",
      "Graph statistics for `carbon fiber` importer:\n",
      "10 graph nodes:\n",
      "\tNone: 10\n",
      "109 graph edges:\n",
      "\ttechnosphere: 90\n",
      "\tproduction: 10\n",
      "\tbiosphere: 9\n",
      "95 edges to the following databases:\n",
      "\tecoinvent-3.10-cutoff: 68\n",
      "\tcarbon fiber: 19\n",
      "\tecoinvent-3.10-biosphere: 8\n",
      "3 unique unlinked edges (14 total):\n",
      "\ttechnosphere: 2\n",
      "\tbiosphere: 1\n",
      "\n",
      "\n"
     ]
    },
    {
     "data": {
      "text/plain": [
       "(10, 109, 14, 0)"
      ]
     },
     "execution_count": 8,
     "metadata": {},
     "output_type": "execute_result"
    }
   ],
   "source": [
    "imp.match_database(\"ecoinvent-3.10-cutoff\", fields=('name', 'reference product', 'unit', 'location'))\n",
    "imp.statistics()"
   ]
  },
  {
   "cell_type": "markdown",
   "id": "10ffeccb-869d-4da7-bec3-03e8f6361292",
   "metadata": {},
   "source": [
    "Let's check the unlinked edges:"
   ]
  },
  {
   "cell_type": "code",
   "execution_count": 10,
   "id": "c0ce0cf3-b480-4e8e-ae32-c9252f89e0f8",
   "metadata": {},
   "outputs": [
    {
     "name": "stdout",
     "output_type": "stream",
     "text": [
      "{'name': 'market for ethylene glycol', 'amount': 2.4225526641883498e-06, 'database': 'ecoinvent', 'location': 'GLO', 'unit': 'kilogram', 'type': 'technosphere', 'reference product': 'ethylene glycol'}\n",
      "{'name': 'air separation, cryogenic', 'amount': 0.005396530359355638, 'database': 'ecoinvent', 'location': 'RER', 'unit': 'kilogram', 'type': 'technosphere', 'reference product': 'nitrogen, liquid'}\n",
      "{'name': 'Argon-40', 'amount': 0.012598425196850395, 'unit': 'kilogram', 'categories': ('air',), 'type': 'biosphere', 'uncertainty type': 2, 'loc': -4.3741834572128555, 'u1': 1.5, 'u2': 1.2, 'u3': 1.5, 'u4': 1.1, 'u5': 2, 'u6': 1.2, 'ub': 1.5, 'scale': 0.5121584730617011}\n"
     ]
    }
   ],
   "source": [
    "for edge in imp.unlinked:\n",
    "    print(edge)"
   ]
  },
  {
   "cell_type": "markdown",
   "id": "8c81414f-41e5-4a26-9490-89131894acfc",
   "metadata": {},
   "source": [
    "Let's look at the missing Argon flow first. Let's check our database layout:"
   ]
  },
  {
   "cell_type": "code",
   "execution_count": 11,
   "id": "53e1d7f8-5b50-4043-bcf9-64e60e5e4b05",
   "metadata": {},
   "outputs": [
    {
     "data": {
      "text/plain": [
       "Databases dictionary with 3 object(s):\n",
       "\tbike\n",
       "\tecoinvent-3.10-biosphere\n",
       "\tecoinvent-3.10-cutoff"
      ]
     },
     "execution_count": 11,
     "metadata": {},
     "output_type": "execute_result"
    }
   ],
   "source": [
    "bd.databases"
   ]
  },
  {
   "cell_type": "markdown",
   "id": "173f9e89-cc42-4492-b510-3cec006ae5dd",
   "metadata": {},
   "source": [
    "That should be in the `ecoinvent-3.10-biosphere` database. Let's search for argon:"
   ]
  },
  {
   "cell_type": "code",
   "execution_count": 16,
   "id": "7faeed14-deb0-4c60-aac7-e0f4c2322140",
   "metadata": {},
   "outputs": [
    {
     "data": {
      "text/plain": [
       "['Argon' (kilogram, None, ('natural resource', 'in air')),\n",
       " 'Argon-41' (kilo Becquerel, None, ('air', 'low population density, long-term')),\n",
       " 'Argon-41' (kilo Becquerel, None, ('air', 'urban air close to ground')),\n",
       " 'Argon-41' (kilo Becquerel, None, ('air',)),\n",
       " 'Argon-41' (kilo Becquerel, None, ('air', 'non-urban air or from high stacks')),\n",
       " 'Argon' (kilogram, None, ('air',))]"
      ]
     },
     "execution_count": 16,
     "metadata": {},
     "output_type": "execute_result"
    }
   ],
   "source": [
    "[x for x in bd.Database(\"ecoinvent-3.10-biosphere\") if \"argon\" in x[\"name\"].lower()]"
   ]
  },
  {
   "cell_type": "markdown",
   "id": "321ea963-c41c-4361-a27b-16a37c0ac351",
   "metadata": {},
   "source": [
    "OK, so we have the following. In our imported data:\n",
    "\n",
    "{'name': 'Argon-40', 'amount': 0.012598425196850395, 'unit': 'kilogram', 'categories': ('air',), 'type': 'biosphere', 'uncertainty type': 2, 'loc': -4.3741834572128555, 'u1': 1.5, 'u2': 1.2, 'u3': 1.5, 'u4': 1.1, 'u5': 2, 'u6': 1.2, 'ub': 1.5, 'scale': 0.5121584730617011}"
   ]
  },
  {
   "cell_type": "code",
   "execution_count": 18,
   "id": "2f5d3017-b3e3-4a8d-8997-c079f96c94d1",
   "metadata": {},
   "outputs": [
    {
     "data": {
      "text/plain": [
       "['simapro-ecoinvent-3.10-cutoff',\n",
       " 'simapro-ecoinvent-3.8-cutoff',\n",
       " 'simapro-ecoinvent-3.9.1-cutoff',\n",
       " 'ecoinvent-3.7.1-cutoff-ecoinvent-3.8-cutoff',\n",
       " 'ecoinvent-3.8-cutoff-ecoinvent-3.9-cutoff',\n",
       " 'ecoinvent-3.9.1-cutoff-ecoinvent-3.10-cutoff',\n",
       " 'ecoinvent-3.8-biosphere-ecoinvent-3.9-biosphere',\n",
       " 'ecoinvent-3.9.1-biosphere-ecoinvent-3.10-biosphere',\n",
       " 'generic-brightway-units-normalization',\n",
       " 'generic-brightway-unit-conversions',\n",
       " 'simapro-9-ecoinvent-3-context',\n",
       " 'SimaPro-9-ecoinvent-3.9-biosphere',\n",
       " 'ecoinvent-2.2-biosphere-context-ecoinvent-3.0-biosphere-context',\n",
       " 'ecoinvent-2.2-biosphere-ecoinvent-3.0-biosphere',\n",
       " 'simapro-ecoinvent-3.5-apos',\n",
       " 'simapro-ecoinvent-3.5-cutoff',\n",
       " 'simapro-ecoinvent-3.5-consequential',\n",
       " 'SimaPro-9-ecoinvent-3.8-biosphere-manual-matches',\n",
       " 'SimaPro-9-ecoinvent-3.9-biosphere-manual-matches',\n",
       " 'simapro-9-ecoinvent-3-water-slash-m3',\n",
       " 'agribalyse-3.1.1-delete-aggregated-ecoinvent',\n",
       " 'agribalyse-3.1.1-restore-simapro-ecoinvent-names',\n",
       " 'agribalyse-3.1.1-biosphere-ecoinvent-3.8-biosphere',\n",
       " 'SimaPro-9-ecoinvent-3.8-biosphere',\n",
       " 'agribalyse-3.1.1-ecoinvent-3.10-biosphere-manual-matches',\n",
       " 'agrifootprint-2022-delete-aggregated-ecoinvent',\n",
       " 'agrifootprint-2022-restore-simapro-ecoinvent-names',\n",
       " 'agrifootprint-2022-ecoinvent-3.10-biosphere',\n",
       " 'agrifootprint-2022-ecoinvent-3.8-biosphere']"
      ]
     },
     "execution_count": 18,
     "metadata": {},
     "output_type": "execute_result"
    }
   ],
   "source": [
    "import randonneur_data as rd\n",
    "registry = rd.Registry()\n",
    "list(registry)"
   ]
  },
  {
   "cell_type": "code",
   "execution_count": 19,
   "id": "97a595aa-6f8b-4e6e-9c0f-50922caab620",
   "metadata": {},
   "outputs": [
    {
     "data": {
      "text/plain": [
       "{'replace': [{'source': {'name': 'Ethyne',\n",
       "    'formula': 'C2H2',\n",
       "    'unit': 'kg',\n",
       "    'uuid': '42a2f3e7-5393-4a69-9b0b-f70a9139ee24'},\n",
       "   'target': {'name': 'Acetylene',\n",
       "    'uuid': '42a2f3e7-5393-4a69-9b0b-f70a9139ee24'},\n",
       "   'comment': 'Flow attribute change not listed in change report'},\n",
       "  {'source': {'name': 'Propylamine',\n",
       "    'formula': 'C3H9N',\n",
       "    'unit': 'kg',\n",
       "    'uuid': '813b3b1d-4b12-44cd-bbb9-5c384ba019d2'},\n",
       "   'target': {'name': 'Propyl amine',\n",
       "    'uuid': '813b3b1d-4b12-44cd-bbb9-5c384ba019d2'},\n",
       "   'comment': 'Flow attribute change not listed in change report'}],\n",
       " 'delete': [{'source': {'uuid': '91861063-1826-4860-9957-7c5bde5817a6',\n",
       "    'name': 'Salt water (obsolete)'},\n",
       "   'comment': 'There is no salt water flow in ecoinvent.'}]}"
      ]
     },
     "execution_count": 19,
     "metadata": {},
     "output_type": "execute_result"
    }
   ],
   "source": [
    "registry.sample('ecoinvent-3.9.1-biosphere-ecoinvent-3.10-biosphere')"
   ]
  },
  {
   "cell_type": "code",
   "execution_count": 20,
   "id": "5c5e518a-596d-4f71-ae0e-7d4e4b4f4d32",
   "metadata": {},
   "outputs": [
    {
     "data": {
      "text/plain": [
       "\u001b[31mSignature:\u001b[39m\n",
       "imp.randonneur(\n",
       "    label: Optional[str] = \u001b[38;5;28;01mNone\u001b[39;00m,\n",
       "    data_registry_path: Optional[pathlib.Path] = \u001b[38;5;28;01mNone\u001b[39;00m,\n",
       "    datapackage: Optional[randonneur.datapackage.Datapackage] = \u001b[38;5;28;01mNone\u001b[39;00m,\n",
       "    fields: Optional[list] = \u001b[38;5;28;01mNone\u001b[39;00m,\n",
       "    mapping: Optional[dict] = \u001b[38;5;28;01mNone\u001b[39;00m,\n",
       "    node_filter: Optional[Callable] = \u001b[38;5;28;01mNone\u001b[39;00m,\n",
       "    edge_filter: Optional[Callable] = \u001b[38;5;28;01mNone\u001b[39;00m,\n",
       "    verbose: bool = \u001b[38;5;28;01mFalse\u001b[39;00m,\n",
       "    case_sensitive: bool = \u001b[38;5;28;01mFalse\u001b[39;00m,\n",
       "    add_extra_attributes: bool = \u001b[38;5;28;01mTrue\u001b[39;00m,\n",
       "    verbs: Optional[List[str]] = [\u001b[33m'update'\u001b[39m, \u001b[33m'replace'\u001b[39m, \u001b[33m'disaggregate'\u001b[39m],\n",
       "    migrate_edges: bool = \u001b[38;5;28;01mTrue\u001b[39;00m,\n",
       "    migrate_nodes: bool = \u001b[38;5;28;01mFalse\u001b[39;00m,\n",
       ") -> \u001b[38;5;28;01mNone\u001b[39;00m\n",
       "\u001b[31mDocstring:\u001b[39m\n",
       "Apply a stored transformation from `randonneur_data`. See the `randonneur`\n",
       "[README](https://github.com/brightway-lca/randonneur/blob/main/README.md) and the\n",
       "[current registry](https://github.com/brightway-lca/randonneur_data/blob/main/randonneur_data/data/registry.json)\n",
       "for more information.\n",
       "\n",
       "`label`: Label for the transformation if loading from the `randonneur_data` registry.\n",
       "\n",
       "`data_registry_path`: Filepath for `randonneur_data` data registry. Default to the library data.\n",
       "\n",
       "`datapackage`: In-memory `randonneur.Datapackage` object if not using the `randonneur_data`\n",
       "registry.\n",
       "\n",
       "`fields`: A list of object keys as strings, used when checking if the given transformation\n",
       "matches the node or edge under consideration. In other words, only use the fields in `fields`\n",
       "when checking the `source` values in each transformation for a match. Each field in `fields`\n",
       "doesn't have to be in each transformation.\n",
       "\n",
       "If you changed labels in `mapping`, use the changed labels, not the original key labels.\n",
       "\n",
       "`mapping`: Change the labels in the `migrations` data to match your data schema. `mapping` can\n",
       "change the labels in the migration `source` and `target` sections. The `mapping` input should be\n",
       "a dict with keys \"source\" and \"target\", and have values of `{old_label: new_label}` pairs:\n",
       "\n",
       "`node_filter`: A callable which determines whether or not the given node should be modified.\n",
       "Applies to both verbs and edges, with the exception of node creation - it doesn't make sense to\n",
       "filter existing nodes as we are creating new objects.\n",
       "\n",
       "`node_filter` needs to be a callable which takes a node object and returns a boolean which tells\n",
       "if the node *should* be modified. In this example, the filter returns `False` and the node isn't\n",
       "modified:\n",
       "\n",
       "`edge_filter`: A callable which determines whether or not the given edge should be modified.\n",
       "Applies only to edge transformations, and does *not* apply to edge creation, as this function is\n",
       "always called on the edge to modified, not on the transformation object.\n",
       "Returns\n",
       "\n",
       "`edge_filter` needs to be a callable which takes an edge object and returns a boolean which\n",
       "indicates if the edge *should* be modified.\n",
       "\n",
       "`verbose`: Display progress bars and more logging messages.\n",
       "\n",
       "`case_sensitive`: Flag indicating whether to do case sensitive matching of transformations to\n",
       "nodes or edges in the graph. Default is false, as practical experience has shown us that cases\n",
       "get commonly changed by software developers or users. Only applies to string values.\n",
       "\n",
       "`add_extra_attributes`: Flag indicating whether to include additional attributes when doing\n",
       "replace, update, and disaggregate changes. Extra attributes are defined outside the \"source\" and\n",
       "\"target\" transformation keys. Note that keys in `randonneur.utils.EXCLUDED_ATTRS` are never\n",
       "added.\n",
       "\n",
       "`verbs`: The list of transformation types from `migrations` to apply. Transformations are run\n",
       "in the order as given in `verbs`, and in some complicated cases you may want to keep the same\n",
       "verbs but change their order to get the desired output state. In general, such complicated\n",
       "transformations should be broken down to smaller discrete and independent transformations\n",
       "whenever possible, and logs checked carefully after their application.\n",
       "\n",
       "The default value of `verbs` are the \"safe\" transformations - replace, update, and disaggregate.\n",
       "To get create and delete you need to specify them in the configuration.\n",
       "\n",
       "Only the verbs `create`, `disaggregate`, `replace`, `update`, and `delete` are used in our\n",
       "functions, regardless of what is given in `verbs`, as we don't know how to handle custom verbs.\n",
       "We need to write custom functions for each verb as they have difference behaviour.\n",
       "\n",
       "`migrate_edges`: Flag on whether to apply this transformation to edges, if allowed by the\n",
       "transformation metadata.\n",
       "\n",
       "`migrate_nodes`: Flag on whether to apply this transformation to nodes, if allowed by the\n",
       "transformation metadata.\n",
       "\u001b[31mFile:\u001b[39m      /opt/tljh/user/envs/bw25/lib/python3.12/site-packages/bw2io/importers/base_lci.py\n",
       "\u001b[31mType:\u001b[39m      method"
      ]
     },
     "metadata": {},
     "output_type": "display_data"
    }
   ],
   "source": [
    "imp.randonneur?"
   ]
  },
  {
   "cell_type": "code",
   "execution_count": 8,
   "id": "33bca7c8-db81-4d49-86a2-1c0a3675f837",
   "metadata": {},
   "outputs": [
    {
     "data": {
      "text/plain": [
       "[<function bw2io.strategies.csv.csv_restore_tuples(data)>,\n",
       " <function bw2io.strategies.csv.csv_restore_booleans(data)>,\n",
       " <function bw2io.strategies.csv.csv_numerize(data)>,\n",
       " <function bw2io.strategies.csv.csv_drop_unknown(data)>,\n",
       " <function bw2io.strategies.csv.csv_add_missing_exchanges_section(data)>,\n",
       " <function bw2io.strategies.generic.normalize_units(db)>,\n",
       " <function bw2io.strategies.biosphere.normalize_biosphere_categories(db, lcia=False)>,\n",
       " <function bw2io.strategies.biosphere.normalize_biosphere_names(db, lcia=False)>,\n",
       " <function bw2io.strategies.biosphere.strip_biosphere_exc_locations(db)>,\n",
       " <function bw2io.strategies.generic.set_code_by_activity_hash(db, overwrite=False)>,\n",
       " functools.partial(<function link_iterable_by_fields at 0x7f21e27f0dc0>, other=Brightway2 SQLiteBackend: ecoinvent-3.10-biosphere, kind='biosphere'),\n",
       " <function bw2io.strategies.generic.assign_only_product_as_production(db)>,\n",
       " <function bw2io.strategies.generic.link_technosphere_by_activity_hash(db, external_db_name=None, fields=None)>,\n",
       " <function bw2io.strategies.generic.drop_falsey_uncertainty_fields_but_keep_zeros(db)>,\n",
       " <function bw2io.strategies.generic.convert_uncertainty_types_to_integers(db)>,\n",
       " <function bw2io.strategies.generic.convert_activity_parameters_to_list(data)>]"
      ]
     },
     "execution_count": 8,
     "metadata": {},
     "output_type": "execute_result"
    }
   ],
   "source": [
    "imp.strategies"
   ]
  },
  {
   "cell_type": "markdown",
   "id": "5335ab56-d053-4944-9f64-988936b11529",
   "metadata": {},
   "source": [
    "It's not going to hurt anything to apply the default transformations, and that will apply the linking functions internally."
   ]
  },
  {
   "cell_type": "code",
   "execution_count": 1,
   "id": "d1335de2-7383-4d68-b033-9bedd35732c5",
   "metadata": {},
   "outputs": [],
   "source": [
    "import randonneur_data"
   ]
  },
  {
   "cell_type": "code",
   "execution_count": null,
   "id": "c8dd53ba-4365-4beb-a3ed-afe28ed956b3",
   "metadata": {},
   "outputs": [],
   "source": [
    "bd.projects.set_current(\"<project name>\")"
   ]
  },
  {
   "cell_type": "code",
   "execution_count": 2,
   "id": "83e69d26-c8a1-4275-9eba-1934c3e164c4",
   "metadata": {},
   "outputs": [],
   "source": [
    "bd.projects.set_current(\"ecoinvent-3.10-cutoff\")"
   ]
  },
  {
   "cell_type": "code",
   "execution_count": null,
   "id": "891613f8-b235-4cce-8036-ec2ccb06a93e",
   "metadata": {},
   "outputs": [],
   "source": [
    "bi.create_core_migrations()"
   ]
  },
  {
   "cell_type": "code",
   "execution_count": null,
   "id": "861c6920-0ef0-47db-a080-e07701376628",
   "metadata": {},
   "outputs": [],
   "source": [
    "xl_importer = bi.ExcelImporter(\"lci-bike.xlsx\")"
   ]
  },
  {
   "cell_type": "code",
   "execution_count": null,
   "id": "d879b166-541b-432d-8380-0d15785f062a",
   "metadata": {},
   "outputs": [],
   "source": [
    "xl_importer.apply_strategies()"
   ]
  },
  {
   "cell_type": "code",
   "execution_count": null,
   "id": "666e8bcd-f333-495d-ac84-83acd4eda4ff",
   "metadata": {},
   "outputs": [],
   "source": [
    "xl_importer.statistics()"
   ]
  },
  {
   "cell_type": "code",
   "execution_count": null,
   "id": "7b8b5f6e-1a26-4d9f-b93d-6fbd2e06faf8",
   "metadata": {},
   "outputs": [],
   "source": [
    "for obj in xl_importer.unlinked:\n",
    "    print(obj)"
   ]
  },
  {
   "cell_type": "code",
   "execution_count": null,
   "id": "00b24aac-a774-4ebb-8069-0ee178b0a248",
   "metadata": {},
   "outputs": [],
   "source": [
    "xl_importer.match_database(fields=['name'])\n",
    "xl_importer.statistics()"
   ]
  },
  {
   "cell_type": "code",
   "execution_count": null,
   "id": "f37b3264-0014-41a2-9971-231542d6b98f",
   "metadata": {},
   "outputs": [],
   "source": [
    "xl_importer.write_database()"
   ]
  },
  {
   "cell_type": "code",
   "execution_count": null,
   "id": "806bc263-d6f3-4190-a8d0-0785ad1e5444",
   "metadata": {},
   "outputs": [],
   "source": [
    "bd.databases"
   ]
  }
 ],
 "metadata": {
  "kernelspec": {
   "display_name": "Python [conda env:bw25]",
   "language": "python",
   "name": "conda-env-bw25-py"
  },
  "language_info": {
   "codemirror_mode": {
    "name": "ipython",
    "version": 3
   },
   "file_extension": ".py",
   "mimetype": "text/x-python",
   "name": "python",
   "nbconvert_exporter": "python",
   "pygments_lexer": "ipython3",
   "version": "3.12.11"
  }
 },
 "nbformat": 4,
 "nbformat_minor": 5
}
