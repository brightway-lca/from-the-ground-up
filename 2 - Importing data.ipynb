{
 "cells": [
  {
   "cell_type": "markdown",
   "id": "b9837f16-f9ca-4bf7-8435-7148f1fda1bf",
   "metadata": {},
   "source": [
    "# Importing data\n",
    "\n",
    "Importing data means taking data in some form, and preparing it so that we can express that data as nodes and edges. On its own, this is not too challenging - it mostly means converting data formats. The harder part is harmonizing the data, so that the fields used across imported databases are consistent enough that we can link consumers and supplier.\n",
    "\n",
    "Let's make this more concrete with an example. In the file `lci-carbon-fiber.xlsx` we have data from the publication [Ecological assessment of fuel cell electric vehicles with special focus on type IV carbon fiber hydrogen tank](https://www.sciencedirect.com/science/article/abs/pii/S0959652620333229). As this data is from Excel, it is tabular, and so on its surface looks different than the graph:\n",
    "\n",
    "<img src=\"images/spreadsheet.png\">\n",
    "\n",
    "However, this difference is mostly cosmetic. Both the _document_ and _graph_ perspectives are showing the same information, but with a different emphasis and organizing structure. In the graph perspective, edges are independent objects with their own metadata, and their sources and targets are given as [pointers](https://en.wikipedia.org/wiki/Pointer_(computer_programming)) to the node objects. In the document perspective, edges are subsumed in the definition of the nodes, and because most input data formats don't have pointers, references to input or output flows are defined by the attributes of thoses flows.\n",
    "\n",
    "Because we only have flow attributes, we need to define a way that we associate those attributes with nodes in our existing databases. This is trickier than you might think, as those is no guarantee that two data providers will use the same labels for things like locations or units; indeed, sometimes we even find different labels for the same attributes.\n",
    "\n",
    "Therefore, Brightway treats IO as a classic [ETL pipeline](https://en.wikipedia.org/wiki/Extract,_transform,_load), and applies a series of transformation functions to prepare the data and find the correct flows. Let's look at our real-world example:"
   ]
  },
  {
   "cell_type": "code",
   "execution_count": 1,
   "id": "b8d8c15a-c5be-4feb-a7ab-17005d67b001",
   "metadata": {},
   "outputs": [],
   "source": [
    "import bw2data as bd\n",
    "import bw2io as bi"
   ]
  },
  {
   "cell_type": "markdown",
   "id": "e8cd71ae-1383-45d0-bc45-abbc3d7aa623",
   "metadata": {},
   "source": [
    "The example data is built on top of ecoinvent. You should update the project name to a project with ecoinvent 3.10 already installed."
   ]
  },
  {
   "cell_type": "code",
   "execution_count": null,
   "id": "c8dd53ba-4365-4beb-a3ed-afe28ed956b3",
   "metadata": {},
   "outputs": [],
   "source": [
    "bd.projects.set_current(\"<project name>\")"
   ]
  },
  {
   "cell_type": "code",
   "execution_count": null,
   "id": "891613f8-b235-4cce-8036-ec2ccb06a93e",
   "metadata": {},
   "outputs": [],
   "source": [
    "bi.create_core_migrations()"
   ]
  },
  {
   "cell_type": "code",
   "execution_count": null,
   "id": "861c6920-0ef0-47db-a080-e07701376628",
   "metadata": {},
   "outputs": [],
   "source": [
    "xl_importer = bi.ExcelImporter(\"lci-bike.xlsx\")"
   ]
  },
  {
   "cell_type": "code",
   "execution_count": null,
   "id": "d879b166-541b-432d-8380-0d15785f062a",
   "metadata": {},
   "outputs": [],
   "source": [
    "xl_importer.apply_strategies()"
   ]
  },
  {
   "cell_type": "code",
   "execution_count": null,
   "id": "666e8bcd-f333-495d-ac84-83acd4eda4ff",
   "metadata": {},
   "outputs": [],
   "source": [
    "xl_importer.statistics()"
   ]
  },
  {
   "cell_type": "code",
   "execution_count": null,
   "id": "7b8b5f6e-1a26-4d9f-b93d-6fbd2e06faf8",
   "metadata": {},
   "outputs": [],
   "source": [
    "for obj in xl_importer.unlinked:\n",
    "    print(obj)"
   ]
  },
  {
   "cell_type": "code",
   "execution_count": null,
   "id": "00b24aac-a774-4ebb-8069-0ee178b0a248",
   "metadata": {},
   "outputs": [],
   "source": [
    "xl_importer.match_database(fields=['name'])\n",
    "xl_importer.statistics()"
   ]
  },
  {
   "cell_type": "code",
   "execution_count": null,
   "id": "f37b3264-0014-41a2-9971-231542d6b98f",
   "metadata": {},
   "outputs": [],
   "source": [
    "xl_importer.write_database()"
   ]
  },
  {
   "cell_type": "code",
   "execution_count": null,
   "id": "806bc263-d6f3-4190-a8d0-0785ad1e5444",
   "metadata": {},
   "outputs": [],
   "source": [
    "bd.databases"
   ]
  }
 ],
 "metadata": {
  "kernelspec": {
   "display_name": "Python 3 (ipykernel)",
   "language": "python",
   "name": "python3"
  },
  "language_info": {
   "codemirror_mode": {
    "name": "ipython",
    "version": 3
   },
   "file_extension": ".py",
   "mimetype": "text/x-python",
   "name": "python",
   "nbconvert_exporter": "python",
   "pygments_lexer": "ipython3",
   "version": "3.11.9"
  }
 },
 "nbformat": 4,
 "nbformat_minor": 5
}
