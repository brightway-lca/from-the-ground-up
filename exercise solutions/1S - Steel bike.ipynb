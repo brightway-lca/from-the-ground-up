{
 "cells": [
  {
   "cell_type": "code",
   "execution_count": null,
   "id": "4bce7555-2e88-4398-bf2c-5ea1a34290c9",
   "metadata": {},
   "outputs": [],
   "source": [
    "import bw2data as bd\n",
    "import bw2calc as bc\n",
    "import stats_arrays as sa"
   ]
  },
  {
   "cell_type": "code",
   "execution_count": null,
   "id": "cc90c44f-d3b6-46cf-a33d-6c5f973d5c7a",
   "metadata": {},
   "outputs": [],
   "source": [
    "bd.projects.set_current(\"supply chain graph\")"
   ]
  },
  {
   "cell_type": "code",
   "execution_count": null,
   "id": "dc194a30-4a35-4c01-9d20-57b34ce36e89",
   "metadata": {},
   "outputs": [],
   "source": [
    "if \"steel bike\" in bd.databases:\n",
    "    del bd.databases[\"steel bike\"]"
   ]
  },
  {
   "cell_type": "code",
   "execution_count": null,
   "id": "c60fc1f9-2639-43ea-8427-36fe46596893",
   "metadata": {},
   "outputs": [],
   "source": [
    "sb = bd.Database(\"steel bike\")\n",
    "sb.register()"
   ]
  },
  {
   "cell_type": "code",
   "execution_count": null,
   "id": "35017e55-1ece-49be-bfcd-6101e64539b7",
   "metadata": {},
   "outputs": [],
   "source": [
    "[node for node in sb]"
   ]
  },
  {
   "cell_type": "code",
   "execution_count": null,
   "id": "b1c0d76b-37bb-43dd-b9bb-09ca50f7b0ea",
   "metadata": {},
   "outputs": [],
   "source": [
    "coal = sb.new_node(name=\"Coal\", unit=\"kg\", type=bd.labels.product_node_default)\n",
    "coal_production = sb.new_node(name=\"Coal production\", type=bd.labels.process_node_default)\n",
    "steel = sb.new_node(name=\"Steel\", unit=\"kg\", type=bd.labels.product_node_default)\n",
    "steel_production = sb.new_node(name=\"Steel production\", type=bd.labels.process_node_default)\n",
    "iron_mining = sb.new_node(name=\"Iron mining\", type=bd.labels.process_node_default)\n",
    "iron_ore = sb.new_node(name=\"Iron ore\", unit=\"kg\", type=bd.labels.product_node_default)\n",
    "iron_ore_resource = sb.new_node(\n",
    "    name=\"Iron ore\", \n",
    "    unit=\"kg\", \n",
    "    categories=(\"natural resource\",), \n",
    "    type=bd.labels.biosphere_node_default\n",
    ")\n",
    "steel_bike_manufacture = sb.new_node(\n",
    "    name=\"Steel bike manufacture\", \n",
    "    type=bd.labels.process_node_default\n",
    ")\n",
    "steel_bike = sb.new_node(name=\"Steel bike\", unit=\"unit\", type=bd.labels.product_node_default)"
   ]
  },
  {
   "cell_type": "code",
   "execution_count": null,
   "id": "016783b2-3063-4ca3-b92e-7f21aaeb9b55",
   "metadata": {},
   "outputs": [],
   "source": [
    "coal.save()\n",
    "coal_production.save()\n",
    "steel.save()\n",
    "steel_production.save()\n",
    "iron_mining.save()\n",
    "iron_ore.save()\n",
    "iron_ore_resource.save()\n",
    "steel_bike_manufacture.save()\n",
    "steel_bike.save()"
   ]
  },
  {
   "cell_type": "code",
   "execution_count": null,
   "id": "8ff448b2-d0ec-4fde-b58f-549f2b151472",
   "metadata": {},
   "outputs": [],
   "source": [
    "coal_production.new_edge(\n",
    "    input=coal,\n",
    "    amount=1,\n",
    "    type=bd.labels.production_edge_default\n",
    ").save()\n",
    "steel_production.new_edge(\n",
    "    input=steel,\n",
    "    amount=1,\n",
    "    type=bd.labels.production_edge_default\n",
    ").save()\n",
    "iron_mining.new_edge(\n",
    "    input=iron_ore,\n",
    "    amount=1,\n",
    "    type=bd.labels.production_edge_default\n",
    ").save()\n",
    "steel_bike_manufacture.new_edge(\n",
    "    input=steel_bike,\n",
    "    amount=1,\n",
    "    type=bd.labels.production_edge_default\n",
    ").save()"
   ]
  },
  {
   "cell_type": "code",
   "execution_count": null,
   "id": "bbd8ff6d-7ff7-4f52-b72e-b3e56ed22397",
   "metadata": {},
   "outputs": [],
   "source": [
    "iron_mining.new_edge(\n",
    "    input=iron_ore_resource,\n",
    "    amount=1.25, \n",
    "    uncertainty_type=sa.TriangularUncertainty.id, \n",
    "    minimum=1,\n",
    "    maximum=1.75, \n",
    "    type=bd.labels.biosphere_edge_default,\n",
    ").save()"
   ]
  },
  {
   "cell_type": "code",
   "execution_count": null,
   "id": "b0e91ca6-bd4c-4d3b-b68a-c1be2b77d9f8",
   "metadata": {},
   "outputs": [],
   "source": [
    "lca = bc.LCA({iron_ore: 1})\n",
    "lca.lci()"
   ]
  },
  {
   "cell_type": "code",
   "execution_count": null,
   "id": "954de450-451c-47af-bf59-368231cffa64",
   "metadata": {},
   "outputs": [],
   "source": [
    "lca.technosphere_matrix.todense()"
   ]
  },
  {
   "cell_type": "code",
   "execution_count": null,
   "id": "8b12861e-de28-4676-8a2a-61806c521d1d",
   "metadata": {},
   "outputs": [],
   "source": [
    "for k, v in lca.dicts.activity.reversed.items():\n",
    "    print(k, bd.get_node(id=v))\n",
    "\n",
    "for k, v in lca.dicts.product.reversed.items():\n",
    "    print(k, bd.get_node(id=v))"
   ]
  },
  {
   "cell_type": "code",
   "execution_count": null,
   "id": "ea99ec9a-99ad-427f-bcbd-a7494732aacf",
   "metadata": {},
   "outputs": [],
   "source": [
    "steel_production.new_edge(\n",
    "    input=iron_ore,\n",
    "    amount=1.1, \n",
    "    uncertainty_type=sa.TriangularUncertainty.id, \n",
    "    minimum=1,\n",
    "    maximum=1.25, \n",
    "    type=bd.labels.consumption_edge_default,\n",
    ").save()"
   ]
  },
  {
   "cell_type": "code",
   "execution_count": null,
   "id": "24c41aef-d4e9-4d97-8bf3-a7b9af173526",
   "metadata": {},
   "outputs": [],
   "source": [
    "steel_production.new_edge(\n",
    "    input=coal,\n",
    "    amount=0.2, \n",
    "    uncertainty_type=sa.TriangularUncertainty.id, \n",
    "    minimum=0.1,\n",
    "    maximum=0.5, \n",
    "    type=bd.labels.consumption_edge_default,\n",
    ").save()"
   ]
  },
  {
   "cell_type": "code",
   "execution_count": null,
   "id": "18c94e57-d8a4-4e99-b548-b2691c0e8d83",
   "metadata": {},
   "outputs": [],
   "source": [
    "steel_bike_manufacture.new_edge(\n",
    "    input=steel,\n",
    "    amount=8, \n",
    "    uncertainty_type=5, \n",
    "    minimum=4,\n",
    "    maximum=15, \n",
    "    type=bd.labels.consumption_edge_default,\n",
    ").save()"
   ]
  },
  {
   "cell_type": "code",
   "execution_count": null,
   "id": "ca8b66f1-3240-485e-b05e-b3238c2eb6ce",
   "metadata": {},
   "outputs": [],
   "source": [
    "iron_mining.new_edge(\n",
    "    input=steel_bike,\n",
    "    amount=0.001, \n",
    "    type=bd.labels.consumption_edge_default,\n",
    ").save()\n",
    "coal_production.new_edge(\n",
    "    input=steel_bike,\n",
    "    amount=0.001, \n",
    "    type=bd.labels.consumption_edge_default,\n",
    ").save()\n",
    "steel_production.new_edge(\n",
    "    input=steel_bike,\n",
    "    amount=0.001, \n",
    "    type=bd.labels.consumption_edge_default,\n",
    ").save()"
   ]
  },
  {
   "cell_type": "code",
   "execution_count": null,
   "id": "80be6081-ce89-4ff8-a137-2ae853ffe0b1",
   "metadata": {},
   "outputs": [],
   "source": [
    "bd.Method((\"resources\",)).write([\n",
    "    (iron_ore_resource, {\n",
    "        'amount': 3.141, \n",
    "        'uncertainty_type': sa.NormalUncertainty.id, \n",
    "        'loc': 3.141, \n",
    "        'scale': 0.5926535\n",
    "    }),\n",
    "])"
   ]
  },
  {
   "cell_type": "code",
   "execution_count": null,
   "id": "366cbc0f-9977-4165-a0cd-172d4f99fcd5",
   "metadata": {},
   "outputs": [],
   "source": [
    "lca = bc.LCA({steel_bike: 1}, (\"resources\",))\n",
    "lca.lci()\n",
    "lca.lcia()"
   ]
  },
  {
   "cell_type": "code",
   "execution_count": null,
   "id": "bc21dbcb-5389-43a0-8241-cb1b0286a618",
   "metadata": {},
   "outputs": [],
   "source": [
    "lca.score"
   ]
  }
 ],
 "metadata": {
  "kernelspec": {
   "display_name": "Python [conda env:bw25]",
   "language": "python",
   "name": "conda-env-bw25-py"
  },
  "language_info": {
   "codemirror_mode": {
    "name": "ipython",
    "version": 3
   },
   "file_extension": ".py",
   "mimetype": "text/x-python",
   "name": "python",
   "nbconvert_exporter": "python",
   "pygments_lexer": "ipython3",
   "version": "3.12.11"
  }
 },
 "nbformat": 4,
 "nbformat_minor": 5
}
