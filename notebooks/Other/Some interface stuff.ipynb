{
 "cells": [
  {
   "cell_type": "code",
   "execution_count": 1,
   "id": "0d966dd8-e5f3-4b20-be98-08feeda8a52f",
   "metadata": {},
   "outputs": [],
   "source": [
    "import bw2data as bd\n",
    "import bw2io as bi\n",
    "import bw2calc as bc\n",
    "import pandas as pd\n",
    "from scipy.special import expit\n",
    "from matplotlib import pyplot as plt\n",
    "import numpy as np\n",
    "import bw_processing as bwp"
   ]
  },
  {
   "cell_type": "code",
   "execution_count": 2,
   "id": "a62f1ea5-d085-4fd4-84af-7d96002973e4",
   "metadata": {},
   "outputs": [],
   "source": [
    "def replacement(cf_mass):\n",
    "    return 5 - cf_mass * (1 + expit(cf_mass * 4 - 5)) + np.random.rand()"
   ]
  },
  {
   "cell_type": "code",
   "execution_count": 4,
   "id": "5e2b74f7-73e7-4983-a0f6-109e636eecd5",
   "metadata": {},
   "outputs": [],
   "source": [
    "class MyCoolAluminiumThing:\n",
    "    def __next__(self):\n",
    "        cf = np.random.rand() * 2.5\n",
    "        alu = replacement(cf)\n",
    "        return np.array([cf, alu])"
   ]
  },
  {
   "cell_type": "code",
   "execution_count": 26,
   "id": "a872e25d-4424-44fa-9524-bd0a77a92254",
   "metadata": {},
   "outputs": [
    {
     "data": {
      "text/plain": [
       "array([1.36071002, 3.59916079])"
      ]
     },
     "execution_count": 26,
     "metadata": {},
     "output_type": "execute_result"
    }
   ],
   "source": [
    "my_interface = MyCoolAluminiumThing()\n",
    "next(my_interface)"
   ]
  },
  {
   "cell_type": "code",
   "execution_count": 5,
   "id": "69ae26f1-fcd8-4f8b-b455-1bb77fa43926",
   "metadata": {},
   "outputs": [],
   "source": [
    "bd.projects.set_current(\"fresh-start\")"
   ]
  },
  {
   "cell_type": "code",
   "execution_count": 6,
   "id": "790fb7f4-1a78-49ec-93f9-202356fbe50c",
   "metadata": {},
   "outputs": [],
   "source": [
    "if \"mobility\" in bd.databases:\n",
    "    del bd.databases['mobility']\n",
    "    \n",
    "if \"biosphere\" in bd.databases:\n",
    "    del bd.databases['biosphere']    "
   ]
  },
  {
   "cell_type": "code",
   "execution_count": 7,
   "id": "ad27fef4-a2a7-4afd-ae5b-0f8e4567bf19",
   "metadata": {},
   "outputs": [],
   "source": [
    "db = bd.Database(\"mobility\")\n",
    "db.register()\n",
    "\n",
    "biosphere = bd.Database(\"biosphere\")\n",
    "biosphere.register()"
   ]
  },
  {
   "cell_type": "code",
   "execution_count": 8,
   "id": "c6b558d9-203f-4bb9-ac09-408efe3ba2b7",
   "metadata": {},
   "outputs": [],
   "source": [
    "data = {\n",
    "    'code': 'bike',\n",
    "    'name': 'bike production',\n",
    "    'location': 'NO',\n",
    "    'unit': 'bike'\n",
    "}\n",
    "\n",
    "bike = db.new_activity(**data)\n",
    "bike.save()"
   ]
  },
  {
   "cell_type": "code",
   "execution_count": 9,
   "id": "03377b96-7e5e-4bc7-a524-428049cc1d3d",
   "metadata": {},
   "outputs": [],
   "source": [
    "data = {\n",
    "    'code': 'CF',\n",
    "    'name': 'carbon fibre',\n",
    "    'unit': 'kilogram',\n",
    "    'location': 'CN'\n",
    "}\n",
    "\n",
    "cf = db.new_activity(**data)\n",
    "cf.save()"
   ]
  },
  {
   "cell_type": "code",
   "execution_count": 10,
   "id": "9515d66f-c46b-4ab8-8254-dd87ce48096b",
   "metadata": {},
   "outputs": [],
   "source": [
    "data = {\n",
    "    'code': 'Alu',\n",
    "    'name': 'Aluminium',\n",
    "    'unit': 'kilogram',\n",
    "    'location': 'NO'\n",
    "}\n",
    "\n",
    "alu = db.new_activity(**data)\n",
    "alu.save()"
   ]
  },
  {
   "cell_type": "code",
   "execution_count": 11,
   "id": "c3ed02ab-2b7e-42d4-b03b-cb386b7603d8",
   "metadata": {},
   "outputs": [],
   "source": [
    "ng = db.new_activity(\n",
    "    name=\"Nat Gas\", \n",
    "    code='ng', \n",
    "    location='NO', \n",
    "    unit='MJ'\n",
    ")\n",
    "\n",
    "ng.save()"
   ]
  },
  {
   "cell_type": "code",
   "execution_count": 12,
   "id": "05eb6c4c-10d8-4430-875f-2a32ac9efd2c",
   "metadata": {},
   "outputs": [],
   "source": [
    "co2 = biosphere.new_activity(\n",
    "    name=\"Carbon Dioxide\", \n",
    "    code='co2', \n",
    "    categories=('air',),\n",
    "    type='emission',\n",
    ")\n",
    "\n",
    "co2.save()"
   ]
  },
  {
   "cell_type": "code",
   "execution_count": 13,
   "id": "49d2d738-7e14-40df-8dd0-e9023189ab9b",
   "metadata": {},
   "outputs": [],
   "source": [
    "bike.new_exchange(\n",
    "    amount=2.5, \n",
    "    type='technosphere',\n",
    "    input=cf\n",
    ").save()"
   ]
  },
  {
   "cell_type": "code",
   "execution_count": 14,
   "id": "f8a43b0f-eadc-479e-b8d2-ceab232f0bae",
   "metadata": {},
   "outputs": [],
   "source": [
    "bike.new_exchange(\n",
    "    amount=0, \n",
    "    type='technosphere',\n",
    "    input=alu,\n",
    ").save()"
   ]
  },
  {
   "cell_type": "code",
   "execution_count": 15,
   "id": "6c33d5c2-b27e-4640-952f-ad8ca76cf35a",
   "metadata": {},
   "outputs": [],
   "source": [
    "cf.new_exchange(\n",
    "    amount=237.3,  # plus 58 kWh of electricity, in ecoinvent 3.8 \n",
    "    uncertainty_type=5, \n",
    "    minimum=200, \n",
    "    maximum=300, \n",
    "    type='technosphere',\n",
    "    input=ng,\n",
    ").save()"
   ]
  },
  {
   "cell_type": "code",
   "execution_count": 16,
   "id": "525489dd-caf0-401c-80bc-8ea0f3b8cb71",
   "metadata": {},
   "outputs": [],
   "source": [
    "ng.new_exchange(\n",
    "    amount=26.6 / 237, \n",
    "    uncertainty_type=5, \n",
    "    minimum=26 / 237,\n",
    "    maximum=27.2 / 237, \n",
    "    type='biosphere',\n",
    "    input=co2,\n",
    ").save()"
   ]
  },
  {
   "cell_type": "code",
   "execution_count": 17,
   "id": "8b200ec3-c10b-4fe7-918e-c4d76812453d",
   "metadata": {},
   "outputs": [],
   "source": [
    "alu.new_exchange(\n",
    "    amount=8, \n",
    "    uncertainty_type=2, \n",
    "    loc=8,\n",
    "    scale=1,\n",
    "    type='biosphere',\n",
    "    input=co2,\n",
    ").save()"
   ]
  },
  {
   "cell_type": "code",
   "execution_count": 18,
   "id": "e6420904-e037-4046-ad2d-cf97188722b5",
   "metadata": {},
   "outputs": [],
   "source": [
    "ipcc = bd.Method(('IPCC',))\n",
    "ipcc.write([\n",
    "    (co2.key, {'amount': 1, 'uncertainty_type': 3, 'loc': 1, 'scale': 0.05}),\n",
    "])"
   ]
  },
  {
   "cell_type": "code",
   "execution_count": 19,
   "id": "f031fe36-d25f-41bc-a099-c1e5f77806ab",
   "metadata": {},
   "outputs": [],
   "source": [
    "import bw2calc as bc"
   ]
  },
  {
   "cell_type": "markdown",
   "id": "ff85f580-13cc-4d11-93d3-3b5acd0b5ae8",
   "metadata": {},
   "source": [
    "What if we only want uncertainty in the characterization step?\n",
    "\n",
    "We need to modify the datapackage a bit"
   ]
  },
  {
   "cell_type": "code",
   "execution_count": 20,
   "id": "2504a424-c376-4ed8-9a9f-fb448e2d334f",
   "metadata": {},
   "outputs": [],
   "source": [
    "from bw_processing import load_datapackage\n",
    "from fs.zipfs import ZipFS"
   ]
  },
  {
   "cell_type": "code",
   "execution_count": 21,
   "id": "6ee62fb6-a338-4b2c-a689-0562af0777ab",
   "metadata": {},
   "outputs": [],
   "source": [
    "database_dp = load_datapackage(ZipFS(db.filepath_processed()))\n",
    "method_dp = load_datapackage(ZipFS(ipcc.filepath_processed()))"
   ]
  },
  {
   "cell_type": "markdown",
   "id": "3f1793c6-03a2-42b0-b56d-0ef926951514",
   "metadata": {},
   "source": [
    "We can use the datapackages directly, just as before:"
   ]
  },
  {
   "cell_type": "code",
   "execution_count": 22,
   "id": "ebb4a64c-a691-47bd-92cf-793c3bd7764c",
   "metadata": {},
   "outputs": [],
   "source": [
    "interface_dp = bwp.create_datapackage()"
   ]
  },
  {
   "cell_type": "code",
   "execution_count": 23,
   "id": "3f5e8fbd-9907-4aa1-9977-b612dab93e3d",
   "metadata": {},
   "outputs": [
    {
     "data": {
      "text/plain": [
       "array([(2651, 2650), (2652, 2650)], dtype=[('row', '<i4'), ('col', '<i4')])"
      ]
     },
     "execution_count": 23,
     "metadata": {},
     "output_type": "execute_result"
    }
   ],
   "source": [
    "indices_array = np.array([(cf.id, bike.id), (alu.id, bike.id)], dtype=bwp.INDICES_DTYPE)\n",
    "indices_array"
   ]
  },
  {
   "cell_type": "code",
   "execution_count": 24,
   "id": "169f92f0-4d33-4ff6-833c-f823476d3bea",
   "metadata": {},
   "outputs": [
    {
     "data": {
      "text/plain": [
       "{2651: 'carbon fibre' (kilogram, CN, None),\n",
       " 2652: 'Aluminium' (kilogram, NO, None),\n",
       " 2653: 'Nat Gas' (MJ, NO, None),\n",
       " 2650: 'bike production' (bike, NO, None)}"
      ]
     },
     "execution_count": 24,
     "metadata": {},
     "output_type": "execute_result"
    }
   ],
   "source": [
    "{o.id: o for o in db}"
   ]
  },
  {
   "cell_type": "code",
   "execution_count": 25,
   "id": "f28db04b-c943-44f5-a755-707b3c98cbac",
   "metadata": {},
   "outputs": [
    {
     "data": {
      "text/plain": [
       "\u001b[0;31mSignature:\u001b[0m\n",
       "\u001b[0minterface_dp\u001b[0m\u001b[0;34m.\u001b[0m\u001b[0madd_dynamic_vector\u001b[0m\u001b[0;34m(\u001b[0m\u001b[0;34m\u001b[0m\n",
       "\u001b[0;34m\u001b[0m    \u001b[0;34m*\u001b[0m\u001b[0;34m,\u001b[0m\u001b[0;34m\u001b[0m\n",
       "\u001b[0;34m\u001b[0m    \u001b[0mmatrix\u001b[0m\u001b[0;34m:\u001b[0m \u001b[0mstr\u001b[0m\u001b[0;34m,\u001b[0m\u001b[0;34m\u001b[0m\n",
       "\u001b[0;34m\u001b[0m    \u001b[0minterface\u001b[0m\u001b[0;34m:\u001b[0m \u001b[0mAny\u001b[0m\u001b[0;34m,\u001b[0m\u001b[0;34m\u001b[0m\n",
       "\u001b[0;34m\u001b[0m    \u001b[0mindices_array\u001b[0m\u001b[0;34m:\u001b[0m \u001b[0mnumpy\u001b[0m\u001b[0;34m.\u001b[0m\u001b[0mndarray\u001b[0m\u001b[0;34m,\u001b[0m\u001b[0;34m\u001b[0m\n",
       "\u001b[0;34m\u001b[0m    \u001b[0mname\u001b[0m\u001b[0;34m:\u001b[0m \u001b[0mOptional\u001b[0m\u001b[0;34m[\u001b[0m\u001b[0mstr\u001b[0m\u001b[0;34m]\u001b[0m \u001b[0;34m=\u001b[0m \u001b[0;32mNone\u001b[0m\u001b[0;34m,\u001b[0m\u001b[0;34m\u001b[0m\n",
       "\u001b[0;34m\u001b[0m    \u001b[0mflip_array\u001b[0m\u001b[0;34m:\u001b[0m \u001b[0mOptional\u001b[0m\u001b[0;34m[\u001b[0m\u001b[0mnumpy\u001b[0m\u001b[0;34m.\u001b[0m\u001b[0mndarray\u001b[0m\u001b[0;34m]\u001b[0m \u001b[0;34m=\u001b[0m \u001b[0;32mNone\u001b[0m\u001b[0;34m,\u001b[0m\u001b[0;34m\u001b[0m\n",
       "\u001b[0;34m\u001b[0m    \u001b[0mkeep_proxy\u001b[0m\u001b[0;34m:\u001b[0m \u001b[0mbool\u001b[0m \u001b[0;34m=\u001b[0m \u001b[0;32mFalse\u001b[0m\u001b[0;34m,\u001b[0m\u001b[0;34m\u001b[0m\n",
       "\u001b[0;34m\u001b[0m    \u001b[0;34m**\u001b[0m\u001b[0mkwargs\u001b[0m\u001b[0;34m,\u001b[0m\u001b[0;34m\u001b[0m\n",
       "\u001b[0;34m\u001b[0m\u001b[0;34m)\u001b[0m \u001b[0;34m->\u001b[0m \u001b[0;32mNone\u001b[0m\u001b[0;34m\u001b[0m\u001b[0;34m\u001b[0m\u001b[0m\n",
       "\u001b[0;31mDocstring:\u001b[0m <no docstring>\n",
       "\u001b[0;31mFile:\u001b[0m      ~/miniconda3/envs/bw25rc/lib/python3.9/site-packages/bw_processing/datapackage.py\n",
       "\u001b[0;31mType:\u001b[0m      method\n"
      ]
     },
     "metadata": {},
     "output_type": "display_data"
    }
   ],
   "source": [
    "interface_dp.add_dynamic_vector?"
   ]
  },
  {
   "cell_type": "code",
   "execution_count": 27,
   "id": "c56543d1-79e2-497a-abf9-303464715399",
   "metadata": {},
   "outputs": [],
   "source": [
    "interface_dp.add_dynamic_vector(\n",
    "    matrix=\"technosphere_matrix\",\n",
    "    interface=my_interface,\n",
    "    name=\"alu replacing CF interface\",\n",
    "    flip_array=np.array([True, True]),\n",
    "    indices_array=indices_array,\n",
    ")    "
   ]
  },
  {
   "cell_type": "code",
   "execution_count": 28,
   "id": "146f6ad7-175d-45c8-8962-5d1024fe8e1c",
   "metadata": {},
   "outputs": [],
   "source": [
    "lca = bc.LCA(\n",
    "    demand={bike.id: 1},\n",
    "    data_objs=[database_dp, method_dp, interface_dp],\n",
    "    use_distributions=False,\n",
    "    # use_arrays=True,\n",
    "    seed_override=None\n",
    ")\n",
    "lca.lci()\n",
    "lca.lcia()"
   ]
  },
  {
   "cell_type": "code",
   "execution_count": 29,
   "id": "f583caa4-15c9-4abb-9722-0fe7151ecc25",
   "metadata": {},
   "outputs": [
    {
     "data": {
      "text/html": [
       "<div>\n",
       "<style scoped>\n",
       "    .dataframe tbody tr th:only-of-type {\n",
       "        vertical-align: middle;\n",
       "    }\n",
       "\n",
       "    .dataframe tbody tr th {\n",
       "        vertical-align: top;\n",
       "    }\n",
       "\n",
       "    .dataframe thead th {\n",
       "        text-align: right;\n",
       "    }\n",
       "</style>\n",
       "<table border=\"1\" class=\"dataframe\">\n",
       "  <thead>\n",
       "    <tr style=\"text-align: right;\">\n",
       "      <th></th>\n",
       "      <th>score</th>\n",
       "      <th>inv</th>\n",
       "      <th>char</th>\n",
       "    </tr>\n",
       "  </thead>\n",
       "  <tbody>\n",
       "    <tr>\n",
       "      <th>0</th>\n",
       "      <td>66.991851</td>\n",
       "      <td>66.991851</td>\n",
       "      <td>1.0</td>\n",
       "    </tr>\n",
       "    <tr>\n",
       "      <th>1</th>\n",
       "      <td>64.444448</td>\n",
       "      <td>64.444448</td>\n",
       "      <td>1.0</td>\n",
       "    </tr>\n",
       "    <tr>\n",
       "      <th>2</th>\n",
       "      <td>52.687967</td>\n",
       "      <td>52.687967</td>\n",
       "      <td>1.0</td>\n",
       "    </tr>\n",
       "    <tr>\n",
       "      <th>3</th>\n",
       "      <td>61.382886</td>\n",
       "      <td>61.382886</td>\n",
       "      <td>1.0</td>\n",
       "    </tr>\n",
       "    <tr>\n",
       "      <th>4</th>\n",
       "      <td>72.727043</td>\n",
       "      <td>72.727043</td>\n",
       "      <td>1.0</td>\n",
       "    </tr>\n",
       "    <tr>\n",
       "      <th>5</th>\n",
       "      <td>68.091807</td>\n",
       "      <td>68.091807</td>\n",
       "      <td>1.0</td>\n",
       "    </tr>\n",
       "    <tr>\n",
       "      <th>6</th>\n",
       "      <td>61.560548</td>\n",
       "      <td>61.560548</td>\n",
       "      <td>1.0</td>\n",
       "    </tr>\n",
       "    <tr>\n",
       "      <th>7</th>\n",
       "      <td>59.417452</td>\n",
       "      <td>59.417452</td>\n",
       "      <td>1.0</td>\n",
       "    </tr>\n",
       "    <tr>\n",
       "      <th>8</th>\n",
       "      <td>48.682113</td>\n",
       "      <td>48.682113</td>\n",
       "      <td>1.0</td>\n",
       "    </tr>\n",
       "    <tr>\n",
       "      <th>9</th>\n",
       "      <td>59.373211</td>\n",
       "      <td>59.373211</td>\n",
       "      <td>1.0</td>\n",
       "    </tr>\n",
       "  </tbody>\n",
       "</table>\n",
       "</div>"
      ],
      "text/plain": [
       "       score        inv  char\n",
       "0  66.991851  66.991851   1.0\n",
       "1  64.444448  64.444448   1.0\n",
       "2  52.687967  52.687967   1.0\n",
       "3  61.382886  61.382886   1.0\n",
       "4  72.727043  72.727043   1.0\n",
       "5  68.091807  68.091807   1.0\n",
       "6  61.560548  61.560548   1.0\n",
       "7  59.417452  59.417452   1.0\n",
       "8  48.682113  48.682113   1.0\n",
       "9  59.373211  59.373211   1.0"
      ]
     },
     "execution_count": 29,
     "metadata": {},
     "output_type": "execute_result"
    }
   ],
   "source": [
    "pd.DataFrame([\n",
    "    {\n",
    "        'score': lca.score, \n",
    "        'inv': lca.inventory.sum(), \n",
    "        'char': lca.characterization_matrix.sum()\n",
    "    } for _, _ in zip(lca, range(10))\n",
    "])"
   ]
  },
  {
   "cell_type": "code",
   "execution_count": 34,
   "id": "e3f2d34b-19cb-4f6f-8e4f-eb573163a97b",
   "metadata": {},
   "outputs": [
    {
     "data": {
      "text/plain": [
       "array([[   1.        ,    0.        ,    0.        ,    0.        ],\n",
       "       [  -1.22493402,    1.        ,    0.        ,    0.        ],\n",
       "       [  -3.58521285,    0.        ,    1.        ,    0.        ],\n",
       "       [   0.        , -237.30000305,    0.        ,    1.        ]])"
      ]
     },
     "execution_count": 34,
     "metadata": {},
     "output_type": "execute_result"
    }
   ],
   "source": [
    "lca.technosphere_matrix.toarray()"
   ]
  },
  {
   "cell_type": "code",
   "execution_count": 35,
   "id": "5383cbfa-f86f-4ef1-baf6-ec20d4ee90c1",
   "metadata": {},
   "outputs": [],
   "source": [
    "next(lca)"
   ]
  },
  {
   "cell_type": "code",
   "execution_count": null,
   "id": "1c490d87-230d-4ce1-a663-4a17de0a2f7e",
   "metadata": {},
   "outputs": [],
   "source": []
  }
 ],
 "metadata": {
  "kernelspec": {
   "display_name": "Python 3 (ipykernel)",
   "language": "python",
   "name": "python3"
  },
  "language_info": {
   "codemirror_mode": {
    "name": "ipython",
    "version": 3
   },
   "file_extension": ".py",
   "mimetype": "text/x-python",
   "name": "python",
   "nbconvert_exporter": "python",
   "pygments_lexer": "ipython3",
   "version": "3.9.7"
  }
 },
 "nbformat": 4,
 "nbformat_minor": 5
}
