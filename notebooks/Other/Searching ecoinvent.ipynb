{
 "cells": [
  {
   "cell_type": "code",
   "execution_count": 1,
   "id": "fb541423-5bba-4920-83c9-b045a0947605",
   "metadata": {},
   "outputs": [],
   "source": [
    "import bw2data as bd"
   ]
  },
  {
   "cell_type": "code",
   "execution_count": 2,
   "id": "e9192d7f-e381-45dd-bbc2-ac8dae0744d6",
   "metadata": {},
   "outputs": [
    {
     "data": {
      "text/plain": [
       "Databases dictionary with 2 object(s):\n",
       "\tbiosphere3\n",
       "\tecoinvent 3.8 cutoff"
      ]
     },
     "execution_count": 2,
     "metadata": {},
     "output_type": "execute_result"
    }
   ],
   "source": [
    "bd.databases"
   ]
  },
  {
   "cell_type": "code",
   "execution_count": 3,
   "id": "3ce9b43d-c98c-4774-a272-6ea01e3154c0",
   "metadata": {},
   "outputs": [],
   "source": [
    "ei = bd.Database(\"ecoinvent 3.8 cutoff\")"
   ]
  },
  {
   "cell_type": "code",
   "execution_count": 8,
   "id": "c7d7f3c3-c0c3-43cb-9228-fd53202aa4a8",
   "metadata": {},
   "outputs": [],
   "source": [
    "truck = [x for x in ei if x['name'] == 'transport, freight, lorry >32 metric ton, EURO5'][0]"
   ]
  },
  {
   "cell_type": "code",
   "execution_count": 9,
   "id": "18a3b13c-38cf-4e55-bf5f-d08e1a4a2135",
   "metadata": {},
   "outputs": [
    {
     "data": {
      "text/plain": [
       "'transport, freight, lorry >32 metric ton, EURO5' (ton kilometer, RER, None)"
      ]
     },
     "execution_count": 9,
     "metadata": {},
     "output_type": "execute_result"
    }
   ],
   "source": [
    "truck"
   ]
  },
  {
   "cell_type": "code",
   "execution_count": 10,
   "id": "b55bad97-55d9-43b4-96ba-1d0617c24566",
   "metadata": {},
   "outputs": [
    {
     "name": "stdout",
     "output_type": "stream",
     "text": [
      "Exchange: 9.65e-08 unit 'market for maintenance, lorry 16 metric ton' (unit, RER, None) to 'transport, freight, lorry >32 metric ton, EURO5' (ton kilometer, RER, None)>\n",
      "Exchange: -1.6912030075188e-05 kilogram 'market for brake wear emissions, lorry' (kilogram, GLO, None) to 'transport, freight, lorry >32 metric ton, EURO5' (ton kilometer, RER, None)>\n",
      "Exchange: 9.65e-08 unit 'market for lorry, 16 metric ton' (unit, RER, None) to 'transport, freight, lorry >32 metric ton, EURO5' (ton kilometer, RER, None)>\n",
      "Exchange: -0.00016756015037594 kilogram 'market for tyre wear emissions, lorry' (kilogram, GLO, None) to 'transport, freight, lorry >32 metric ton, EURO5' (ton kilometer, RER, None)>\n",
      "Exchange: 0.00109 meter-year 'market for road' (meter-year, GLO, None) to 'transport, freight, lorry >32 metric ton, EURO5' (ton kilometer, RER, None)>\n",
      "Exchange: 8.09172e-05 meter-year 'market for road maintenance' (meter-year, RER, None) to 'transport, freight, lorry >32 metric ton, EURO5' (ton kilometer, RER, None)>\n",
      "Exchange: -1.45614035087719e-05 kilogram 'market for road wear emissions, lorry' (kilogram, GLO, None) to 'transport, freight, lorry >32 metric ton, EURO5' (ton kilometer, RER, None)>\n",
      "Exchange: 0.0191707074621 kilogram 'market group for diesel, low-sulfur' (kilogram, RER, None) to 'transport, freight, lorry >32 metric ton, EURO5' (ton kilometer, RER, None)>\n"
     ]
    }
   ],
   "source": [
    "for exc in truck.technosphere():\n",
    "    print(exc)"
   ]
  },
  {
   "cell_type": "code",
   "execution_count": 12,
   "id": "e867778d-f398-48f7-94f1-7da004ad1b5f",
   "metadata": {},
   "outputs": [
    {
     "data": {
      "text/plain": [
       "{'market for diesel',\n",
       " 'market for diesel, burned in agricultural machinery',\n",
       " 'market for diesel, burned in building machine',\n",
       " 'market for diesel, burned in diesel-electric generating set, 10MW',\n",
       " 'market for diesel, burned in diesel-electric generating set, 18.5kW',\n",
       " 'market for diesel, burned in fishing vessel',\n",
       " 'market for diesel, low-sulfur',\n",
       " 'market for diesel-electric generating set, 10MW',\n",
       " 'market for diesel-electric generating set, 18.5kW',\n",
       " 'market group for diesel',\n",
       " 'market group for diesel, low-sulfur'}"
      ]
     },
     "execution_count": 12,
     "metadata": {},
     "output_type": "execute_result"
    }
   ],
   "source": [
    "{x['name'] \n",
    " for x in ei \n",
    " if (\n",
    "     x['name'].startswith('market group for diesel') or \n",
    "     x['name'].startswith('market for diesel')\n",
    " )}"
   ]
  },
  {
   "cell_type": "code",
   "execution_count": 13,
   "id": "a7941488-edcc-43e0-87a2-590650b90626",
   "metadata": {},
   "outputs": [],
   "source": [
    "diesel_names = {\n",
    "    'market for diesel',\n",
    "    'market for diesel, low-sulfur',\n",
    "    'market group for diesel',\n",
    "    'market group for diesel, low-sulfur'\n",
    "}"
   ]
  },
  {
   "cell_type": "code",
   "execution_count": 14,
   "id": "f34a841b-17bc-40ef-9906-4eb8a6149b1d",
   "metadata": {},
   "outputs": [],
   "source": [
    "diesel_nodes = [x for x in ei if x['name'] in diesel_names]"
   ]
  },
  {
   "cell_type": "code",
   "execution_count": 16,
   "id": "7d9cc130-66c9-45e1-a65b-a13790edae9d",
   "metadata": {},
   "outputs": [],
   "source": [
    "consumers = set([])"
   ]
  },
  {
   "cell_type": "code",
   "execution_count": 17,
   "id": "dac889eb-dce4-47da-a6e1-ae33811d8003",
   "metadata": {},
   "outputs": [],
   "source": [
    "for node in diesel_nodes:\n",
    "    for exc in node.upstream():\n",
    "        consumers.add(exc.output['name'])"
   ]
  },
  {
   "cell_type": "code",
   "execution_count": 18,
   "id": "cd053c47-7f14-442c-8614-a07e111731e0",
   "metadata": {},
   "outputs": [
    {
     "data": {
      "text/plain": [
       "{'airport construction',\n",
       " 'application of plant protection product, by field sprayer',\n",
       " 'bale loading',\n",
       " 'baling',\n",
       " 'bus production',\n",
       " 'chopping, maize',\n",
       " 'clefting/splitting of energy wood',\n",
       " 'clinker production',\n",
       " 'cobalt production',\n",
       " 'combine harvesting',\n",
       " 'containerboard production, fluting medium, recycled',\n",
       " 'containerboard production, fluting medium, semichemical',\n",
       " 'containerboard production, linerboard, kraftliner',\n",
       " 'containerboard production, linerboard, testliner',\n",
       " 'copper mine operation and beneficiation, sulfide ore',\n",
       " 'corrugated board box production',\n",
       " 'delimbing, with excavator-based processor',\n",
       " 'diesel, burned in agricultural machinery',\n",
       " 'diesel, burned in building machine',\n",
       " 'diesel, burned in diesel-electric generating set, 10MW',\n",
       " 'diesel, burned in diesel-electric generating set, 18.5kW',\n",
       " 'diesel, burned in fishing vessel',\n",
       " 'drying, natural gas',\n",
       " 'electricity production, oil',\n",
       " 'excavation, hydraulic digger',\n",
       " 'excavation, skid-steer loader',\n",
       " 'fertilising, by broadcaster',\n",
       " 'fertilising, by rig fertiliser, sugarcane',\n",
       " 'fertilising, by stool splitter, sugarcane',\n",
       " 'field leveling, sugarcane',\n",
       " 'fodder loading, by self-loading trailer',\n",
       " 'folding boxboard carton production',\n",
       " 'forwarding, forwarder',\n",
       " 'furrow covering, for sugarcane',\n",
       " 'furrowing, sugarcane',\n",
       " 'gold-silver mine operation and beneficiation',\n",
       " 'gold-silver mine operation with refinery',\n",
       " 'harvesting, by complete harvester, beets',\n",
       " 'harvesting, by complete harvester, ground crops',\n",
       " 'harvesting, forestry harvester',\n",
       " 'harvesting, sugarcane',\n",
       " 'harvesting/bundling, energy wood harvester',\n",
       " 'haying, by rotary tedder',\n",
       " 'heat and power co-generation, diesel, 200kW electrical, SCR-NOx reduction',\n",
       " 'hoeing',\n",
       " 'iron ore mine operation and beneficiation',\n",
       " 'iron pellet production',\n",
       " 'kraft paper production',\n",
       " 'limestone and gypsum application, by spreader',\n",
       " 'liquid manure spreading, by vacuum tanker',\n",
       " 'lorry production, 16 metric ton',\n",
       " 'lorry production, 28 metric ton',\n",
       " 'lorry production, 40 metric ton',\n",
       " 'lorry production, with refrigeration machine, R134a as refrigerant, 16 metric ton',\n",
       " 'lorry production, with refrigeration machine, carbon dioxide, liquid as refrigerant, 16 metric ton',\n",
       " 'lubricating oil production',\n",
       " 'machine operation, diesel, < 18.64 kW, generators',\n",
       " 'machine operation, diesel, < 18.64 kW, high load factor',\n",
       " 'machine operation, diesel, < 18.64 kW, low load factor',\n",
       " 'machine operation, diesel, < 18.64 kW, steady-state',\n",
       " 'machine operation, diesel, < 18.64 kW, underground mining',\n",
       " 'machine operation, diesel, >= 18.64 kW and < 74.57 kW, generators',\n",
       " 'machine operation, diesel, >= 18.64 kW and < 74.57 kW, high load factor',\n",
       " 'machine operation, diesel, >= 18.64 kW and < 74.57 kW, low load factor',\n",
       " 'machine operation, diesel, >= 18.64 kW and < 74.57 kW, steady-state',\n",
       " 'machine operation, diesel, >= 18.64 kW and < 74.57 kW, underground mining',\n",
       " 'machine operation, diesel, >= 74.57 kW, generators',\n",
       " 'machine operation, diesel, >= 74.57 kW, high load factor',\n",
       " 'machine operation, diesel, >= 74.57 kW, low load factor',\n",
       " 'machine operation, diesel, >= 74.57 kW, steady-state',\n",
       " 'machine operation, diesel, >= 74.57 kW, underground mining',\n",
       " 'market group for diesel',\n",
       " 'market group for diesel, low-sulfur',\n",
       " 'mowing, by rotary mower',\n",
       " 'mulching',\n",
       " 'municipal waste collection service by 21 metric ton lorry',\n",
       " 'natural gas liquids production',\n",
       " 'natural gas production',\n",
       " 'nickel mine operation and benefication to nickel concentrate, 16% Ni',\n",
       " 'packaging glass production, brown',\n",
       " 'packaging glass production, brown, without cullet',\n",
       " 'packaging glass production, green',\n",
       " 'packaging glass production, green, without cullet',\n",
       " 'packaging glass production, white',\n",
       " 'packaging glass production, white, without cullet',\n",
       " 'paper production, newsprint, virgin',\n",
       " 'paper sack production',\n",
       " 'particleboard production, uncoated, from virgin wood',\n",
       " 'petroleum and gas production, off-shore',\n",
       " 'pig iron production',\n",
       " 'planting',\n",
       " 'planting with starter fertiliser, by no till planter',\n",
       " 'planting, potato',\n",
       " 'planting, sugarcane',\n",
       " 'potato haulm cutting',\n",
       " 'primary zinc production from concentrate',\n",
       " 'skidding, skidder',\n",
       " 'solid bleached and unbleached board carton production',\n",
       " 'solid manure loading and spreading, by hydraulic loader and spreader',\n",
       " 'sowing',\n",
       " 'sponge iron production',\n",
       " 'steel production, converter, low-alloyed',\n",
       " 'sugarcane loading, by loader',\n",
       " 'sugarcane transfer, by dump cart',\n",
       " 'sugarcane vinasse application, by wheel reel irrigation equipment',\n",
       " 'sulfate pulp production, from eucalyptus, bleached',\n",
       " 'sulfite pulp production, bleached',\n",
       " 'swath, by rotary windrower',\n",
       " 'tillage, cultivating, chiselling',\n",
       " 'tillage, currying, by weeder',\n",
       " 'tillage, harrowing, by offset disc harrow',\n",
       " 'tillage, harrowing, by offset leveling disc harrow',\n",
       " 'tillage, harrowing, by rotary harrow',\n",
       " 'tillage, harrowing, by spring tine harrow',\n",
       " 'tillage, hoeing and earthing-up, potatoes',\n",
       " 'tillage, ploughing',\n",
       " 'tillage, rolling',\n",
       " 'tillage, rotary cultivator',\n",
       " 'tillage, subsoiling, by subsoiler plow',\n",
       " 'tin production',\n",
       " 'transport, freight train',\n",
       " 'transport, freight train, diesel',\n",
       " 'transport, freight train, diesel, with particle filter',\n",
       " 'transport, freight train, electricity',\n",
       " 'transport, freight, inland waterways, barge',\n",
       " 'transport, freight, inland waterways, barge tanker',\n",
       " 'transport, freight, light commercial vehicle',\n",
       " 'transport, freight, light commercial vehicle, EURO1',\n",
       " 'transport, freight, light commercial vehicle, EURO2',\n",
       " 'transport, freight, light commercial vehicle, unregulated',\n",
       " 'transport, freight, lorry 16-32 metric ton, EURO1',\n",
       " 'transport, freight, lorry 16-32 metric ton, EURO2',\n",
       " 'transport, freight, lorry 16-32 metric ton, EURO3',\n",
       " 'transport, freight, lorry 16-32 metric ton, EURO4',\n",
       " 'transport, freight, lorry 16-32 metric ton, EURO5',\n",
       " 'transport, freight, lorry 16-32 metric ton, EURO6',\n",
       " 'transport, freight, lorry 16-32 metric ton, unregulated',\n",
       " 'transport, freight, lorry 3.5-7.5 metric ton, EURO1',\n",
       " 'transport, freight, lorry 3.5-7.5 metric ton, EURO2',\n",
       " 'transport, freight, lorry 3.5-7.5 metric ton, EURO3',\n",
       " 'transport, freight, lorry 3.5-7.5 metric ton, EURO4',\n",
       " 'transport, freight, lorry 3.5-7.5 metric ton, EURO5',\n",
       " 'transport, freight, lorry 3.5-7.5 metric ton, EURO6',\n",
       " 'transport, freight, lorry 3.5-7.5 metric ton, unregulated',\n",
       " 'transport, freight, lorry 7.5-16 metric ton, EURO1',\n",
       " 'transport, freight, lorry 7.5-16 metric ton, EURO2',\n",
       " 'transport, freight, lorry 7.5-16 metric ton, EURO3',\n",
       " 'transport, freight, lorry 7.5-16 metric ton, EURO4',\n",
       " 'transport, freight, lorry 7.5-16 metric ton, EURO5',\n",
       " 'transport, freight, lorry 7.5-16 metric ton, EURO6',\n",
       " 'transport, freight, lorry 7.5-16 metric ton, unregulated',\n",
       " 'transport, freight, lorry >32 metric ton, EURO1',\n",
       " 'transport, freight, lorry >32 metric ton, EURO2',\n",
       " 'transport, freight, lorry >32 metric ton, EURO3',\n",
       " 'transport, freight, lorry >32 metric ton, EURO4',\n",
       " 'transport, freight, lorry >32 metric ton, EURO5',\n",
       " 'transport, freight, lorry >32 metric ton, EURO6',\n",
       " 'transport, freight, lorry >32 metric ton, unregulated',\n",
       " 'transport, freight, lorry with refrigeration machine, 3.5-7.5 ton, EURO3, R134a refrigerant, cooling',\n",
       " 'transport, freight, lorry with refrigeration machine, 3.5-7.5 ton, EURO3, R134a refrigerant, freezing',\n",
       " 'transport, freight, lorry with refrigeration machine, 3.5-7.5 ton, EURO3, carbon dioxide, liquid refrigerant, cooling',\n",
       " 'transport, freight, lorry with refrigeration machine, 3.5-7.5 ton, EURO3, carbon dioxide, liquid refrigerant, freezing',\n",
       " 'transport, freight, lorry with refrigeration machine, 3.5-7.5 ton, EURO4, R134a refrigerant, cooling',\n",
       " 'transport, freight, lorry with refrigeration machine, 3.5-7.5 ton, EURO4, R134a refrigerant, freezing',\n",
       " 'transport, freight, lorry with refrigeration machine, 3.5-7.5 ton, EURO4, carbon dioxide, liquid refrigerant, cooling',\n",
       " 'transport, freight, lorry with refrigeration machine, 3.5-7.5 ton, EURO4, carbon dioxide, liquid refrigerant, freezing',\n",
       " 'transport, freight, lorry with refrigeration machine, 3.5-7.5 ton, EURO5, R134a refrigerant, cooling',\n",
       " 'transport, freight, lorry with refrigeration machine, 3.5-7.5 ton, EURO5, R134a refrigerant, freezing',\n",
       " 'transport, freight, lorry with refrigeration machine, 3.5-7.5 ton, EURO5, carbon dioxide, liquid refrigerant, cooling',\n",
       " 'transport, freight, lorry with refrigeration machine, 3.5-7.5 ton, EURO5, carbon dioxide, liquid refrigerant, freezing',\n",
       " 'transport, freight, lorry with refrigeration machine, 3.5-7.5 ton, EURO6, R134a refrigerant, cooling',\n",
       " 'transport, freight, lorry with refrigeration machine, 3.5-7.5 ton, EURO6, R134a refrigerant, freezing',\n",
       " 'transport, freight, lorry with refrigeration machine, 3.5-7.5 ton, EURO6, carbon dioxide, liquid refrigerant, cooling',\n",
       " 'transport, freight, lorry with refrigeration machine, 3.5-7.5 ton, EURO6, carbon dioxide, liquid refrigerant, freezing',\n",
       " 'transport, freight, lorry with refrigeration machine, 7.5-16 ton, EURO3, R134a refrigerant, cooling',\n",
       " 'transport, freight, lorry with refrigeration machine, 7.5-16 ton, EURO3, R134a refrigerant, freezing',\n",
       " 'transport, freight, lorry with refrigeration machine, 7.5-16 ton, EURO3, carbon dioxide, liquid refrigerant, cooling',\n",
       " 'transport, freight, lorry with refrigeration machine, 7.5-16 ton, EURO3, carbon dioxide, liquid refrigerant, freezing',\n",
       " 'transport, freight, lorry with refrigeration machine, 7.5-16 ton, EURO4, R134a refrigerant, cooling',\n",
       " 'transport, freight, lorry with refrigeration machine, 7.5-16 ton, EURO4, R134a refrigerant, freezing',\n",
       " 'transport, freight, lorry with refrigeration machine, 7.5-16 ton, EURO4, carbon dioxide, liquid refrigerant, cooling',\n",
       " 'transport, freight, lorry with refrigeration machine, 7.5-16 ton, EURO4, carbon dioxide, liquid refrigerant, freezing',\n",
       " 'transport, freight, lorry with refrigeration machine, 7.5-16 ton, EURO5, R134a refrigerant, cooling',\n",
       " 'transport, freight, lorry with refrigeration machine, 7.5-16 ton, EURO5, R134a refrigerant, freezing',\n",
       " 'transport, freight, lorry with refrigeration machine, 7.5-16 ton, EURO5, carbon dioxide, liquid refrigerant, cooling',\n",
       " 'transport, freight, lorry with refrigeration machine, 7.5-16 ton, EURO5, carbon dioxide, liquid refrigerant, freezing',\n",
       " 'transport, freight, lorry with refrigeration machine, 7.5-16 ton, EURO6, R134a refrigerant, cooling',\n",
       " 'transport, freight, lorry with refrigeration machine, 7.5-16 ton, EURO6, R134a refrigerant, freezing',\n",
       " 'transport, freight, lorry with refrigeration machine, 7.5-16 ton, EURO6, carbon dioxide, liquid refrigerant, cooling',\n",
       " 'transport, freight, lorry with refrigeration machine, 7.5-16 ton, EURO6, carbon dioxide, liquid refrigerant, freezing',\n",
       " 'transport, passenger car, large size, diesel, EURO 3',\n",
       " 'transport, passenger car, large size, diesel, EURO 4',\n",
       " 'transport, passenger car, large size, diesel, EURO 5',\n",
       " 'transport, passenger car, medium size, diesel, EURO 3',\n",
       " 'transport, passenger car, medium size, diesel, EURO 4',\n",
       " 'transport, passenger car, medium size, diesel, EURO 5',\n",
       " 'transport, passenger car, small size, diesel, EURO 3',\n",
       " 'transport, passenger car, small size, diesel, EURO 4',\n",
       " 'transport, passenger car, small size, diesel, EURO 5',\n",
       " 'transport, passenger coach',\n",
       " 'transport, passenger train',\n",
       " 'transport, regular bus',\n",
       " 'transport, tractor and trailer, agricultural',\n",
       " 'water pump operation, diesel',\n",
       " 'weed control, by brush cutter, pasture',\n",
       " 'white lined chipboard carton production',\n",
       " 'wood chipping, mobile chipper, at forest road',\n",
       " 'wood chipping, terrain chipper, diesel',\n",
       " 'yarding and processing, mobile cable yarder on truck',\n",
       " 'yarding, mobile cable yarder on trailer',\n",
       " 'yarding, sled yarder',\n",
       " 'zinc mine operation'}"
      ]
     },
     "execution_count": 18,
     "metadata": {},
     "output_type": "execute_result"
    }
   ],
   "source": [
    "consumers"
   ]
  },
  {
   "cell_type": "code",
   "execution_count": null,
   "id": "ec5a88d1-9005-47a9-82f3-e5681c4223f4",
   "metadata": {},
   "outputs": [],
   "source": []
  }
 ],
 "metadata": {
  "kernelspec": {
   "display_name": "Python 3 (ipykernel)",
   "language": "python",
   "name": "python3"
  },
  "language_info": {
   "codemirror_mode": {
    "name": "ipython",
    "version": 3
   },
   "file_extension": ".py",
   "mimetype": "text/x-python",
   "name": "python",
   "nbconvert_exporter": "python",
   "pygments_lexer": "ipython3",
   "version": "3.9.7"
  }
 },
 "nbformat": 4,
 "nbformat_minor": 5
}
