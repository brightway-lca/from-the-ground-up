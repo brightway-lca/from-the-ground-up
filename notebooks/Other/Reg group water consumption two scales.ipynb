{
 "cells": [
  {
   "cell_type": "markdown",
   "id": "e98d5630-5653-427d-a514-084e9986ddce",
   "metadata": {},
   "source": [
    "# Setup notebook"
   ]
  },
  {
   "cell_type": "code",
   "execution_count": 1,
   "id": "975f78f1-5ae5-443d-91ff-1f76f4d8b89b",
   "metadata": {},
   "outputs": [],
   "source": [
    "import geopandas as gp\n",
    "import bw2regional as br\n",
    "import bw2data as bd\n",
    "import bw2calc as bc\n",
    "from pathlib import Path\n",
    "import numpy as np\n",
    "from warnings import warn"
   ]
  },
  {
   "cell_type": "code",
   "execution_count": 2,
   "id": "6ea6acfb-72e8-4ac7-85ef-d492b3e31802",
   "metadata": {},
   "outputs": [],
   "source": [
    "MESSAGE = \"\"\"\"\n",
    "Site-generic LCA will produce incorrect results with regionalized LCIA methods.\n",
    "\n",
    "This was fixed in bw2calc 2.0.dev3.\n",
    "\n",
    "See: https://github.com/brightway-lca/brightway2-calc/commit/485238e791aadf7764784a58494abcb33933ba4b\"\"\"\n",
    "\n",
    "if bc.__version__ < (2, 0, \"DEV3\"):\n",
    "    warn(MESSAGE)"
   ]
  },
  {
   "cell_type": "markdown",
   "id": "14d52e6d-cd3b-4a2e-bd15-035949dc4554",
   "metadata": {},
   "source": [
    "# Setup and reset project"
   ]
  },
  {
   "cell_type": "code",
   "execution_count": 3,
   "id": "206c8426-c340-4b7b-ae42-a27c83d3fe50",
   "metadata": {},
   "outputs": [],
   "source": [
    "bd.projects.set_current(\"case-study\")"
   ]
  },
  {
   "cell_type": "code",
   "execution_count": 4,
   "id": "cf89abe7-1ead-4d7d-be26-aa829644a983",
   "metadata": {},
   "outputs": [],
   "source": [
    "for db_name in list(bd.databases):\n",
    "    del bd.databases[db_name]\n",
    "    \n",
    "for meth in list(bd.methods):\n",
    "    del bd.methods[meth]\n",
    "    \n",
    "for gc in list(br.geocollections):\n",
    "    del br.geocollections[gc] \n",
    "    \n",
    "for inter in list(br.intersections):\n",
    "    del br.intersections[inter]     "
   ]
  },
  {
   "cell_type": "markdown",
   "id": "8b68b25f-5964-4048-a33c-194076cfdeaf",
   "metadata": {},
   "source": [
    "# Setup database"
   ]
  },
  {
   "cell_type": "code",
   "execution_count": 5,
   "id": "0b9ed884-793b-4b3a-b4f1-5c2ff1ab9383",
   "metadata": {},
   "outputs": [],
   "source": [
    "db = bd.Database(\"case\")\n",
    "\n",
    "#declare the geolocation of the map of 1 single spatial delineation for LCI and lCIA\n",
    "db.register(geocollections=[\"regions\"])"
   ]
  },
  {
   "cell_type": "markdown",
   "id": "34fbc639-aecc-4527-b5a7-b25f870cf2b4",
   "metadata": {},
   "source": [
    "# Setup geocollections"
   ]
  },
  {
   "cell_type": "code",
   "execution_count": 6,
   "id": "1172f547-315c-4229-a224-47545ab74099",
   "metadata": {},
   "outputs": [
    {
     "data": {
      "text/plain": [
       "(PosixPath('/Users/cmutel/Code/brightway/from-the-ground-up/files'),\n",
       " [PosixPath('/Users/cmutel/Code/brightway/from-the-ground-up/files/CF_polygones.gpkg'),\n",
       "  PosixPath('/Users/cmutel/Code/brightway/from-the-ground-up/files/rice_provinces.gpkg')])"
      ]
     },
     "execution_count": 6,
     "metadata": {},
     "output_type": "execute_result"
    }
   ],
   "source": [
    "DATA_PATH = (Path.cwd().parent / \"files\").resolve()\n",
    "DATA_PATH, list(DATA_PATH.iterdir())"
   ]
  },
  {
   "cell_type": "code",
   "execution_count": 7,
   "id": "dba6a03b-3242-443a-9182-00ee4d827ea7",
   "metadata": {},
   "outputs": [
    {
     "data": {
      "text/plain": [
       "{'filepath': '/Users/cmutel/Code/brightway/from-the-ground-up/files/CF_polygones.gpkg',\n",
       " 'field': 'ID',\n",
       " 'sha256': 'e7f3c957ca998c4c90a03afe5b657cb55669f5515bc6e0f81aa917aa0ed565a2',\n",
       " 'kind': 'vector'}"
      ]
     },
     "execution_count": 7,
     "metadata": {},
     "output_type": "execute_result"
    }
   ],
   "source": [
    "br.geocollections[\"watersheds\"] = {\n",
    "    'filepath': str(DATA_PATH / 'CF_polygones.gpkg'),\n",
    "    # 'layer': 'CF_margina', \n",
    "    'field': 'ID',\n",
    "}\n",
    "br.geocollections[\"watersheds\"] "
   ]
  },
  {
   "cell_type": "code",
   "execution_count": 8,
   "id": "f9fb7070-1ee2-446d-8624-a11698bd6614",
   "metadata": {},
   "outputs": [
    {
     "data": {
      "text/plain": [
       "{'filepath': '/Users/cmutel/Code/brightway/from-the-ground-up/files/rice_provinces.gpkg',\n",
       " 'field': 'iso_3166_2',\n",
       " 'sha256': '1e2aab70520e4cd748a8324f278511234ae57a5375a7fdf33c002c5d1f1a0f2f',\n",
       " 'kind': 'vector'}"
      ]
     },
     "execution_count": 8,
     "metadata": {},
     "output_type": "execute_result"
    }
   ],
   "source": [
    "br.geocollections[\"regions\"] = {\n",
    "    'filepath': str(DATA_PATH / 'rice_provinces.gpkg'),\n",
    "    'field': 'iso_3166_2',\n",
    "}\n",
    "br.geocollections[\"regions\"] "
   ]
  },
  {
   "cell_type": "markdown",
   "id": "7ce6a9c1-96f2-472b-80bd-4466ce4c2778",
   "metadata": {},
   "source": [
    "# Setup regionalized LCIA method"
   ]
  },
  {
   "cell_type": "code",
   "execution_count": 9,
   "id": "c6696eee-1703-4fbf-a90e-78f935ba3f4e",
   "metadata": {},
   "outputs": [],
   "source": [
    "data = {\n",
    "    'code': 'freshwater',\n",
    "    'name': 'freshwater consumption',\n",
    "    'location': 'GLO',\n",
    "    'unit': 'm3',\n",
    "    'type': 'stressor'\n",
    "}\n",
    "\n",
    "freshwater = db.new_activity(**data)\n",
    "freshwater.save()"
   ]
  },
  {
   "cell_type": "markdown",
   "id": "ca46e6c6-dbaa-43e7-9181-8997c9068dc6",
   "metadata": {},
   "source": [
    "## Import regionalized map\n",
    "\n",
    "Normally we would use the function `br.import_regionalized_cfs`, but the provided maps has regions where the CF is `Null`. This will break things, so we need to do this import ourselves. Luckily, it isn't too difficult."
   ]
  },
  {
   "cell_type": "markdown",
   "id": "8783553b-f692-4572-9384-d0f44f194ec7",
   "metadata": {},
   "source": [
    "### TODO: Should also add a global CF here"
   ]
  },
  {
   "cell_type": "code",
   "execution_count": 10,
   "id": "3ca72f37-9422-4ad7-8dc5-10cff5bb52fb",
   "metadata": {},
   "outputs": [],
   "source": [
    "def import_regionalized_cfs_with_geopandas(geocollection, method_tuple, mapping, scaling_factor=1, global_cfs=None):\n",
    "    assert (geocollection in br.geocollections \n",
    "            and br.geocollections[geocollection].get('kind') == 'vector'\n",
    "            and \"field\" in br.geocollections[geocollection]\n",
    "           )\n",
    "    gdf = gp.read_file(br.geocollections[geocollection]['filepath'])\n",
    "    id_label = br.geocollections[geocollection][\"field\"]\n",
    "    \n",
    "    method = bd.Method(method_tuple)\n",
    "    method.metadata['geocollections'] = [geocollection]\n",
    "    bd.methods.flush()\n",
    "    \n",
    "    data = []\n",
    "    if global_cfs:\n",
    "        data.extend(global_cfs)\n",
    "\n",
    "    for index, feature in gdf.iterrows():\n",
    "        for field_label, biosphere_flows in mapping.items():\n",
    "            if feature[field_label] is None or np.isnan(feature[field_label]):\n",
    "                continue\n",
    "            else:\n",
    "                for flow in biosphere_flows:\n",
    "                    data.append((\n",
    "                        flow, \n",
    "                        float(feature[field_label]) * scaling_factor, \n",
    "                        (geocollection, feature[id_label])\n",
    "                    ))\n",
    "    \n",
    "    method.write(data)"
   ]
  },
  {
   "cell_type": "code",
   "execution_count": 11,
   "id": "50de2cf7-3825-446c-925f-7dc8a5c6cdb0",
   "metadata": {},
   "outputs": [],
   "source": [
    "bd.Method((\"water consumption\", \"watershed scale\")).register(unit=\"PDF\")\n",
    "import_regionalized_cfs_with_geopandas(\n",
    "    \"watersheds\", \n",
    "    (\"water consumption\", \"watershed scale\"), \n",
    "    {'EF_margina': [freshwater.key]}\n",
    ")"
   ]
  },
  {
   "cell_type": "code",
   "execution_count": 12,
   "id": "dfdceb9e-1ece-4519-b049-c60429ae0fac",
   "metadata": {},
   "outputs": [
    {
     "data": {
      "text/plain": [
       "[(('case', 'freshwater'), 6.243519e-09, ('watersheds', 54)),\n",
       " (('case', 'freshwater'), 7.974224e-09, ('watersheds', 35)),\n",
       " (('case', 'freshwater'), 3.777942e-09, ('watersheds', 49)),\n",
       " (('case', 'freshwater'), 7.909293e-09, ('watersheds', 73)),\n",
       " (('case', 'freshwater'), 4.475176e-09, ('watersheds', 112)),\n",
       " (('case', 'freshwater'), 1.6187929e-08, ('watersheds', 155)),\n",
       " (('case', 'freshwater'), 1.2216529e-08, ('watersheds', 2832)),\n",
       " (('case', 'freshwater'), 1.2816316e-08, ('watersheds', 2963)),\n",
       " (('case', 'freshwater'), 2.567833e-09, ('watersheds', 5638)),\n",
       " (('case', 'freshwater'), 2.291942e-09, ('watersheds', 5708)),\n",
       " (('case', 'freshwater'), 3.430738e-09, ('watersheds', 15425)),\n",
       " (('case', 'freshwater'), 1.55811e-10, ('watersheds', 23897)),\n",
       " (('case', 'freshwater'), 2.7739e-10, ('watersheds', 23844)),\n",
       " (('case', 'freshwater'), 6.08337e-10, ('watersheds', 23808)),\n",
       " (('case', 'freshwater'), 1.886911e-09, ('watersheds', 352)),\n",
       " (('case', 'freshwater'), 4.51159e-10, ('watersheds', 301)),\n",
       " (('case', 'freshwater'), 2.81525e-10, ('watersheds', 23937)),\n",
       " (('case', 'freshwater'), 1.197969e-09, ('watersheds', 329)),\n",
       " (('case', 'freshwater'), 6.35624e-10, ('watersheds', 419)),\n",
       " (('case', 'freshwater'), 2.71118e-10, ('watersheds', 365))]"
      ]
     },
     "execution_count": 12,
     "metadata": {},
     "output_type": "execute_result"
    }
   ],
   "source": [
    "bd.Method((\"water consumption\", \"watershed scale\")).load()[:20]"
   ]
  },
  {
   "cell_type": "markdown",
   "id": "41c34ef2-5bfc-4008-9ed3-4d26c90a6cbf",
   "metadata": {},
   "source": [
    "# Calculate intersection\n",
    "\n",
    "We can just use geopandas instead of the pandarus library."
   ]
  },
  {
   "cell_type": "code",
   "execution_count": 13,
   "id": "cb95c459-d7ed-4f5b-a3ba-0bf0f12ab94e",
   "metadata": {},
   "outputs": [],
   "source": [
    "def write_intersection(first, second, overwrite=False):\n",
    "    if (first, second) in br.intersections and not overwrite:\n",
    "        raise ValueError(\"Intersection already exists\")\n",
    "    \n",
    "    for gc in (first, second):\n",
    "        assert (gc in br.geocollections \n",
    "            and br.geocollections[gc].get('kind') == 'vector'\n",
    "            and \"field\" in br.geocollections[gc]\n",
    "           )\n",
    "    assert br.geocollections[first]['filepath'] != br.geocollections[second]['filepath']\n",
    "    \n",
    "    df1 = gp.read_file(br.geocollections[first]['filepath'])\n",
    "    df2 = gp.read_file(br.geocollections[second]['filepath'])\n",
    "    id1 = br.geocollections[first][\"field\"]\n",
    "    id2 = br.geocollections[second][\"field\"]\n",
    "\n",
    "    assert id1 != id2, \"Conflicting ID labels\"\n",
    "    \n",
    "    intersection = gp.overlay(df1, df2)\n",
    "    areas = intersection.to_crs(\"esri:54009\").area  # World Mollweidge in square meters\n",
    "    \n",
    "    data = []\n",
    "    for index, feature in intersection.iterrows():\n",
    "        data.append(((first, feature[id1]), (second, feature[id2]), areas[index]))\n",
    "    \n",
    "    obj = br.Intersection((first, second))\n",
    "    obj.register()\n",
    "    obj.write(data)\n",
    "    obj.create_reversed_intersection()"
   ]
  },
  {
   "cell_type": "code",
   "execution_count": 14,
   "id": "0975adaf-9739-4ebc-9107-94c12fd3410e",
   "metadata": {},
   "outputs": [],
   "source": [
    "write_intersection(\"regions\", \"watersheds\")"
   ]
  },
  {
   "cell_type": "code",
   "execution_count": 15,
   "id": "d41e3dc4-03d1-4ef7-8b2d-e78f9357071d",
   "metadata": {},
   "outputs": [
    {
     "data": {
      "text/plain": [
       "[(('regions', 'CN-62'), ('watersheds', 10944), 587710246.891498),\n",
       " (('regions', 'CN-62'), ('watersheds', 10784), 2813916857.421469),\n",
       " (('regions', 'CN-62'), ('watersheds', 10976), 5624540.639780564),\n",
       " (('regions', 'CN-62'), ('watersheds', 10781), 4505834025.288664),\n",
       " (('regions', 'CN-62'), ('watersheds', 10945), 7706500913.38276),\n",
       " (('regions', 'CN-62'), ('watersheds', 10979), 6601614202.278695),\n",
       " (('regions', 'CN-62'), ('watersheds', 10949), 913736681.8139017),\n",
       " (('regions', 'CN-62'), ('watersheds', 11263), 5083478143.000593),\n",
       " (('regions', 'CN-62'), ('watersheds', 11347), 149965830.59423748),\n",
       " (('regions', 'CN-62'), ('watersheds', 11344), 7290229563.897603),\n",
       " (('regions', 'CN-62'), ('watersheds', 11349), 71420084.42502172),\n",
       " (('regions', 'CN-62'), ('watersheds', 12236), 573727299.6146897),\n",
       " (('regions', 'CN-62'), ('watersheds', 12359), 2245344177.179704),\n",
       " (('regions', 'CN-62'), ('watersheds', 11641), 273397943.06686234),\n",
       " (('regions', 'CN-62'), ('watersheds', 11627), 420060145.33159363),\n",
       " (('regions', 'CN-62'), ('watersheds', 11762), 178239558.02328178),\n",
       " (('regions', 'CN-62'), ('watersheds', 11704), 14334723696.459213),\n",
       " (('regions', 'CN-62'), ('watersheds', 11733), 51190037.835351355),\n",
       " (('regions', 'CN-62'), ('watersheds', 11735), 666630809.7632365),\n",
       " (('regions', 'CN-62'), ('watersheds', 11772), 177440040.06315106)]"
      ]
     },
     "execution_count": 15,
     "metadata": {},
     "output_type": "execute_result"
    }
   ],
   "source": [
    "br.Intersection((\"regions\", \"watersheds\")).load()[:20]"
   ]
  },
  {
   "cell_type": "markdown",
   "id": "46fc3919-40dc-4e99-a1bf-f0e27838de23",
   "metadata": {},
   "source": [
    "# Setup inventory graph"
   ]
  },
  {
   "cell_type": "code",
   "execution_count": 16,
   "id": "3df9c647-8879-440c-b27e-081b636c3e25",
   "metadata": {},
   "outputs": [],
   "source": [
    "data = {\n",
    "    'code': 'rice india',\n",
    "    'name': 'rice production india',\n",
    "    'location': ('regions','IN-MP'),\n",
    "    'unit': 't'\n",
    "}\n",
    "\n",
    "rice_IN = db.new_activity(**data)\n",
    "rice_IN.save()"
   ]
  },
  {
   "cell_type": "code",
   "execution_count": 17,
   "id": "1e8e5a0c-ce20-4f70-a030-147b4df61b5c",
   "metadata": {},
   "outputs": [],
   "source": [
    "data = {\n",
    "    'code': 'rice china',\n",
    "    'name': 'rice production china',\n",
    "    'location': ('regions','CN-62'),\n",
    "    'unit': 't'\n",
    "}\n",
    "\n",
    "rice_CN = db.new_activity(**data)\n",
    "rice_CN.save()"
   ]
  },
  {
   "cell_type": "code",
   "execution_count": 18,
   "id": "be45051e-c917-451a-a11d-936262b310c4",
   "metadata": {},
   "outputs": [],
   "source": [
    "data = {\n",
    "    'code': 'rice USA',\n",
    "    'name': 'rice production USA',\n",
    "    'location': ('regions','US-MI'),\n",
    "    'unit': 't'\n",
    "}\n",
    "\n",
    "rice_US = db.new_activity(**data)\n",
    "rice_US.save()"
   ]
  },
  {
   "cell_type": "code",
   "execution_count": 19,
   "id": "07dfba69-b685-4f3f-96f0-740d97f2c2f5",
   "metadata": {},
   "outputs": [],
   "source": [
    "data = {\n",
    "    'code': 'pesticide',\n",
    "    'name': 'pesticide production',\n",
    "    'location': 'GLO',\n",
    "    'unit': 't'\n",
    "}\n",
    "\n",
    "pesticide = db.new_activity(**data)\n",
    "pesticide.save()"
   ]
  },
  {
   "cell_type": "code",
   "execution_count": 20,
   "id": "c3832793-2f92-4f93-991f-44a3e465717d",
   "metadata": {},
   "outputs": [],
   "source": [
    "rice_IN.new_exchange(#modified\n",
    "    amount=100, \n",
    "    #uncertainty_type=2, \n",
    "    #minimum=,\n",
    "    #maximum=, \n",
    "    type='biosphere',\n",
    "    input=freshwater,\n",
    ").save()"
   ]
  },
  {
   "cell_type": "code",
   "execution_count": 21,
   "id": "053ff7f8-4255-443b-b54a-0b8dc1eba979",
   "metadata": {},
   "outputs": [],
   "source": [
    "rice_CN.new_exchange(#modified\n",
    "    amount=100, \n",
    "    #uncertainty_type=2, \n",
    "    #minimum=,\n",
    "    #maximum=, \n",
    "    type='biosphere',\n",
    "    input=freshwater,\n",
    ").save()"
   ]
  },
  {
   "cell_type": "code",
   "execution_count": 22,
   "id": "d243c9c0-7afa-43f7-b38e-8edb0a83b9c3",
   "metadata": {},
   "outputs": [],
   "source": [
    "rice_US.new_exchange(#modified\n",
    "    amount=100, \n",
    "    #uncertainty_type=2, \n",
    "    #minimum=,\n",
    "    #maximum=, \n",
    "    type='biosphere',\n",
    "    input=freshwater,\n",
    ").save()"
   ]
  },
  {
   "cell_type": "code",
   "execution_count": 23,
   "id": "9162b732-5942-4883-8c3b-4123ee6947d0",
   "metadata": {},
   "outputs": [],
   "source": [
    "pesticide.new_exchange(#modified\n",
    "    amount=100, \n",
    "    #uncertainty_type=2, \n",
    "    #minimum=,\n",
    "    #maximum=, \n",
    "    type='biosphere',\n",
    "    input=freshwater,\n",
    ").save()"
   ]
  },
  {
   "cell_type": "code",
   "execution_count": 24,
   "id": "2f9c56bf-e809-48a8-b66b-48d73716ecf6",
   "metadata": {},
   "outputs": [],
   "source": [
    "rice_IN.new_exchange(#modified\n",
    "    amount=1,\n",
    "    #uncertainty_type=2, \n",
    "    #minimum=,\n",
    "    #maximum=, \n",
    "    type='technosphere',\n",
    "    input=pesticide,\n",
    ").save()"
   ]
  },
  {
   "cell_type": "code",
   "execution_count": 25,
   "id": "d862e392-4105-4264-9794-cc1d4311de53",
   "metadata": {},
   "outputs": [],
   "source": [
    "rice_CN.new_exchange(#modified\n",
    "    amount=1, \n",
    "    #uncertainty_type=2, \n",
    "    #minimum=,\n",
    "    #maximum=, \n",
    "    type='technosphere',\n",
    "    input=pesticide,\n",
    ").save()"
   ]
  },
  {
   "cell_type": "code",
   "execution_count": 26,
   "id": "a6631139-fad3-485f-af11-68522e3137e7",
   "metadata": {},
   "outputs": [],
   "source": [
    "rice_US.new_exchange(#modified\n",
    "    amount=1, \n",
    "    #uncertainty_type=2, \n",
    "    #minimum=,\n",
    "    #maximum=, \n",
    "    type='technosphere',\n",
    "    input=pesticide,\n",
    ").save()"
   ]
  },
  {
   "cell_type": "code",
   "execution_count": 27,
   "id": "9b18c494-59c6-4a46-a8a4-0ce85fa5db5b",
   "metadata": {},
   "outputs": [],
   "source": [
    "from bw2calc.lca import *"
   ]
  },
  {
   "cell_type": "code",
   "execution_count": 28,
   "id": "6640c6ea-5f9a-481e-8098-5ea912361fcf",
   "metadata": {},
   "outputs": [
    {
     "data": {
      "text/plain": [
       "0.0"
      ]
     },
     "execution_count": 28,
     "metadata": {},
     "output_type": "execute_result"
    }
   ],
   "source": [
    "sg_lca = bc.LCA({rice_US: 1}, (\"water consumption\", \"watershed scale\")) # site generic\n",
    "sg_lca.lci()\n",
    "sg_lca.lcia()\n",
    "sg_lca.score"
   ]
  },
  {
   "cell_type": "code",
   "execution_count": 29,
   "id": "ced44012-e9f5-4ed1-97e0-434678803e38",
   "metadata": {},
   "outputs": [],
   "source": [
    "lca = br.TwoSpatialScalesLCA({rice_IN: 1}, (\"water consumption\", \"watershed scale\"))"
   ]
  },
  {
   "cell_type": "code",
   "execution_count": 30,
   "id": "8b4c86c0-a1c8-46a2-811c-ca24c0b280d6",
   "metadata": {},
   "outputs": [
    {
     "data": {
      "text/plain": [
       "3.51488082756986e-10"
      ]
     },
     "execution_count": 30,
     "metadata": {},
     "output_type": "execute_result"
    }
   ],
   "source": [
    "lca.lci()\n",
    "lca.lcia()\n",
    "lca.score"
   ]
  }
 ],
 "metadata": {
  "kernelspec": {
   "display_name": "Python 3 (ipykernel)",
   "language": "python",
   "name": "python3"
  },
  "language_info": {
   "codemirror_mode": {
    "name": "ipython",
    "version": 3
   },
   "file_extension": ".py",
   "mimetype": "text/x-python",
   "name": "python",
   "nbconvert_exporter": "python",
   "pygments_lexer": "ipython3",
   "version": "3.9.7"
  }
 },
 "nbformat": 4,
 "nbformat_minor": 5
}
