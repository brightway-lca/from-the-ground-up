{
 "cells": [
  {
   "cell_type": "code",
   "execution_count": 71,
   "id": "0d966dd8-e5f3-4b20-be98-08feeda8a52f",
   "metadata": {},
   "outputs": [],
   "source": [
    "import bw2data as bd\n",
    "import bw2io as bi\n",
    "import bw2calc as bc\n",
    "import pandas as pd"
   ]
  },
  {
   "cell_type": "code",
   "execution_count": 72,
   "id": "56b1f3a7-8dfb-49c3-891c-35aa7a59b1d1",
   "metadata": {},
   "outputs": [
    {
     "data": {
      "text/plain": [
       "(True, True, True)"
      ]
     },
     "execution_count": 72,
     "metadata": {},
     "output_type": "execute_result"
    }
   ],
   "source": [
    "bd.__version__ >= (4, 0, 'DEV7'), bi.__version__ >= (0, 9, 'DEV4'), bc.__version__ >= (2, 0, 'DEV2')"
   ]
  },
  {
   "cell_type": "code",
   "execution_count": 73,
   "id": "69ae26f1-fcd8-4f8b-b455-1bb77fa43926",
   "metadata": {},
   "outputs": [],
   "source": [
    "bd.projects.set_current(\"fresh-start\")"
   ]
  },
  {
   "cell_type": "code",
   "execution_count": 74,
   "id": "790fb7f4-1a78-49ec-93f9-202356fbe50c",
   "metadata": {},
   "outputs": [],
   "source": [
    "if \"mobility\" in bd.databases:\n",
    "    del bd.databases['mobility']"
   ]
  },
  {
   "cell_type": "code",
   "execution_count": 75,
   "id": "ad27fef4-a2a7-4afd-ae5b-0f8e4567bf19",
   "metadata": {},
   "outputs": [],
   "source": [
    "db = bd.Database(\"mobility\")\n",
    "db.register()\n",
    "\n",
    "biosphere = bd.Database(\"biosphere\")\n",
    "biosphere.register()"
   ]
  },
  {
   "cell_type": "code",
   "execution_count": 76,
   "id": "c6b558d9-203f-4bb9-ac09-408efe3ba2b7",
   "metadata": {},
   "outputs": [],
   "source": [
    "data = {\n",
    "    'code': 'bike',\n",
    "    'name': 'bike production',\n",
    "    'location': 'NO',\n",
    "    'unit': 'bike'\n",
    "}\n",
    "\n",
    "bike = db.new_activity(**data)\n",
    "bike.save()"
   ]
  },
  {
   "cell_type": "code",
   "execution_count": 77,
   "id": "03377b96-7e5e-4bc7-a524-428049cc1d3d",
   "metadata": {},
   "outputs": [],
   "source": [
    "data = {\n",
    "    'code': 'CF',\n",
    "    'name': 'carbon fibre',\n",
    "    'unit': 'kilogram',\n",
    "    'location': 'CN'\n",
    "}\n",
    "\n",
    "cf = db.new_activity(**data)\n",
    "cf.save()"
   ]
  },
  {
   "cell_type": "code",
   "execution_count": 78,
   "id": "c3ed02ab-2b7e-42d4-b03b-cb386b7603d8",
   "metadata": {},
   "outputs": [],
   "source": [
    "ng = db.new_activity(\n",
    "    name=\"Nat Gas\", \n",
    "    code='ng', \n",
    "    location='NO', \n",
    "    unit='MJ'\n",
    ")\n",
    "\n",
    "ng.save()"
   ]
  },
  {
   "cell_type": "code",
   "execution_count": 79,
   "id": "05eb6c4c-10d8-4430-875f-2a32ac9efd2c",
   "metadata": {},
   "outputs": [],
   "source": [
    "co2 = biosphere.new_activity(\n",
    "    name=\"Carbon Dioxide\", \n",
    "    code='co2', \n",
    "    categories=('air',),\n",
    "    type='emission',\n",
    ")\n",
    "\n",
    "co2.save()"
   ]
  },
  {
   "cell_type": "code",
   "execution_count": 80,
   "id": "49d2d738-7e14-40df-8dd0-e9023189ab9b",
   "metadata": {},
   "outputs": [],
   "source": [
    "bike.new_exchange(\n",
    "    amount=2.5, \n",
    "    type='technosphere',\n",
    "    input=cf\n",
    ").save()"
   ]
  },
  {
   "cell_type": "code",
   "execution_count": 81,
   "id": "6c33d5c2-b27e-4640-952f-ad8ca76cf35a",
   "metadata": {},
   "outputs": [],
   "source": [
    "cf.new_exchange(\n",
    "    amount=237.3,  # plus 58 kWh of electricity, in ecoinvent 3.8 \n",
    "    uncertainty_type=5, \n",
    "    minimum=200, \n",
    "    maximum=300, \n",
    "    type='technosphere',\n",
    "    input=ng,\n",
    ").save()"
   ]
  },
  {
   "cell_type": "code",
   "execution_count": 82,
   "id": "525489dd-caf0-401c-80bc-8ea0f3b8cb71",
   "metadata": {},
   "outputs": [],
   "source": [
    "cf.new_exchange(\n",
    "    amount=26.6, \n",
    "    uncertainty_type=5, \n",
    "    minimum=26,\n",
    "    maximum=27.2, \n",
    "    type='biosphere',\n",
    "    input=co2,\n",
    ").save()"
   ]
  },
  {
   "cell_type": "code",
   "execution_count": 83,
   "id": "e6420904-e037-4046-ad2d-cf97188722b5",
   "metadata": {},
   "outputs": [],
   "source": [
    "ipcc = bd.Method(('IPCC',))\n",
    "ipcc.write([\n",
    "    (co2.key, {'amount': 1, 'uncertainty_type': 3, 'loc': 1, 'scale': 0.05}),\n",
    "])"
   ]
  },
  {
   "cell_type": "code",
   "execution_count": 84,
   "id": "f031fe36-d25f-41bc-a099-c1e5f77806ab",
   "metadata": {},
   "outputs": [],
   "source": [
    "import bw2calc as bc"
   ]
  },
  {
   "cell_type": "code",
   "execution_count": 85,
   "id": "170661dd-5d28-43f0-a174-2d8486f8b994",
   "metadata": {},
   "outputs": [],
   "source": [
    "lca = bc.LCA(\n",
    "    {bike: 1}, # Func unit is one bike\n",
    "    ('IPCC',),\n",
    "    use_distributions=True,\n",
    "    seed_override=None\n",
    ")\n",
    "lca.lci()\n",
    "lca.lcia()"
   ]
  },
  {
   "cell_type": "code",
   "execution_count": 86,
   "id": "435147ff-fe83-4ce2-b17e-4142b1bb1f0d",
   "metadata": {},
   "outputs": [
    {
     "data": {
      "text/html": [
       "<div>\n",
       "<style scoped>\n",
       "    .dataframe tbody tr th:only-of-type {\n",
       "        vertical-align: middle;\n",
       "    }\n",
       "\n",
       "    .dataframe tbody tr th {\n",
       "        vertical-align: top;\n",
       "    }\n",
       "\n",
       "    .dataframe thead th {\n",
       "        text-align: right;\n",
       "    }\n",
       "</style>\n",
       "<table border=\"1\" class=\"dataframe\">\n",
       "  <thead>\n",
       "    <tr style=\"text-align: right;\">\n",
       "      <th></th>\n",
       "      <th>score</th>\n",
       "      <th>inv</th>\n",
       "      <th>char</th>\n",
       "    </tr>\n",
       "  </thead>\n",
       "  <tbody>\n",
       "    <tr>\n",
       "      <th>0</th>\n",
       "      <td>62.764451</td>\n",
       "      <td>67.424308</td>\n",
       "      <td>0.930888</td>\n",
       "    </tr>\n",
       "    <tr>\n",
       "      <th>1</th>\n",
       "      <td>65.691718</td>\n",
       "      <td>66.581470</td>\n",
       "      <td>0.986637</td>\n",
       "    </tr>\n",
       "    <tr>\n",
       "      <th>2</th>\n",
       "      <td>67.156772</td>\n",
       "      <td>66.468136</td>\n",
       "      <td>1.010360</td>\n",
       "    </tr>\n",
       "    <tr>\n",
       "      <th>3</th>\n",
       "      <td>64.898436</td>\n",
       "      <td>65.442234</td>\n",
       "      <td>0.991690</td>\n",
       "    </tr>\n",
       "    <tr>\n",
       "      <th>4</th>\n",
       "      <td>71.902108</td>\n",
       "      <td>67.474580</td>\n",
       "      <td>1.065618</td>\n",
       "    </tr>\n",
       "    <tr>\n",
       "      <th>5</th>\n",
       "      <td>63.825486</td>\n",
       "      <td>67.324096</td>\n",
       "      <td>0.948033</td>\n",
       "    </tr>\n",
       "    <tr>\n",
       "      <th>6</th>\n",
       "      <td>67.238281</td>\n",
       "      <td>66.413333</td>\n",
       "      <td>1.012421</td>\n",
       "    </tr>\n",
       "    <tr>\n",
       "      <th>7</th>\n",
       "      <td>60.963442</td>\n",
       "      <td>65.378888</td>\n",
       "      <td>0.932464</td>\n",
       "    </tr>\n",
       "    <tr>\n",
       "      <th>8</th>\n",
       "      <td>62.009117</td>\n",
       "      <td>67.796617</td>\n",
       "      <td>0.914634</td>\n",
       "    </tr>\n",
       "    <tr>\n",
       "      <th>9</th>\n",
       "      <td>73.179534</td>\n",
       "      <td>66.954859</td>\n",
       "      <td>1.092968</td>\n",
       "    </tr>\n",
       "  </tbody>\n",
       "</table>\n",
       "</div>"
      ],
      "text/plain": [
       "       score        inv      char\n",
       "0  62.764451  67.424308  0.930888\n",
       "1  65.691718  66.581470  0.986637\n",
       "2  67.156772  66.468136  1.010360\n",
       "3  64.898436  65.442234  0.991690\n",
       "4  71.902108  67.474580  1.065618\n",
       "5  63.825486  67.324096  0.948033\n",
       "6  67.238281  66.413333  1.012421\n",
       "7  60.963442  65.378888  0.932464\n",
       "8  62.009117  67.796617  0.914634\n",
       "9  73.179534  66.954859  1.092968"
      ]
     },
     "execution_count": 86,
     "metadata": {},
     "output_type": "execute_result"
    }
   ],
   "source": [
    "pd.DataFrame([\n",
    "    {\n",
    "        'score': lca.score, \n",
    "        'inv': lca.inventory.sum(), \n",
    "        # 'heat': lca.technosphere_matrix[lca.dicts.product[ng.id], lca.dicts.activity[cf.id]],\n",
    "        'char': lca.characterization_matrix.sum()\n",
    "    } for _, _ in zip(lca, range(10))\n",
    "])"
   ]
  },
  {
   "cell_type": "markdown",
   "id": "ff85f580-13cc-4d11-93d3-3b5acd0b5ae8",
   "metadata": {},
   "source": [
    "What if we only want uncertainty in the characterization step?\n",
    "\n",
    "We need to modify the datapackage a bit"
   ]
  },
  {
   "cell_type": "code",
   "execution_count": 87,
   "id": "2504a424-c376-4ed8-9a9f-fb448e2d334f",
   "metadata": {},
   "outputs": [],
   "source": [
    "from bw_processing import load_datapackage\n",
    "from fs.zipfs import ZipFS"
   ]
  },
  {
   "cell_type": "code",
   "execution_count": 88,
   "id": "6ee62fb6-a338-4b2c-a689-0562af0777ab",
   "metadata": {},
   "outputs": [],
   "source": [
    "database_dp = load_datapackage(ZipFS(db.filepath_processed()))\n",
    "method_dp = load_datapackage(ZipFS(ipcc.filepath_processed()))"
   ]
  },
  {
   "cell_type": "markdown",
   "id": "3f1793c6-03a2-42b0-b56d-0ef926951514",
   "metadata": {},
   "source": [
    "We can use the datapackages directly, just as before:"
   ]
  },
  {
   "cell_type": "code",
   "execution_count": 89,
   "id": "146f6ad7-175d-45c8-8962-5d1024fe8e1c",
   "metadata": {},
   "outputs": [],
   "source": [
    "lca = bc.LCA(\n",
    "    {bike.id: 1},\n",
    "    data_objs=[database_dp, method_dp],\n",
    "    use_distributions=True,\n",
    "    seed_override=None\n",
    ")\n",
    "lca.lci()\n",
    "lca.lcia()"
   ]
  },
  {
   "cell_type": "code",
   "execution_count": 90,
   "id": "f583caa4-15c9-4abb-9722-0fe7151ecc25",
   "metadata": {},
   "outputs": [
    {
     "data": {
      "text/html": [
       "<div>\n",
       "<style scoped>\n",
       "    .dataframe tbody tr th:only-of-type {\n",
       "        vertical-align: middle;\n",
       "    }\n",
       "\n",
       "    .dataframe tbody tr th {\n",
       "        vertical-align: top;\n",
       "    }\n",
       "\n",
       "    .dataframe thead th {\n",
       "        text-align: right;\n",
       "    }\n",
       "</style>\n",
       "<table border=\"1\" class=\"dataframe\">\n",
       "  <thead>\n",
       "    <tr style=\"text-align: right;\">\n",
       "      <th></th>\n",
       "      <th>score</th>\n",
       "      <th>inv</th>\n",
       "      <th>char</th>\n",
       "    </tr>\n",
       "  </thead>\n",
       "  <tbody>\n",
       "    <tr>\n",
       "      <th>0</th>\n",
       "      <td>67.063269</td>\n",
       "      <td>66.643624</td>\n",
       "      <td>1.006297</td>\n",
       "    </tr>\n",
       "    <tr>\n",
       "      <th>1</th>\n",
       "      <td>65.682686</td>\n",
       "      <td>66.902617</td>\n",
       "      <td>0.981766</td>\n",
       "    </tr>\n",
       "    <tr>\n",
       "      <th>2</th>\n",
       "      <td>69.138147</td>\n",
       "      <td>66.533737</td>\n",
       "      <td>1.039144</td>\n",
       "    </tr>\n",
       "    <tr>\n",
       "      <th>3</th>\n",
       "      <td>62.597911</td>\n",
       "      <td>65.435395</td>\n",
       "      <td>0.956637</td>\n",
       "    </tr>\n",
       "    <tr>\n",
       "      <th>4</th>\n",
       "      <td>66.807213</td>\n",
       "      <td>67.180669</td>\n",
       "      <td>0.994441</td>\n",
       "    </tr>\n",
       "    <tr>\n",
       "      <th>5</th>\n",
       "      <td>63.258171</td>\n",
       "      <td>65.459003</td>\n",
       "      <td>0.966378</td>\n",
       "    </tr>\n",
       "    <tr>\n",
       "      <th>6</th>\n",
       "      <td>69.486621</td>\n",
       "      <td>65.331914</td>\n",
       "      <td>1.063594</td>\n",
       "    </tr>\n",
       "    <tr>\n",
       "      <th>7</th>\n",
       "      <td>65.188154</td>\n",
       "      <td>66.806162</td>\n",
       "      <td>0.975781</td>\n",
       "    </tr>\n",
       "    <tr>\n",
       "      <th>8</th>\n",
       "      <td>72.279078</td>\n",
       "      <td>66.064869</td>\n",
       "      <td>1.094062</td>\n",
       "    </tr>\n",
       "    <tr>\n",
       "      <th>9</th>\n",
       "      <td>66.121780</td>\n",
       "      <td>67.396909</td>\n",
       "      <td>0.981080</td>\n",
       "    </tr>\n",
       "  </tbody>\n",
       "</table>\n",
       "</div>"
      ],
      "text/plain": [
       "       score        inv      char\n",
       "0  67.063269  66.643624  1.006297\n",
       "1  65.682686  66.902617  0.981766\n",
       "2  69.138147  66.533737  1.039144\n",
       "3  62.597911  65.435395  0.956637\n",
       "4  66.807213  67.180669  0.994441\n",
       "5  63.258171  65.459003  0.966378\n",
       "6  69.486621  65.331914  1.063594\n",
       "7  65.188154  66.806162  0.975781\n",
       "8  72.279078  66.064869  1.094062\n",
       "9  66.121780  67.396909  0.981080"
      ]
     },
     "execution_count": 90,
     "metadata": {},
     "output_type": "execute_result"
    }
   ],
   "source": [
    "pd.DataFrame([\n",
    "    {\n",
    "        'score': lca.score, \n",
    "        'inv': lca.inventory.sum(), \n",
    "        'char': lca.characterization_matrix.sum()\n",
    "    } for _, _ in zip(lca, range(10))\n",
    "])"
   ]
  },
  {
   "cell_type": "markdown",
   "id": "c80ca5a2-25bc-4f87-bd18-4f36e7d6e18b",
   "metadata": {},
   "source": [
    "But we can also filter out the uncertainty from the $A$ matrix:"
   ]
  },
  {
   "cell_type": "code",
   "execution_count": 91,
   "id": "f74a9b91-5a9d-4d1c-b9ce-e3cf5ab1ae5a",
   "metadata": {},
   "outputs": [
    {
     "data": {
      "text/plain": [
       "{'mobility_biosphere_matrix': <bw_processing.datapackage.FilteredDatapackage at 0x12cef17c0>,\n",
       " 'mobility_inventory_geomapping_matrix': <bw_processing.datapackage.FilteredDatapackage at 0x12cef1d60>,\n",
       " 'mobility_technosphere_matrix': <bw_processing.datapackage.FilteredDatapackage at 0x12cef10d0>}"
      ]
     },
     "execution_count": 91,
     "metadata": {},
     "output_type": "execute_result"
    }
   ],
   "source": [
    "database_dp.groups"
   ]
  },
  {
   "cell_type": "code",
   "execution_count": 92,
   "id": "ca058508-7776-4878-8654-e958826477d5",
   "metadata": {},
   "outputs": [],
   "source": [
    "filtered_dp = (database_dp\n",
    "               .exclude_resource_group_kind('mobility_technosphere_matrix', 'distributions')\n",
    "               .exclude_resource_group_kind('mobility_biosphere_matrix', 'distributions')\n",
    "              )"
   ]
  },
  {
   "cell_type": "code",
   "execution_count": 93,
   "id": "4d68b645-be3a-433c-9491-6ef668752151",
   "metadata": {},
   "outputs": [
    {
     "data": {
      "text/plain": [
       "['mobility_biosphere_matrix.distributions',\n",
       " 'mobility_technosphere_matrix.distributions']"
      ]
     },
     "execution_count": 93,
     "metadata": {},
     "output_type": "execute_result"
    }
   ],
   "source": [
    "[obj['name'] for obj in database_dp.resources if obj['kind'] == 'distributions']"
   ]
  },
  {
   "cell_type": "code",
   "execution_count": 94,
   "id": "9cbaa90a-5ca5-4ee7-b1ef-eae4b60d778e",
   "metadata": {},
   "outputs": [
    {
     "data": {
      "text/plain": [
       "[]"
      ]
     },
     "execution_count": 94,
     "metadata": {},
     "output_type": "execute_result"
    }
   ],
   "source": [
    "[obj['name'] for obj in filtered_dp.resources if obj['kind'] == 'distributions']"
   ]
  },
  {
   "cell_type": "code",
   "execution_count": 95,
   "id": "d9af9f5d-659a-4f1a-a7a6-be81dceac673",
   "metadata": {},
   "outputs": [],
   "source": [
    "lca = bc.LCA(\n",
    "    {bike.id: 1},\n",
    "    data_objs=[filtered_dp, method_dp],\n",
    "    use_distributions=True,\n",
    "    seed_override=None\n",
    ")\n",
    "lca.lci()\n",
    "lca.lcia()"
   ]
  },
  {
   "cell_type": "code",
   "execution_count": 110,
   "id": "9188a9f4-a361-4f6b-8080-f39423509708",
   "metadata": {},
   "outputs": [
    {
     "data": {
      "text/html": [
       "<div>\n",
       "<style scoped>\n",
       "    .dataframe tbody tr th:only-of-type {\n",
       "        vertical-align: middle;\n",
       "    }\n",
       "\n",
       "    .dataframe tbody tr th {\n",
       "        vertical-align: top;\n",
       "    }\n",
       "\n",
       "    .dataframe thead th {\n",
       "        text-align: right;\n",
       "    }\n",
       "</style>\n",
       "<table border=\"1\" class=\"dataframe\">\n",
       "  <thead>\n",
       "    <tr style=\"text-align: right;\">\n",
       "      <th></th>\n",
       "      <th>score</th>\n",
       "      <th>inv</th>\n",
       "      <th>char</th>\n",
       "    </tr>\n",
       "  </thead>\n",
       "  <tbody>\n",
       "    <tr>\n",
       "      <th>0</th>\n",
       "      <td>62.673102</td>\n",
       "      <td>66.500001</td>\n",
       "      <td>0.942453</td>\n",
       "    </tr>\n",
       "    <tr>\n",
       "      <th>1</th>\n",
       "      <td>69.680132</td>\n",
       "      <td>66.500001</td>\n",
       "      <td>1.047822</td>\n",
       "    </tr>\n",
       "    <tr>\n",
       "      <th>2</th>\n",
       "      <td>65.141145</td>\n",
       "      <td>66.500001</td>\n",
       "      <td>0.979566</td>\n",
       "    </tr>\n",
       "    <tr>\n",
       "      <th>3</th>\n",
       "      <td>66.346803</td>\n",
       "      <td>66.500001</td>\n",
       "      <td>0.997696</td>\n",
       "    </tr>\n",
       "    <tr>\n",
       "      <th>4</th>\n",
       "      <td>66.129796</td>\n",
       "      <td>66.500001</td>\n",
       "      <td>0.994433</td>\n",
       "    </tr>\n",
       "    <tr>\n",
       "      <th>5</th>\n",
       "      <td>65.030756</td>\n",
       "      <td>66.500001</td>\n",
       "      <td>0.977906</td>\n",
       "    </tr>\n",
       "    <tr>\n",
       "      <th>6</th>\n",
       "      <td>65.826173</td>\n",
       "      <td>66.500001</td>\n",
       "      <td>0.989867</td>\n",
       "    </tr>\n",
       "    <tr>\n",
       "      <th>7</th>\n",
       "      <td>64.270620</td>\n",
       "      <td>66.500001</td>\n",
       "      <td>0.966475</td>\n",
       "    </tr>\n",
       "    <tr>\n",
       "      <th>8</th>\n",
       "      <td>64.721621</td>\n",
       "      <td>66.500001</td>\n",
       "      <td>0.973257</td>\n",
       "    </tr>\n",
       "    <tr>\n",
       "      <th>9</th>\n",
       "      <td>67.362556</td>\n",
       "      <td>66.500001</td>\n",
       "      <td>1.012971</td>\n",
       "    </tr>\n",
       "  </tbody>\n",
       "</table>\n",
       "</div>"
      ],
      "text/plain": [
       "       score        inv      char\n",
       "0  62.673102  66.500001  0.942453\n",
       "1  69.680132  66.500001  1.047822\n",
       "2  65.141145  66.500001  0.979566\n",
       "3  66.346803  66.500001  0.997696\n",
       "4  66.129796  66.500001  0.994433\n",
       "5  65.030756  66.500001  0.977906\n",
       "6  65.826173  66.500001  0.989867\n",
       "7  64.270620  66.500001  0.966475\n",
       "8  64.721621  66.500001  0.973257\n",
       "9  67.362556  66.500001  1.012971"
      ]
     },
     "execution_count": 110,
     "metadata": {},
     "output_type": "execute_result"
    }
   ],
   "source": [
    "pd.DataFrame([\n",
    "    {\n",
    "        'score': lca.score, \n",
    "        'inv': lca.inventory.sum(), \n",
    "        'char': lca.characterization_matrix.sum()\n",
    "    } for _, _ in zip(lca, range(10))\n",
    "])"
   ]
  },
  {
   "cell_type": "markdown",
   "id": "7cc76367-1b10-4dcb-94dd-e373e1e88fb2",
   "metadata": {},
   "source": [
    "We have a problem in our modelling. Maybe you spotted it already; in any case, we can see this LCI data in a document. This is the third perspective, and so we need to use our third library: `bw2io`."
   ]
  },
  {
   "cell_type": "code",
   "execution_count": 97,
   "id": "7c25b045-1d1b-4912-b27f-4a773d26fbd0",
   "metadata": {},
   "outputs": [],
   "source": [
    "from bw2io.export import write_lci_excel"
   ]
  },
  {
   "cell_type": "code",
   "execution_count": 98,
   "id": "87be73d1-2aca-421b-a04e-80e64b45f17b",
   "metadata": {},
   "outputs": [],
   "source": [
    "from pathlib import Path"
   ]
  },
  {
   "cell_type": "code",
   "execution_count": 99,
   "id": "9f32e4bc-0764-4d23-aeab-78e3a558bd44",
   "metadata": {},
   "outputs": [],
   "source": [
    "xl = Path(write_lci_excel(db.name))"
   ]
  },
  {
   "cell_type": "code",
   "execution_count": 100,
   "id": "ca375ed5-3681-46da-bda2-8907102de4b3",
   "metadata": {},
   "outputs": [
    {
     "data": {
      "text/plain": [
       "PosixPath('/Users/cmutel/Code/brightway/from-the-ground-up/notebooks/lci-mobility.xlsx')"
      ]
     },
     "execution_count": 100,
     "metadata": {},
     "output_type": "execute_result"
    }
   ],
   "source": [
    "xl.rename(Path.cwd() / xl.name)"
   ]
  },
  {
   "cell_type": "code",
   "execution_count": 101,
   "id": "45b0d692-8d45-46e8-92f7-b54b8a51a6e4",
   "metadata": {},
   "outputs": [],
   "source": [
    "bi.create_core_migrations()"
   ]
  },
  {
   "cell_type": "code",
   "execution_count": 102,
   "id": "b63c2a6b-538c-4a4e-83fb-60bf2095ee45",
   "metadata": {},
   "outputs": [
    {
     "name": "stdout",
     "output_type": "stream",
     "text": [
      "Extracted 1 worksheets in 0.04 seconds\n"
     ]
    }
   ],
   "source": [
    "xl_importer = bi.ExcelImporter(\"lci-mobility.xlsx\")"
   ]
  },
  {
   "cell_type": "code",
   "execution_count": 103,
   "id": "b33b0a20-8823-4201-89c1-2618638221fc",
   "metadata": {},
   "outputs": [
    {
     "name": "stdout",
     "output_type": "stream",
     "text": [
      "Applying strategy: csv_restore_tuples\n",
      "Applying strategy: csv_restore_booleans\n",
      "Applying strategy: csv_numerize\n",
      "Applying strategy: csv_drop_unknown\n",
      "Applying strategy: csv_add_missing_exchanges_section\n",
      "Applying strategy: normalize_units\n",
      "Applying strategy: normalize_biosphere_categories\n",
      "Applying strategy: normalize_biosphere_names\n",
      "Applying strategy: strip_biosphere_exc_locations\n",
      "Applying strategy: set_code_by_activity_hash\n",
      "Applying strategy: link_iterable_by_fields\n",
      "Applying strategy: assign_only_product_as_production\n",
      "Applying strategy: link_technosphere_by_activity_hash\n",
      "Applying strategy: drop_falsey_uncertainty_fields_but_keep_zeros\n",
      "Applying strategy: convert_uncertainty_types_to_integers\n",
      "Applying strategy: convert_activity_parameters_to_list\n",
      "Applied 16 strategies in 0.02 seconds\n"
     ]
    }
   ],
   "source": [
    "xl_importer.apply_strategies()"
   ]
  },
  {
   "cell_type": "code",
   "execution_count": 104,
   "id": "c2d00ad5-5224-445d-b2ac-7ad357da689c",
   "metadata": {},
   "outputs": [
    {
     "name": "stdout",
     "output_type": "stream",
     "text": [
      "3 datasets\n",
      "3 exchanges\n",
      "1 unlinked exchanges\n",
      "  Type biosphere: 1 unique unlinked exchanges\n"
     ]
    },
    {
     "data": {
      "text/plain": [
       "(3, 3, 1)"
      ]
     },
     "execution_count": 104,
     "metadata": {},
     "output_type": "execute_result"
    }
   ],
   "source": [
    "xl_importer.statistics()"
   ]
  },
  {
   "cell_type": "code",
   "execution_count": 105,
   "id": "4d01e5d5-c586-4493-b9bc-1d48a736eb76",
   "metadata": {},
   "outputs": [
    {
     "name": "stdout",
     "output_type": "stream",
     "text": [
      "{'name': 'Carbon Dioxide', 'amount': 26.6, 'categories': ('air',), 'type': 'biosphere', 'minimum': 26, 'maximum': 27.2, 'uncertainty_type': 5}\n"
     ]
    }
   ],
   "source": [
    "for obj in xl_importer.unlinked:\n",
    "    print(obj)"
   ]
  },
  {
   "cell_type": "code",
   "execution_count": 106,
   "id": "0ae5aea5-e924-465b-99fd-1e819f26c704",
   "metadata": {},
   "outputs": [
    {
     "data": {
      "text/plain": [
       "'Carbon Dioxide' (None, GLO, ('air',))"
      ]
     },
     "execution_count": 106,
     "metadata": {},
     "output_type": "execute_result"
    }
   ],
   "source": [
    "co2"
   ]
  },
  {
   "cell_type": "code",
   "execution_count": 107,
   "id": "79b523cf-9890-482a-9c64-50763821631f",
   "metadata": {},
   "outputs": [
    {
     "name": "stdout",
     "output_type": "stream",
     "text": [
      "Applying strategy: link_iterable_by_fields\n"
     ]
    }
   ],
   "source": [
    "xl_importer.match_database(\"biosphere\", fields=['name'])"
   ]
  },
  {
   "cell_type": "code",
   "execution_count": 108,
   "id": "c0a4e88a-db1f-4420-b368-c0b0dca282b2",
   "metadata": {},
   "outputs": [
    {
     "name": "stdout",
     "output_type": "stream",
     "text": [
      "3 datasets\n",
      "3 exchanges\n",
      "0 unlinked exchanges\n",
      "  \n"
     ]
    },
    {
     "data": {
      "text/plain": [
       "(3, 3, 0)"
      ]
     },
     "execution_count": 108,
     "metadata": {},
     "output_type": "execute_result"
    }
   ],
   "source": [
    "xl_importer.statistics()"
   ]
  },
  {
   "cell_type": "code",
   "execution_count": 109,
   "id": "456636bb-063a-4cd3-8166-a0d891cc0bba",
   "metadata": {},
   "outputs": [
    {
     "name": "stderr",
     "output_type": "stream",
     "text": [
      "Writing activities to SQLite3 database:\n",
      "0% [###] 100% | ETA: 00:00:00\n",
      "Total time elapsed: 00:00:00\n"
     ]
    },
    {
     "name": "stdout",
     "output_type": "stream",
     "text": [
      "Title: Writing activities to SQLite3 database:\n",
      "  Started: 10/18/2021 23:01:41\n",
      "  Finished: 10/18/2021 23:01:41\n",
      "  Total time elapsed: 00:00:00\n",
      "  CPU %: 52.50\n",
      "  Memory %: 1.80\n",
      "Created database: mobility\n"
     ]
    }
   ],
   "source": [
    "xl_importer.write_database()"
   ]
  },
  {
   "cell_type": "code",
   "execution_count": null,
   "id": "9ba79356-d060-4e51-8b83-5bb8c7936aa3",
   "metadata": {},
   "outputs": [],
   "source": []
  }
 ],
 "metadata": {
  "kernelspec": {
   "display_name": "Python 3 (ipykernel)",
   "language": "python",
   "name": "python3"
  },
  "language_info": {
   "codemirror_mode": {
    "name": "ipython",
    "version": 3
   },
   "file_extension": ".py",
   "mimetype": "text/x-python",
   "name": "python",
   "nbconvert_exporter": "python",
   "pygments_lexer": "ipython3",
   "version": "3.9.7"
  }
 },
 "nbformat": 4,
 "nbformat_minor": 5
}
