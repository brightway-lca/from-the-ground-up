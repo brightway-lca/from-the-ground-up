{
 "cells": [
  {
   "cell_type": "code",
   "execution_count": 117,
   "id": "85e73590-8e13-4d97-8971-8e14247f8b63",
   "metadata": {},
   "outputs": [],
   "source": [
    "# import bw2regional as br\n",
    "import bw2data as bd\n",
    "import bw2calc as bc"
   ]
  },
  {
   "cell_type": "code",
   "execution_count": 29,
   "id": "671f0409-d146-4bee-a13a-2cdaee4d04b6",
   "metadata": {},
   "outputs": [],
   "source": [
    "bd.projects.set_current(\"shared scale\")"
   ]
  },
  {
   "cell_type": "code",
   "execution_count": 104,
   "id": "2dfd41a6-4de0-4885-94e6-6a499f878b1c",
   "metadata": {},
   "outputs": [],
   "source": [
    "for db_name in list(bd.databases):\n",
    "    del bd.databases[db_name]\n",
    "    \n",
    "for method in list(bd.methods):\n",
    "    del bd.methods[method]"
   ]
  },
  {
   "cell_type": "code",
   "execution_count": 105,
   "id": "cf5f193a-a889-432a-a5f6-ddd9b7605084",
   "metadata": {},
   "outputs": [],
   "source": [
    "db = bd.Database(\"shared-scale\")\n",
    "db.register(geocollections=[\"watersheds\"])"
   ]
  },
  {
   "cell_type": "code",
   "execution_count": 106,
   "id": "c5ab45a8-bd63-4eec-80fc-683d4bb8cb06",
   "metadata": {},
   "outputs": [],
   "source": [
    "# br.geocollections[\"watersheds\"] = {}"
   ]
  },
  {
   "cell_type": "code",
   "execution_count": 107,
   "id": "5ea5d25c-f715-4983-abf2-6441f6f9570c",
   "metadata": {},
   "outputs": [],
   "source": [
    "first = db.new_activity(name=\"first\", code=\"1\", location=(\"watersheds\", \"a\"))\n",
    "second = db.new_activity(name=\"second\", code=\"2\", location=(\"watersheds\", \"b\"))\n",
    "water = db.new_activity(name=\"water\", code=\"h2o\", type=\"emission\")\n",
    "gw = db.new_activity(name=\"groundwater\", code=\"gw\", type=\"emission\")\n",
    "first.save(), second.save(), water.save(), gw.save()\n",
    "first.new_exchange(input=second, type=\"technosphere\", amount=10).save()\n",
    "first.new_exchange(input=water, type=\"biosphere\", amount=5).save()\n",
    "second.new_exchange(input=water, type=\"biosphere\", amount=2).save()\n",
    "second.new_exchange(input=gw, type=\"biosphere\", amount=20).save()"
   ]
  },
  {
   "cell_type": "code",
   "execution_count": 108,
   "id": "b47e3e89-0874-44dc-b8a7-7af33f07af3a",
   "metadata": {},
   "outputs": [],
   "source": [
    "water_consumption = bd.Method((\"water consumption\", \"watershed scale\"))\n",
    "water_consumption.register(unit=\"DALYs\", geocollections=[\"watersheds\"])\n",
    "water_consumption.write([\n",
    "    # Stressor, CF amount, location with geocollection\n",
    "    (water.key, 1e6),  # Implicit global value \"GLO\"\n",
    "    (water.key, 2, (\"watersheds\", \"a\")),    \n",
    "    (water.key, 4, (\"watersheds\", \"b\")),\n",
    "])"
   ]
  },
  {
   "cell_type": "code",
   "execution_count": 118,
   "id": "b023adab-0cea-4838-b634-799df38b8bcb",
   "metadata": {},
   "outputs": [
    {
     "data": {
      "text/plain": [
       "25000150.0"
      ]
     },
     "execution_count": 118,
     "metadata": {},
     "output_type": "execute_result"
    }
   ],
   "source": [
    "sg_lca = bc.LCA({first: 1}, (\"water consumption\", \"watershed scale\"))\n",
    "sg_lca.lci()\n",
    "sg_lca.lcia()\n",
    "sg_lca.score"
   ]
  },
  {
   "cell_type": "code",
   "execution_count": 109,
   "id": "71c975ca-a53d-4960-8e01-3adba119ba66",
   "metadata": {},
   "outputs": [],
   "source": [
    "lca = br.OneSpatialScaleLCA({first: 1}, (\"water consumption\", \"watershed scale\"))"
   ]
  },
  {
   "cell_type": "code",
   "execution_count": 110,
   "id": "0ca27ef2-d06f-42f0-b589-2dfb39f3d355",
   "metadata": {},
   "outputs": [],
   "source": [
    "lca.lci()\n",
    "lca.lcia()"
   ]
  },
  {
   "cell_type": "code",
   "execution_count": 111,
   "id": "6c159a8b-e227-4863-8881-6b25b7e056f5",
   "metadata": {},
   "outputs": [
    {
     "data": {
      "text/plain": [
       "90.0"
      ]
     },
     "execution_count": 111,
     "metadata": {},
     "output_type": "execute_result"
    }
   ],
   "source": [
    "lca.score"
   ]
  },
  {
   "cell_type": "code",
   "execution_count": 112,
   "id": "f1201780-bac0-4a72-a69a-0d42e3c563aa",
   "metadata": {},
   "outputs": [
    {
     "data": {
      "text/plain": [
       "<2x2 sparse matrix of type '<class 'numpy.float64'>'\n",
       "\twith 2 stored elements in Compressed Sparse Row format>"
      ]
     },
     "execution_count": 112,
     "metadata": {},
     "output_type": "execute_result"
    }
   ],
   "source": [
    "lca.reg_cf_matrix"
   ]
  },
  {
   "cell_type": "code",
   "execution_count": 113,
   "id": "e4f51561-0d10-4866-b935-e9718260982b",
   "metadata": {},
   "outputs": [
    {
     "data": {
      "text/plain": [
       "<2x2 sparse matrix of type '<class 'numpy.float64'>'\n",
       "\twith 2 stored elements in Compressed Sparse Row format>"
      ]
     },
     "execution_count": 113,
     "metadata": {},
     "output_type": "execute_result"
    }
   ],
   "source": [
    "lca.inv_mapping_matrix"
   ]
  },
  {
   "cell_type": "code",
   "execution_count": 114,
   "id": "5cbe3525-224a-46dc-a18b-74a20d4a9ae7",
   "metadata": {},
   "outputs": [
    {
     "data": {
      "text/plain": [
       "<2x2 sparse matrix of type '<class 'numpy.float64'>'\n",
       "\twith 2 stored elements in Compressed Sparse Column format>"
      ]
     },
     "execution_count": 114,
     "metadata": {},
     "output_type": "execute_result"
    }
   ],
   "source": [
    "res = lca.results_inv_spatial_scale()\n",
    "res"
   ]
  },
  {
   "cell_type": "code",
   "execution_count": 116,
   "id": "fd1f7103-b1a7-4642-9f78-49e15a40f3aa",
   "metadata": {},
   "outputs": [
    {
     "data": {
      "text/plain": [
       "array([[ 5.,  2.],\n",
       "       [ 0., 20.]])"
      ]
     },
     "execution_count": 116,
     "metadata": {},
     "output_type": "execute_result"
    }
   ],
   "source": [
    "lca.biosphere_matrix.toarray()"
   ]
  },
  {
   "cell_type": "code",
   "execution_count": 115,
   "id": "fdc3046e-785a-47de-a2d4-028f6656ea6d",
   "metadata": {},
   "outputs": [
    {
     "name": "stdout",
     "output_type": "stream",
     "text": [
      "GLO\n",
      "('watersheds', 'a')\n",
      "[[10.]\n",
      " [ 0.]]\n",
      "('watersheds', 'b')\n",
      "[[80.]\n",
      " [ 0.]]\n"
     ]
    }
   ],
   "source": [
    "res.sum(axis=0)\n",
    "\n",
    "for location, index in bd.geomapping.items():\n",
    "    print(location)\n",
    "    if index in lca.dicts.inv_spatial:\n",
    "        print(res[:, lca.dicts.inv_spatial[index]].toarray())"
   ]
  },
  {
   "cell_type": "code",
   "execution_count": 87,
   "id": "56eec5ec-49b1-4e3c-8ff8-5929ef8f1a41",
   "metadata": {},
   "outputs": [
    {
     "data": {
      "text/plain": [
       "matrix([[90.]])"
      ]
     },
     "execution_count": 87,
     "metadata": {},
     "output_type": "execute_result"
    }
   ],
   "source": [
    "res.sum(axis=1)"
   ]
  },
  {
   "cell_type": "code",
   "execution_count": null,
   "id": "69ac036b-bddd-4f80-b672-754808ee8e7f",
   "metadata": {},
   "outputs": [],
   "source": []
  }
 ],
 "metadata": {
  "kernelspec": {
   "display_name": "Python 3 (ipykernel)",
   "language": "python",
   "name": "python3"
  },
  "language_info": {
   "codemirror_mode": {
    "name": "ipython",
    "version": 3
   },
   "file_extension": ".py",
   "mimetype": "text/x-python",
   "name": "python",
   "nbconvert_exporter": "python",
   "pygments_lexer": "ipython3",
   "version": "3.9.7"
  }
 },
 "nbformat": 4,
 "nbformat_minor": 5
}
