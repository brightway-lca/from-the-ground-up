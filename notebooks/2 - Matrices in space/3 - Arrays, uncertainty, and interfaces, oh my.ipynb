{
 "cells": [
  {
   "cell_type": "markdown",
   "id": "8ff02aff-c9c8-4941-b8dc-ba04258d95c7",
   "metadata": {},
   "source": [
    "# 3 - Arrays, uncertainty, and interfaces, oh my!"
   ]
  },
  {
   "cell_type": "markdown",
   "id": "8f1e7a32-39ee-4adc-8cbd-86a5620f58e2",
   "metadata": {},
   "source": [
    "Here is an example system:\n",
    "\n",
    "Technosphere:\n",
    "\n",
    "$$\\begin{bmatrix} 1 & 0 & 0 \\\\ -2 & 4 & 0 \\\\ 3 & -5 & 6 \\end{bmatrix}$$\n",
    "\n",
    "Let's say the products (in order from top to bottom) are 101, 102, and 103; similarly, the activities are 201, 202, and 203.\n",
    "\n",
    "Biosphere:\n",
    "\n",
    "$$\\begin{bmatrix} 1 & 0 & -1 \\\\ 0 & 2 & 0  \\end{bmatrix}$$\n",
    "\n",
    "Biosphere flows are 301 and 302.\n",
    "\n",
    "In our impact category, 301 is a factor of 5 and 302 has a factor of 10. We can build this system with a single datapackage:"
   ]
  },
  {
   "cell_type": "code",
   "execution_count": 4,
   "id": "a51cc774-e17b-4ab0-822d-d8c25e48e009",
   "metadata": {},
   "outputs": [],
   "source": [
    "import numpy as np\n",
    "import bw_processing as bwp\n",
    "import bw2calc as bc"
   ]
  },
  {
   "cell_type": "code",
   "execution_count": 5,
   "id": "fb98b6b1-cb86-413a-8843-8ee37a969679",
   "metadata": {},
   "outputs": [],
   "source": [
    "dp = bwp.create_datapackage()\n",
    "\n",
    "data_array = np.array([1, 2, 4, 3, 5, 6])\n",
    "indices_array = np.array([(101, 201), (102, 201), (102, 202), (103, 201), (103, 202), (103, 203)], dtype=bwp.INDICES_DTYPE)\n",
    "flip_array = np.array([False, True, False, False, True, False])\n",
    "dp.add_persistent_vector(\n",
    "    matrix=\"technosphere_matrix\",\n",
    "    data_array=data_array,\n",
    "    name=\"t\",\n",
    "    indices_array=indices_array,\n",
    "    flip_array=flip_array\n",
    ")\n",
    "\n",
    "data_array = np.array([1, -1, 2])\n",
    "indices_array = np.array([(301, 201), (301, 203), (302, 202)], dtype=bwp.INDICES_DTYPE)\n",
    "dp.add_persistent_vector(\n",
    "    matrix=\"biosphere_matrix\",\n",
    "    data_array=data_array,\n",
    "    name=\"b\",\n",
    "    indices_array=indices_array,\n",
    ")\n",
    "\n",
    "data_array = np.array([5, 10])\n",
    "indices_array = np.array([(301, 0), (302, 0)], dtype=bwp.INDICES_DTYPE)\n",
    "dp.add_persistent_vector(\n",
    "    matrix=\"characterization_matrix\",\n",
    "    data_array=data_array,\n",
    "    name=\"c\",\n",
    "    indices_array=indices_array,\n",
    ")"
   ]
  },
  {
   "cell_type": "code",
   "execution_count": 6,
   "id": "e7c90d29-aaef-4705-909c-13ae877f108c",
   "metadata": {},
   "outputs": [
    {
     "data": {
      "text/plain": [
       "15.416666666666668"
      ]
     },
     "execution_count": 6,
     "metadata": {},
     "output_type": "execute_result"
    }
   ],
   "source": [
    "lca = bc.LCA({101: 1}, data_objs=[dp])\n",
    "lca.lci()\n",
    "lca.lcia()\n",
    "lca.score"
   ]
  },
  {
   "cell_type": "code",
   "execution_count": null,
   "id": "91f5a2b3-cb41-4339-8f77-bf0d396f8963",
   "metadata": {},
   "outputs": [],
   "source": []
  }
 ],
 "metadata": {
  "kernelspec": {
   "display_name": "Python 3 (ipykernel)",
   "language": "python",
   "name": "python3"
  },
  "language_info": {
   "codemirror_mode": {
    "name": "ipython",
    "version": 3
   },
   "file_extension": ".py",
   "mimetype": "text/x-python",
   "name": "python",
   "nbconvert_exporter": "python",
   "pygments_lexer": "ipython3",
   "version": "3.9.7"
  }
 },
 "nbformat": 4,
 "nbformat_minor": 5
}
