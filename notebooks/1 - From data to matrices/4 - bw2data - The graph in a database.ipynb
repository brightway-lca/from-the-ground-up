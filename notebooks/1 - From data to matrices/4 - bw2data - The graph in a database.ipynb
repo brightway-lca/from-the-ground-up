{
 "cells": [
  {
   "cell_type": "markdown",
   "id": "f72ca9c0-623b-4358-afc9-e9a7c606d102",
   "metadata": {},
   "source": [
    "# 4 - bw2data - The graph in a database"
   ]
  },
  {
   "cell_type": "code",
   "execution_count": 1,
   "id": "73ad8843-58b9-4975-bd89-d2508ac992ca",
   "metadata": {},
   "outputs": [],
   "source": [
    "import bw2data as bd"
   ]
  },
  {
   "cell_type": "markdown",
   "id": "43798d94-b985-4c61-9c89-56f5b330c64f",
   "metadata": {},
   "source": [
    "The first thing to learn about `bw2data` is the concept of projects. Each project is self-contained, and indepenent of other projects. This can sometimes lead to data duplication, but helps keep each project safe from the others.\n",
    "\n",
    "Just like we odn't want to install things into the base anaconda directory, it is best practice now to use the default project. It is called `default`:"
   ]
  },
  {
   "cell_type": "code",
   "execution_count": 2,
   "id": "501f40ae-0f41-4cc2-9aad-c2317f9642a8",
   "metadata": {},
   "outputs": [
    {
     "data": {
      "text/plain": [
       "'default'"
      ]
     },
     "execution_count": 2,
     "metadata": {},
     "output_type": "execute_result"
    }
   ],
   "source": [
    "bd.projects.current"
   ]
  },
  {
   "cell_type": "markdown",
   "id": "0636bf15-5339-4816-9c34-a120dfc34b3d",
   "metadata": {},
   "source": [
    "It has its own directory:"
   ]
  },
  {
   "cell_type": "code",
   "execution_count": 3,
   "id": "295ae718-fced-4833-b997-f7433352ef40",
   "metadata": {},
   "outputs": [
    {
     "data": {
      "text/plain": [
       "PosixPath('/Users/cmutel/Library/Application Support/Brightway3/default.c21f969b5f03d33d43e04f8f136e7682')"
      ]
     },
     "execution_count": 3,
     "metadata": {},
     "output_type": "execute_result"
    }
   ],
   "source": [
    "bd.projects.dir"
   ]
  },
  {
   "cell_type": "markdown",
   "id": "b67681db-d546-4f1a-90c9-2f0659c768ab",
   "metadata": {},
   "source": [
    "Let's create a new project:"
   ]
  },
  {
   "cell_type": "code",
   "execution_count": 4,
   "id": "dd63cc67-aa35-424f-a671-d5ac9cc8b5f5",
   "metadata": {},
   "outputs": [],
   "source": [
    "bd.projects.set_current(\"from-the-ground-up\")"
   ]
  },
  {
   "cell_type": "markdown",
   "id": "588c29fa-e7ef-46bc-9956-e3d71977dc98",
   "metadata": {},
   "source": [
    "(concept of Brightway databases)"
   ]
  },
  {
   "cell_type": "markdown",
   "id": "521e2ad1-4f0e-4d2b-9488-592147a4ad0e",
   "metadata": {},
   "source": [
    "We can use a shortcut to install some data:"
   ]
  },
  {
   "cell_type": "code",
   "execution_count": 6,
   "id": "4aba7543-fea8-4a41-a84e-ee436709181a",
   "metadata": {},
   "outputs": [
    {
     "name": "stdout",
     "output_type": "stream",
     "text": [
      "Downloading US EEIO 1.1\n",
      "Unzipping file\n",
      "Importing data\n",
      "Applying strategy: json_ld_allocate_datasets\n",
      "Applying strategy: json_ld_get_normalized_exchange_locations\n",
      "Applying strategy: json_ld_convert_unit_to_reference_unit\n",
      "Applying strategy: json_ld_get_activities_list_from_rawdata\n",
      "Applying strategy: json_ld_add_products_as_activities\n",
      "Applying strategy: json_ld_get_normalized_exchange_units\n",
      "Applying strategy: json_ld_add_activity_unit\n",
      "Applying strategy: json_ld_rename_metadata_fields\n",
      "Applying strategy: json_ld_location_name\n",
      "Applying strategy: json_ld_remove_fields\n",
      "Applying strategy: json_ld_fix_process_type\n",
      "Applying strategy: json_ld_label_exchange_type\n",
      "Applying strategy: json_ld_prepare_exchange_fields_for_linking\n",
      "Applying strategy: add_database_name\n",
      "Applying strategy: link_iterable_by_fields\n",
      "Applying strategy: link_iterable_by_fields\n",
      "Applying strategy: normalize_units\n",
      "Applied 17 strategies in 1.36 seconds\n",
      "Moved 1873 biosphere flows to `self.data`\n"
     ]
    },
    {
     "name": "stderr",
     "output_type": "stream",
     "text": [
      "Writing activities to SQLite3 database:\n"
     ]
    },
    {
     "name": "stdout",
     "output_type": "stream",
     "text": [
      "2649 datasets\n",
      "162926 exchanges\n",
      "0 unlinked exchanges\n",
      "  \n"
     ]
    },
    {
     "name": "stderr",
     "output_type": "stream",
     "text": [
      "0% [##############################] 100% | ETA: 00:00:00\n",
      "Total time elapsed: 00:00:14\n"
     ]
    },
    {
     "name": "stdout",
     "output_type": "stream",
     "text": [
      "Title: Writing activities to SQLite3 database:\n",
      "  Started: 10/17/2021 18:24:55\n",
      "  Finished: 10/17/2021 18:25:10\n",
      "  Total time elapsed: 00:00:14\n",
      "  CPU %: 83.00\n",
      "  Memory %: 3.69\n",
      "Created database: US EEIO 1.1\n",
      "Applying strategy: json_ld_lcia_add_method_metadata\n",
      "Applying strategy: json_ld_lcia_convert_to_list\n",
      "Applying strategy: json_ld_lcia_set_method_metadata\n",
      "Applying strategy: json_ld_lcia_reformat_cfs_as_exchanges\n",
      "Applying strategy: normalize_units\n",
      "Applied 5 strategies in 0.01 seconds\n",
      "19 methods\n",
      "4511 cfs\n",
      "0 unlinked cfs\n",
      "Wrote 19 LCIA methods with 4511 characterization factors\n"
     ]
    }
   ],
   "source": [
    "import bw2io as bi\n",
    "bi.useeio11()"
   ]
  },
  {
   "cell_type": "code",
   "execution_count": 5,
   "id": "d23260fc-6e05-430b-aae6-b4390390372b",
   "metadata": {},
   "outputs": [
    {
     "data": {
      "text/plain": [
       "Databases dictionary with 1 object(s):\n",
       "\tUS EEIO 1.1"
      ]
     },
     "execution_count": 5,
     "metadata": {},
     "output_type": "execute_result"
    }
   ],
   "source": [
    "bd.databases"
   ]
  },
  {
   "cell_type": "code",
   "execution_count": 9,
   "id": "bdd92c2f-17b3-4d01-86ae-89dcb6d89830",
   "metadata": {},
   "outputs": [
    {
     "data": {
      "text/plain": [
       "2649"
      ]
     },
     "execution_count": 9,
     "metadata": {},
     "output_type": "execute_result"
    }
   ],
   "source": [
    "db = bd.Database(\"US EEIO 1.1\")\n",
    "len(db)"
   ]
  },
  {
   "cell_type": "code",
   "execution_count": 10,
   "id": "631dfa06-3322-4911-a4d7-2866a858e509",
   "metadata": {},
   "outputs": [
    {
     "data": {
      "text/plain": [
       "{'emission', 'process', 'product'}"
      ]
     },
     "execution_count": 10,
     "metadata": {},
     "output_type": "execute_result"
    }
   ],
   "source": [
    "{node['type'] for node in db}"
   ]
  },
  {
   "cell_type": "code",
   "execution_count": null,
   "id": "3ac1549b-0780-4a97-84ea-3a719c23d14e",
   "metadata": {},
   "outputs": [],
   "source": [
    "sorted({node['name'] for node in db})"
   ]
  },
  {
   "cell_type": "markdown",
   "id": "6f8122b5-aa05-4e0d-aa41-6fcba07e6b97",
   "metadata": {},
   "source": [
    "* list comprehensions\n",
    "* db.search()"
   ]
  },
  {
   "cell_type": "code",
   "execution_count": 12,
   "id": "b2821453-df22-4729-af12-e2afbede7c24",
   "metadata": {},
   "outputs": [
    {
     "data": {
      "text/plain": [
       "Methods dictionary with 19 object(s):\n",
       "\t('Impact Potential', 'ACID')\n",
       "\t('Impact Potential', 'ETOX')\n",
       "\t('Impact Potential', 'EUTR')\n",
       "\t('Impact Potential', 'GCC')\n",
       "\t('Impact Potential', 'HC')\n",
       "\t('Impact Potential', 'HNC')\n",
       "\t('Impact Potential', 'HRSP')\n",
       "\t('Impact Potential', 'HTOX')\n",
       "\t('Impact Potential', 'OZON')\n",
       "\t('Impact Potential', 'SMOG')\n",
       "\t('Releases', 'HAPS')\n",
       "\t('Releases', 'METL')\n",
       "\t('Releases', 'PEST')\n",
       "\t('Resource Use', 'ENRG')\n",
       "\t('Resource Use', 'LAND')\n",
       "\t('Resource Use', 'MINE')\n",
       "\t('Resource Use', 'NREN')\n",
       "\t('Resource Use', 'REN')\n",
       "\t('Resource Use', 'WATR')"
      ]
     },
     "execution_count": 12,
     "metadata": {},
     "output_type": "execute_result"
    }
   ],
   "source": [
    "bd.methods"
   ]
  },
  {
   "cell_type": "code",
   "execution_count": 13,
   "id": "96689d2c-95fb-434f-97e4-14cdfc6b337a",
   "metadata": {},
   "outputs": [
    {
     "name": "stdout",
     "output_type": "stream",
     "text": [
      "'methane, dichloro-, hcc-30' (, None, ('air', 'unspecified')) 8.7\n",
      "'Methane, dibromo-' (, None, ('air', 'unspecified')) 1.54\n",
      "'Propane, perfluoro-' (, None, ('air', 'unspecified')) 8830.0\n",
      "'methane, chlorodifluoro-, hcfc-22' (, None, ('air', 'unspecified')) 1810.0\n",
      "'Butane, perfluorocyclo-, PFC-318' (, None, ('air', 'unspecified')) 10300.0\n",
      "'Ethane, pentafluoro-, HFC-125' (, None, ('air', 'unspecified')) 3500.0\n",
      "'HALON 1301' (, None, ('air', 'unspecified')) 7140.0\n",
      "'Ethane, 1,1,1-trifluoro-, HFC-143a' (, None, ('air', 'unspecified')) 4470.0\n",
      "'Methane, tetrafluoro-, R-14' (, None, ('air', 'unspecified')) 7390.0\n",
      "'HALON 1211' (, None, ('air', 'unspecified')) 1890.0\n",
      "'Ethane, 1,1-dichloro-1-fluoro-, HCFC-141b' (, None, ('air', 'unspecified')) 725.0\n",
      "'Methane, trichlorofluoro-, CFC-11' (, None, ('air', 'unspecified')) 4750.0\n",
      "'HCFC-225ca' (, None, ('air', 'unspecified')) 122.0\n",
      "'1,1,1-trichloroethane' (, None, ('air', 'unspecified')) 146.0\n",
      "'chloroform' (, None, ('air', 'unspecified')) 31.0\n",
      "'Methane, bromo-, Halon 1001' (, None, ('air', 'low population density')) 5.0\n",
      "'Methane, difluoro-, HFC-32' (, None, ('air', 'unspecified')) 675.0\n",
      "'Ethane, 1,1,1,2-tetrafluoro-, HFC-134a' (, None, ('air', 'unspecified')) 1430.0\n",
      "'Ethane, 2,2-dichloro-1,1,1-trifluoro-, HCFC-123' (, None, ('air', 'unspecified')) 77.0\n",
      "'methane, bromo-, halon 1001' (, None, ('air', 'unspecified')) 5.0\n",
      "'Methane' (, None, ('air', 'unspecified')) 25.0\n",
      "'Dinitrogen monoxide' (, None, ('air', 'unspecified')) 298.0\n",
      "'Carbon dioxide' (, None, ('air', 'unspecified')) 1.0\n",
      "'methane, tetrachloro-, R-10' (, None, ('air', 'unspecified')) 1400.0\n",
      "'NITROGEN TRIFLUORIDE' (, None, ('air', 'unspecified')) 17200.0\n",
      "'carbon tetrachloride' (, None, ('air', 'unspecified')) 1400.0\n",
      "'CFC-115' (, None, ('air', 'unspecified')) 7370.0\n",
      "'Ethane, 2-chloro-1,1,1,2-tetrafluoro-, HCFC-124' (, None, ('air', 'unspecified')) 609.0\n",
      "'CFC-13' (, None, ('air', 'unspecified')) 14400.0\n",
      "'Sulfur hexafluoride' (, None, ('air', 'unspecified')) 22800.0\n",
      "'HCFC-142b' (, None, ('air', 'unspecified')) 2310.0\n",
      "'Propane, 1,1,1,3,3,3-hexafluoro-, HCFC-236fa' (, None, ('air', 'unspecified')) 9810.0\n",
      "'methane, monochloro-, r-40' (, None, ('air', 'unspecified')) 13.0\n",
      "'Methane, dichlorodifluoro-, CFC-12' (, None, ('air', 'unspecified')) 10900.0\n",
      "'HCFC-225cb' (, None, ('air', 'unspecified')) 595.0\n",
      "'Methane, trifluoro-, HFC-23' (, None, ('air', 'unspecified')) 14800.0\n",
      "'Nitrogen fluoride' (, None, ('air', 'unspecified')) 17200.0\n",
      "'Ethane, 1,1,2-trichloro-1,2,2-trifluoro-, CFC-113' (, None, ('air', 'unspecified')) 6130.0\n",
      "'HCFC-21' (, None, ('air', 'unspecified')) 151.0\n",
      "'CFC-114' (, None, ('air', 'unspecified')) 10000.0\n",
      "'Ethane, hexafluoro-, HFC-116' (, None, ('air', 'unspecified')) 12200.0\n"
     ]
    }
   ],
   "source": [
    "for activity_key, cf_amount in bd.Method(('Impact Potential', 'GCC')).load():\n",
    "    print(bd.get_activity(activity_key), cf_amount)"
   ]
  },
  {
   "cell_type": "markdown",
   "id": "2ceb50ec-ff3b-4225-a51e-465fb4c5dd97",
   "metadata": {},
   "source": [
    "What are these \"keys\"?"
   ]
  },
  {
   "cell_type": "markdown",
   "id": "a520b6b7-3633-4d4d-9ed7-e4407bb9ee15",
   "metadata": {},
   "source": [
    "## Interacting with the graph"
   ]
  },
  {
   "cell_type": "code",
   "execution_count": 14,
   "id": "8fe2144f-665b-4442-9bcb-c9a46acd4a8f",
   "metadata": {},
   "outputs": [
    {
     "data": {
      "text/plain": [
       "'Cattle ranches and feedlots' (, United States, ('11: Agriculture, Forestry, Fishing and Hunting', '1121: Cattle Ranching and Farming'))"
      ]
     },
     "execution_count": 14,
     "metadata": {},
     "output_type": "execute_result"
    }
   ],
   "source": [
    "moo = next(obj for obj in db if obj['name'] == 'Cattle ranches and feedlots' and obj['type'] == 'product')\n",
    "moo"
   ]
  },
  {
   "cell_type": "code",
   "execution_count": 15,
   "id": "e2d44d33-a05d-4521-b703-d346e38818f4",
   "metadata": {},
   "outputs": [
    {
     "data": {
      "text/plain": [
       "True"
      ]
     },
     "execution_count": 15,
     "metadata": {},
     "output_type": "execute_result"
    }
   ],
   "source": [
    "type(moo) == bd.Node"
   ]
  },
  {
   "cell_type": "code",
   "execution_count": 17,
   "id": "f1b0bea6-ff38-4a4e-9adb-0bd0e39930ec",
   "metadata": {},
   "outputs": [
    {
     "data": {
      "text/plain": [
       "(('11: Agriculture, Forestry, Fishing and Hunting',\n",
       "  '1121: Cattle Ranching and Farming'),\n",
       " 'United States',\n",
       " '')"
      ]
     },
     "execution_count": 17,
     "metadata": {},
     "output_type": "execute_result"
    }
   ],
   "source": [
    "moo['categories'], moo['location'], moo['unit']"
   ]
  },
  {
   "cell_type": "code",
   "execution_count": 19,
   "id": "e5d7bc9e-3c08-4ae6-bd73-a08f41015ab0",
   "metadata": {},
   "outputs": [],
   "source": [
    "for edge in moo.exchanges():\n",
    "    print(edge)"
   ]
  },
  {
   "cell_type": "code",
   "execution_count": 20,
   "id": "52d61c31-8d96-482c-a80a-02364bea8ea3",
   "metadata": {},
   "outputs": [],
   "source": [
    "import bw2calc as bc"
   ]
  },
  {
   "cell_type": "code",
   "execution_count": 21,
   "id": "8d161023-cffe-4646-ae39-85def8404dda",
   "metadata": {},
   "outputs": [
    {
     "data": {
      "text/plain": [
       "4.678528235935018"
      ]
     },
     "execution_count": 21,
     "metadata": {},
     "output_type": "execute_result"
    }
   ],
   "source": [
    "lca = bc.LCA({moo: 1}, ('Impact Potential', 'GCC'))\n",
    "lca.lci()\n",
    "lca.lcia()\n",
    "lca.score"
   ]
  },
  {
   "cell_type": "code",
   "execution_count": 22,
   "id": "bae746a1-5d42-44f2-9bcf-ff405132d593",
   "metadata": {},
   "outputs": [
    {
     "data": {
      "text/plain": [
       "<388x388 sparse matrix of type '<class 'numpy.float64'>'\n",
       "\twith 73104 stored elements in Compressed Sparse Row format>"
      ]
     },
     "execution_count": 22,
     "metadata": {},
     "output_type": "execute_result"
    }
   ],
   "source": [
    "lca.technosphere_matrix"
   ]
  },
  {
   "cell_type": "code",
   "execution_count": 23,
   "id": "50113ce1-bc77-4245-89fa-e2c8125515a8",
   "metadata": {},
   "outputs": [
    {
     "data": {
      "text/plain": [
       "<1871x388 sparse matrix of type '<class 'numpy.float64'>'\n",
       "\twith 89480 stored elements in Compressed Sparse Row format>"
      ]
     },
     "execution_count": 23,
     "metadata": {},
     "output_type": "execute_result"
    }
   ],
   "source": [
    "lca.biosphere_matrix"
   ]
  },
  {
   "cell_type": "markdown",
   "id": "3e02c3dc-7599-4329-89d2-874dcbc4fe39",
   "metadata": {},
   "source": [
    "Contribution"
   ]
  },
  {
   "cell_type": "markdown",
   "id": "6f3d70db-1daa-405f-8534-ebec445414b6",
   "metadata": {},
   "source": [
    "Let's show a little bit of what Brightway can do. We can compare the correlation of LCA scores across a variety of categories.\n",
    "\n",
    "There is an atuomatic way to do this in Brightway, but we can also program it manually to see how it works.\n",
    "\n",
    "Stop for a bit and think about what one would need to calculate LCA scores for 380 products and ~10 impact categories."
   ]
  },
  {
   "cell_type": "code",
   "execution_count": 24,
   "id": "1dc4f1a5-96ba-4f59-9957-f2b9a2b05227",
   "metadata": {},
   "outputs": [],
   "source": [
    "products_in_order = [obj for obj in db if obj['type'] == 'product']\n",
    "categories_in_order = [method for method in bd.methods if method[0] == 'Impact Potential']"
   ]
  },
  {
   "cell_type": "code",
   "execution_count": 25,
   "id": "f83d15e4-798f-4e6e-8c38-6735c2bbe404",
   "metadata": {},
   "outputs": [],
   "source": [
    "import numpy as np\n",
    "\n",
    "results = np.zeros((len(products_in_order), len(categories_in_order)))\n",
    "\n",
    "def get_lcia_scores(products, categories, results):\n",
    "    lca = bc.LCA({products[0]: 1}, categories[0])\n",
    "    lca.lci()\n",
    "    lca.lcia()\n",
    "    \n",
    "    method_matrices = [lca.characterization_matrix.copy()]\n",
    "    \n",
    "    for other_method in categories[1:]:\n",
    "        lca.switch_method(other_method)\n",
    "        method_matrices.append(lca.characterization_matrix.copy())\n",
    "    \n",
    "    for i, product in enumerate(products):\n",
    "        lca.redo_lci({product.id: 1})\n",
    "        for j, characterization_matrix in enumerate(method_matrices):\n",
    "            results[i, j] = (characterization_matrix * lca.inventory).sum()\n",
    "    \n",
    "    return results"
   ]
  },
  {
   "cell_type": "code",
   "execution_count": 26,
   "id": "df88c7ef-9954-45d8-8989-6811266fef3f",
   "metadata": {},
   "outputs": [
    {
     "name": "stdout",
     "output_type": "stream",
     "text": [
      "2.0787811279296875\n"
     ]
    }
   ],
   "source": [
    "from time import time\n",
    "\n",
    "start = time()\n",
    "results = get_lcia_scores(products_in_order, categories_in_order, results)\n",
    "print(time() - start)"
   ]
  },
  {
   "cell_type": "code",
   "execution_count": 38,
   "id": "8206e376-94b6-4049-bc80-449664e41ef4",
   "metadata": {},
   "outputs": [],
   "source": [
    "from scipy import stats\n",
    "\n",
    "def create_correlation_matrix(scores_array):\n",
    "    num_methods = scores_array.shape[1]\n",
    "    correlations = np.zeros((num_methods, num_methods))\n",
    "\n",
    "    for row in range(num_methods):\n",
    "        for col in range(num_methods):\n",
    "            if col <= row:\n",
    "                continue                               # Only need to compute correlation once\n",
    "            dataset_1 = scores_array[:, row]\n",
    "            dataset_2 = scores_array[:, col]\n",
    "            mask = (dataset_1 != 0) * (dataset_2 != 0) # Ignore activities that have zero score\n",
    "            corr = stats.kendalltau( # Get tau value, drop p-statistic\n",
    "                dataset_1[mask], \n",
    "                dataset_2[mask]\n",
    "            )[0]\n",
    "            if np.isnan(corr):\n",
    "                correlations[row, col] = 0\n",
    "            else:\n",
    "                correlations[row, col] = corr\n",
    "\n",
    "    correlations = correlations + correlations.T       # Make sorting easier by adding filling in lower left triangle\n",
    "    return correlations"
   ]
  },
  {
   "cell_type": "code",
   "execution_count": 39,
   "id": "153a4d9c-ed3f-4cff-a1bd-c47ac9c2427e",
   "metadata": {},
   "outputs": [],
   "source": [
    "correlation_matrix = create_correlation_matrix(results)"
   ]
  },
  {
   "cell_type": "code",
   "execution_count": 40,
   "id": "372ccc48-c5c9-41ca-aa88-414ceebc28a8",
   "metadata": {},
   "outputs": [],
   "source": [
    "%matplotlib inline"
   ]
  },
  {
   "cell_type": "code",
   "execution_count": 48,
   "id": "78035852-533d-4e5e-8bf2-da0429f4e097",
   "metadata": {},
   "outputs": [
    {
     "data": {
      "image/png": "[encoded data removed]",
      "text/plain": [
       "<Figure size 864x864 with 2 Axes>"
      ]
     },
     "metadata": {
      "needs_background": "light"
     },
     "output_type": "display_data"
    }
   ],
   "source": [
    "import matplotlib.pyplot as plt\n",
    "\n",
    "fig = plt.gcf()\n",
    "fig.set_size_inches(12, 12)\n",
    "\n",
    "masked_correlation = np.ma.array(correlation_matrix, mask=correlation_matrix == 0).T\n",
    "plt.pcolor(masked_correlation, cmap=plt.cm.cubehelix_r)\n",
    "plt.colorbar()\n",
    "plt.ylim(None, correlation_matrix.shape[1])\n",
    "plt.xlim(None, correlation_matrix.shape[0])\n",
    "plt.xticks(np.arange(0.5, 10), [obj[1] for obj in categories_in_order])\n",
    "plt.yticks(np.arange(0.5, 10), [obj[1] for obj in categories_in_order])\n",
    "plt.tight_layout()"
   ]
  },
  {
   "cell_type": "code",
   "execution_count": 49,
   "id": "ed5c1470-8e9b-4194-b321-d6f235c6661a",
   "metadata": {},
   "outputs": [
    {
     "name": "stdout",
     "output_type": "stream",
     "text": [
      "HRSP Human Health - Respiratory Effects\n",
      "These indicators provide estimates of stress or potential impacts on specific environmental and human health aspects. The indicators in this category applied here are from TRACI 2.1 (Bare 2012). See the dataset 'USEEIO v1.1 - Elementary Flows and Life Cycle Impact Assessment (LCIA) Characterization Factors' for details, DOI: 10.23719/1368541\n",
      "OZON Ozone Depletion\n",
      "These indicators provide estimates of stress or potential impacts on specific environmental and human health aspects. The indicators in this category applied here are from TRACI 2.1 (Bare 2012). See the dataset 'USEEIO v1.1 - Elementary Flows and Life Cycle Impact Assessment (LCIA) Characterization Factors' for details, DOI: 10.23719/1368541\n",
      "HNC Human Health Noncancer\n",
      "These indicators provide estimates of stress or potential impacts on specific environmental and human health aspects. The indicators in this category applied here are from TRACI 2.1 (Bare 2012). See the dataset 'USEEIO v1.1 - Elementary Flows and Life Cycle Impact Assessment (LCIA) Characterization Factors' for details, DOI: 10.23719/1368541\n",
      "EUTR Eutrophication\n",
      "These indicators provide estimates of stress or potential impacts on specific environmental and human health aspects. The indicators in this category applied here are from TRACI 2.1 (Bare 2012). See the dataset 'USEEIO v1.1 - Elementary Flows and Life Cycle Impact Assessment (LCIA) Characterization Factors' for details, DOI: 10.23719/1368541\n",
      "HTOX Human Health Cancer and Noncancer\n",
      "These indicators provide estimates of stress or potential impacts on specific environmental and human health aspects. The indicators in this category applied here are from TRACI 2.1 (Bare 2012). See the dataset 'USEEIO v1.1 - Elementary Flows and Life Cycle Impact Assessment (LCIA) Characterization Factors' for details, DOI: 10.23719/1368541\n",
      "ETOX Freshwater Aquatic Ecotoxicity\n",
      "These indicators provide estimates of stress or potential impacts on specific environmental and human health aspects. The indicators in this category applied here are from TRACI 2.1 (Bare 2012). See the dataset 'USEEIO v1.1 - Elementary Flows and Life Cycle Impact Assessment (LCIA) Characterization Factors' for details, DOI: 10.23719/1368541\n",
      "GCC Global Climate Change\n",
      "These indicators provide estimates of stress or potential impacts on specific environmental and human health aspects. The indicators in this category applied here are from TRACI 2.1 (Bare 2012). See the dataset 'USEEIO v1.1 - Elementary Flows and Life Cycle Impact Assessment (LCIA) Characterization Factors' for details, DOI: 10.23719/1368541\n",
      "ACID Acid Rain\n",
      "These indicators provide estimates of stress or potential impacts on specific environmental and human health aspects. The indicators in this category applied here are from TRACI 2.1 (Bare 2012). See the dataset 'USEEIO v1.1 - Elementary Flows and Life Cycle Impact Assessment (LCIA) Characterization Factors' for details, DOI: 10.23719/1368541\n",
      "HC Human Health Cancer\n",
      "These indicators provide estimates of stress or potential impacts on specific environmental and human health aspects. The indicators in this category applied here are from TRACI 2.1 (Bare 2012). See the dataset 'USEEIO v1.1 - Elementary Flows and Life Cycle Impact Assessment (LCIA) Characterization Factors' for details, DOI: 10.23719/1368541\n",
      "SMOG Smog Formation\n",
      "These indicators provide estimates of stress or potential impacts on specific environmental and human health aspects. The indicators in this category applied here are from TRACI 2.1 (Bare 2012). See the dataset 'USEEIO v1.1 - Elementary Flows and Life Cycle Impact Assessment (LCIA) Characterization Factors' for details, DOI: 10.23719/1368541\n"
     ]
    }
   ],
   "source": [
    "for category in categories_in_order:\n",
    "    print(category[1], bd.methods[category]['description'])"
   ]
  },
  {
   "cell_type": "code",
   "execution_count": null,
   "id": "2fce332e-8fd5-4856-a110-ae086c50bd9a",
   "metadata": {},
   "outputs": [],
   "source": []
  }
 ],
 "metadata": {
  "kernelspec": {
   "display_name": "Python 3 (ipykernel)",
   "language": "python",
   "name": "python3"
  },
  "language_info": {
   "codemirror_mode": {
    "name": "ipython",
    "version": 3
   },
   "file_extension": ".py",
   "mimetype": "text/x-python",
   "name": "python",
   "nbconvert_exporter": "python",
   "pygments_lexer": "ipython3",
   "version": "3.9.7"
  }
 },
 "nbformat": 4,
 "nbformat_minor": 5
}
