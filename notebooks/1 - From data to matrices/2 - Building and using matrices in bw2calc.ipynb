{
 "cells": [
  {
   "cell_type": "markdown",
   "id": "6ff9fe29-44ce-44c8-bec0-c681554644a5",
   "metadata": {},
   "source": [
    "# 2 - Building and using matrices in `bw2calc`"
   ]
  },
  {
   "cell_type": "markdown",
   "id": "a9b160ea-fb6a-4ea5-8f51-bc7a1cae3fc5",
   "metadata": {},
   "source": [
    "Before we dive into it, let's think about what we need to actually build a matrix. What specific data would you need? What don't you need?\n",
    "\n",
    "## Exercise\n",
    "\n",
    "Please think about the minimal set of information you would need to build a *sparse matrix* using [scipy.sparse.coo_matrix](https://docs.scipy.org/doc/scipy/reference/generated/scipy.sparse.coo_matrix.html) (sparse matrices store only non-zero values). Then, create this information as Numpy arrays and actually build a sparse matrix.\n",
    "\n",
    "Here is the matrix you should build:\n",
    "\n",
    "$$\\begin{bmatrix} 0 & 1 \\\\ 2 & 3 \\end{bmatrix}$$"
   ]
  },
  {
   "cell_type": "markdown",
   "id": "d3bbc878-d27e-469d-b753-5026792c69d9",
   "metadata": {
    "tags": []
   },
   "source": [
    "## Hint"
   ]
  },
  {
   "cell_type": "markdown",
   "id": "c8aef281-7246-4f87-8fdd-d6ee01d90933",
   "metadata": {
    "tags": []
   },
   "source": [
    "You will need three Numpy arrays: one for the data, one for the row indices, and one for the column indices."
   ]
  },
  {
   "cell_type": "markdown",
   "id": "6bebfb87-3cc9-488e-80d2-d3335dfec743",
   "metadata": {},
   "source": [
    "## Solution"
   ]
  },
  {
   "cell_type": "code",
   "execution_count": 2,
   "id": "5aa545c8-2432-40e1-b0a4-8083df560aa1",
   "metadata": {
    "collapsed": true,
    "jupyter": {
     "outputs_hidden": true
    },
    "tags": []
   },
   "outputs": [
    {
     "data": {
      "text/plain": [
       "array([[0, 1],\n",
       "       [2, 3]])"
      ]
     },
     "execution_count": 2,
     "metadata": {},
     "output_type": "execute_result"
    }
   ],
   "source": [
    "import numpy as np\n",
    "from scipy import sparse\n",
    "\n",
    "data = np.array([1, 2, 3])\n",
    "rows = np.array([0, 1, 1])\n",
    "cols = np.array([1, 0, 1])\n",
    "\n",
    "matrix = sparse.coo_matrix((data, (rows, cols)), (2, 2))\n",
    "matrix.toarray()"
   ]
  },
  {
   "cell_type": "markdown",
   "id": "4fce2a58-6d86-4a56-9710-7f03f968c627",
   "metadata": {},
   "source": [
    "## `bw_processing`\n",
    "\n",
    "We can run into difficulties when we want to store this data. The library `bw_processing` helps us create data packages, which can store this matrix-building data on variety of file systems. You can read the [`bw_processing` README](github.com/brightway-lca/bw_processing) for more information, and can see the [PyFilesystem2 Docs](https://docs.pyfilesystem.org/en/latest/) for more on the filesystems that can be used.\n",
    "\n",
    "Let's define this same matrix in `bw_processing`.\n",
    "\n",
    "Matrices by definition are two-dimensional, so we know that to build matrices we will always need to specify the row and column indices of the data. We combine these two arrays into a single Numpy [structured array](https://numpy.org/doc/stable/user/basics.rec.html), which uses the labels `row` and `col`."
   ]
  },
  {
   "cell_type": "code",
   "execution_count": 4,
   "id": "04ba1424-c124-4391-805e-68588143ef72",
   "metadata": {},
   "outputs": [
    {
     "data": {
      "text/plain": [
       "array([(0, 1), (1, 0), (1, 1)], dtype=[('row', '<i4'), ('col', '<i4')])"
      ]
     },
     "execution_count": 4,
     "metadata": {},
     "output_type": "execute_result"
    }
   ],
   "source": [
    "import bw_processing as bwp\n",
    "import numpy as np\n",
    "\n",
    "indices_array = np.array([(0, 1), (1, 0), (1, 1)], dtype=bwp.INDICES_DTYPE)\n",
    "indices_array"
   ]
  },
  {
   "cell_type": "markdown",
   "id": "01dc4bb5-ad81-4846-aba1-d2cfa2a6080b",
   "metadata": {},
   "source": [
    "The data array is the same as before:"
   ]
  },
  {
   "cell_type": "code",
   "execution_count": 6,
   "id": "b43f5478-c4aa-4b00-96c2-7d06f115f9b5",
   "metadata": {},
   "outputs": [
    {
     "data": {
      "text/plain": [
       "array([1, 2, 3])"
      ]
     },
     "execution_count": 6,
     "metadata": {},
     "output_type": "execute_result"
    }
   ],
   "source": [
    "data_array = np.array([1, 2, 3])\n",
    "data_array"
   ]
  },
  {
   "cell_type": "markdown",
   "id": "2f609d37-69b0-4bc6-8112-a697a186ebad",
   "metadata": {},
   "source": [
    "This is all we need to create a data package:"
   ]
  },
  {
   "cell_type": "code",
   "execution_count": 7,
   "id": "9174a0c1-555f-4857-949f-6276d7d39bf9",
   "metadata": {},
   "outputs": [],
   "source": [
    "dp = bwp.create_datapackage()\n",
    "\n",
    "dp.add_persistent_vector(\n",
    "    matrix=\"some label\",\n",
    "    data_array=data_array,\n",
    "    name=\"some name\",\n",
    "    indices_array=indices_array,\n",
    ")"
   ]
  },
  {
   "cell_type": "markdown",
   "id": "fc61b5b4-3c83-47f9-b200-f3ad61646ed3",
   "metadata": {},
   "source": [
    "Why a vector?"
   ]
  },
  {
   "cell_type": "markdown",
   "id": "c0030951-4346-436e-ac7b-8917524cdebc",
   "metadata": {},
   "source": [
    "Why is it persistent?"
   ]
  },
  {
   "cell_type": "markdown",
   "id": "9ab19d57-1c66-4966-b9be-3502920e5f57",
   "metadata": {},
   "source": [
    "Matrix label and name"
   ]
  },
  {
   "cell_type": "markdown",
   "id": "3f0048c5-2540-487b-881b-66358d6d8dd6",
   "metadata": {},
   "source": [
    "Didn't you say something about filesystems?"
   ]
  },
  {
   "cell_type": "markdown",
   "id": "f4727fb9-5644-407d-b51c-10400fa91dfb",
   "metadata": {},
   "source": [
    "## `matrix_utils`\n",
    "\n",
    "A datapackage is just a package... of data. Not a matrix. Let's build one using `matrix_utils`!"
   ]
  },
  {
   "cell_type": "code",
   "execution_count": 8,
   "id": "b0795ac8-511e-42c0-932c-4450c44ddbb2",
   "metadata": {},
   "outputs": [],
   "source": [
    "import matrix_utils as mu"
   ]
  },
  {
   "cell_type": "code",
   "execution_count": 11,
   "id": "656b39fa-0a35-4fae-8c63-d9fe0e4651c8",
   "metadata": {},
   "outputs": [
    {
     "data": {
      "text/plain": [
       "<2x2 sparse matrix of type '<class 'numpy.float64'>'\n",
       "\twith 3 stored elements in Compressed Sparse Row format>"
      ]
     },
     "execution_count": 11,
     "metadata": {},
     "output_type": "execute_result"
    }
   ],
   "source": [
    "mapped_matrix = mu.MappedMatrix(packages=[dp], matrix=\"some label\")\n",
    "mapped_matrix.matrix"
   ]
  },
  {
   "cell_type": "markdown",
   "id": "1a30c56d-0946-4d62-9a25-bc86e3af912a",
   "metadata": {},
   "source": [
    "Why is this matrix mapped?"
   ]
  },
  {
   "cell_type": "markdown",
   "id": "3b61d1bf-129b-46cb-a0e0-e782002a317d",
   "metadata": {},
   "source": [
    "## Exercise\n",
    "\n",
    "In a **new data package** (but using the same matrix label), recreate the same matrix, but with row indices starting at 100 and column indices starting at 200."
   ]
  },
  {
   "cell_type": "markdown",
   "id": "608e6af8-2d02-43e5-8952-c1cf71dba44c",
   "metadata": {},
   "source": [
    "## Solution"
   ]
  },
  {
   "cell_type": "code",
   "execution_count": 12,
   "id": "3d8ea14f-f8ed-45ff-9c76-3089deff9da6",
   "metadata": {
    "collapsed": true,
    "jupyter": {
     "outputs_hidden": true
    },
    "tags": []
   },
   "outputs": [
    {
     "data": {
      "text/plain": [
       "<2x2 sparse matrix of type '<class 'numpy.float64'>'\n",
       "\twith 3 stored elements in Compressed Sparse Row format>"
      ]
     },
     "execution_count": 12,
     "metadata": {},
     "output_type": "execute_result"
    }
   ],
   "source": [
    "indices_array = np.array([(100, 201), (101, 200), (101, 201)], dtype=bwp.INDICES_DTYPE)\n",
    "indices_array\n",
    "\n",
    "dp_offset = bwp.create_datapackage()\n",
    "\n",
    "dp_offset.add_persistent_vector(\n",
    "    matrix=\"some label\",\n",
    "    data_array=data_array,\n",
    "    name=\"some name\",\n",
    "    indices_array=indices_array,\n",
    ")\n",
    "mapped_matrix = mu.MappedMatrix(packages=[dp_offset], matrix=\"some label\")\n",
    "mapped_matrix.matrix"
   ]
  },
  {
   "cell_type": "markdown",
   "id": "70314d54-5f2e-44f5-bfa8-4a02dca9b572",
   "metadata": {},
   "source": [
    "Let's see what happens when we combine these two data packages."
   ]
  },
  {
   "cell_type": "code",
   "execution_count": 14,
   "id": "927d14d7-d8d4-4125-8a2a-712f816d4143",
   "metadata": {
    "collapsed": true,
    "jupyter": {
     "outputs_hidden": true
    },
    "tags": []
   },
   "outputs": [
    {
     "data": {
      "text/plain": [
       "array([[0., 1., 0., 0.],\n",
       "       [2., 3., 0., 0.],\n",
       "       [0., 0., 0., 1.],\n",
       "       [0., 0., 2., 3.]])"
      ]
     },
     "execution_count": 14,
     "metadata": {},
     "output_type": "execute_result"
    }
   ],
   "source": [
    "mapped_matrix = mu.MappedMatrix(packages=[dp, dp_offset], matrix=\"some label\")\n",
    "mapped_matrix.matrix.toarray()"
   ]
  },
  {
   "cell_type": "markdown",
   "id": "88e1ee06-3120-4865-a967-ee6ace21db15",
   "metadata": {},
   "source": [
    "Resource groups"
   ]
  },
  {
   "cell_type": "markdown",
   "id": "533f230f-53ac-445b-8b9d-5835d8efa809",
   "metadata": {},
   "source": [
    "get_resource"
   ]
  },
  {
   "cell_type": "markdown",
   "id": "fd9d3414-daeb-4761-8531-7650bf51be8b",
   "metadata": {},
   "source": [
    "filter_by_attribute"
   ]
  },
  {
   "cell_type": "markdown",
   "id": "858fda15-3176-4a4c-a812-dac14fb57eb8",
   "metadata": {},
   "source": [
    "multiple matrices"
   ]
  },
  {
   "cell_type": "markdown",
   "id": "500a131e-45b9-44ee-8e28-825d2a44a6fc",
   "metadata": {},
   "source": [
    "## `bw2calc`\n",
    "\n",
    "We can finally use the main Brightway library `bw2calc`. Based on what you know, build a datapackage that can populate the following matrices in `bw2calc` (use these exact labels for the matrices):\n",
    "\n",
    "* technosphere_matrix\n",
    "* biosphere_matrix"
   ]
  },
  {
   "cell_type": "code",
   "execution_count": 17,
   "id": "a6974fb7-bea9-4ba7-a47b-808efa404ab2",
   "metadata": {},
   "outputs": [],
   "source": [
    "# Do some work here to create the datapackage `my_complete_datapackage`"
   ]
  },
  {
   "cell_type": "markdown",
   "id": "fb8cbc3b-6d0d-4925-b128-9086d84f1347",
   "metadata": {},
   "source": [
    "If you did it right, you should be able to run the following code:"
   ]
  },
  {
   "cell_type": "code",
   "execution_count": 16,
   "id": "7e9fd603-627c-4b59-8ed2-7e5a52fd6c2d",
   "metadata": {},
   "outputs": [],
   "source": [
    "index_of_my_product = 1  # Change if necessary"
   ]
  },
  {
   "cell_type": "code",
   "execution_count": null,
   "id": "dcfc9c7f-f362-4b64-bf64-4550ea7ba449",
   "metadata": {},
   "outputs": [],
   "source": [
    "import bw2calc as bc\n",
    "\n",
    "lca = bc.LCA({index_of_my_product: 1}, data_objs=[my_complete_datapackage])\n",
    "lca.lci()\n",
    "lca.inventory.toarray()"
   ]
  },
  {
   "cell_type": "markdown",
   "id": "558db9b4-5481-4f14-b7b2-cc92f6aa9b33",
   "metadata": {},
   "source": [
    "## Brightway gotchas\n",
    "\n",
    "It's time to start our list of things that might mess up your day using Brightway.\n",
    "\n",
    "The element is the way that we build the characterization matrix $C$. In Brightway, $C$ is a diagonal matrix, as this preserves the dimensions of the inventory matrix, and allows for contribution analysis in the future.\n",
    "\n",
    "How do we define the row and column indices of a diagonal matrix? By definition, they are the same, so this seems like a needless duplication of effort. Instead, Brightway allows you to use the columns indices for regionalized characterization factors.\n",
    "\n",
    "(some more text here)"
   ]
  },
  {
   "cell_type": "markdown",
   "id": "75e551e2-47dc-4091-9dcd-14d79fe28d52",
   "metadata": {},
   "source": [
    "There is also a Python gotcha here: Python is zero-indexed (i.e. the first value in an iterable has index 0), but 0 is also \"false-y\", so you can run into problems with code like this:"
   ]
  },
  {
   "cell_type": "code",
   "execution_count": null,
   "id": "b575876b-ab78-4c0c-bb59-c1fb316565b3",
   "metadata": {
    "tags": []
   },
   "outputs": [],
   "source": [
    "index_for_good_data = 0\n",
    "\n",
    "if index_for_good_data:\n",
    "    print(\"Doing some filtering\")\n",
    "else:\n",
    "    print(\"No filtering, even though the first index value is 0. Oh well.\")"
   ]
  },
  {
   "cell_type": "markdown",
   "id": "0af28d84-0ad1-4c5b-9b50-40e523966df7",
   "metadata": {},
   "source": [
    "A better way to do this is to check if you value is `None`:"
   ]
  },
  {
   "cell_type": "code",
   "execution_count": 19,
   "id": "7c24d26e-48f0-44b3-b040-4f30ac6f6300",
   "metadata": {
    "tags": []
   },
   "outputs": [],
   "source": [
    "def filter_func(index=None):\n",
    "    if index is not None:\n",
    "        print(\"Doing some filtering\")\n",
    "    else:\n",
    "        print(\"No filtering, even though the first index value is 0. Oh well.\")"
   ]
  },
  {
   "cell_type": "code",
   "execution_count": null,
   "id": "cecb453e-465d-494e-bee1-482d805f347e",
   "metadata": {},
   "outputs": [],
   "source": [
    "filter_func(0)"
   ]
  },
  {
   "cell_type": "markdown",
   "id": "28d016c3-72d3-48fc-b726-135354dba4b6",
   "metadata": {},
   "source": [
    "Let's make things a bit more complicated. What if we wanted to include feedbacks from the biosphere to the technosphere (or indeed from the impact models as well)? Then, if we want to continue linearizing everything, we could combine the technosphere, biosphere, and characterization into one big matrix."
   ]
  },
  {
   "cell_type": "code",
   "execution_count": null,
   "id": "e8989b89-e359-4771-b748-c20bf658e784",
   "metadata": {},
   "outputs": [],
   "source": []
  }
 ],
 "metadata": {
  "kernelspec": {
   "display_name": "Python 3 (ipykernel)",
   "language": "python",
   "name": "python3"
  },
  "language_info": {
   "codemirror_mode": {
    "name": "ipython",
    "version": 3
   },
   "file_extension": ".py",
   "mimetype": "text/x-python",
   "name": "python",
   "nbconvert_exporter": "python",
   "pygments_lexer": "ipython3",
   "version": "3.9.7"
  }
 },
 "nbformat": 4,
 "nbformat_minor": 5
}
