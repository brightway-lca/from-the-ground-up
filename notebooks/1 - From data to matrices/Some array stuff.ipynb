{
 "cells": [
  {
   "cell_type": "code",
   "execution_count": 25,
   "id": "0d966dd8-e5f3-4b20-be98-08feeda8a52f",
   "metadata": {},
   "outputs": [],
   "source": [
    "import bw2data as bd\n",
    "import bw2io as bi\n",
    "import bw2calc as bc\n",
    "import pandas as pd\n",
    "from scipy.special import expit\n",
    "from matplotlib import pyplot as plt\n",
    "import numpy as np\n",
    "import bw_processing as bwp"
   ]
  },
  {
   "cell_type": "code",
   "execution_count": 2,
   "id": "a62f1ea5-d085-4fd4-84af-7d96002973e4",
   "metadata": {},
   "outputs": [],
   "source": [
    "def replacement(cf_mass):\n",
    "    return 5 - cf_mass * (1 + expit(cf_mass * 4 - 5)) + np.random.rand()"
   ]
  },
  {
   "cell_type": "code",
   "execution_count": 3,
   "id": "91d7b146-0945-4f20-b58e-2733a408dd8d",
   "metadata": {},
   "outputs": [
    {
     "data": {
      "text/plain": [
       "[<matplotlib.lines.Line2D at 0x126bf3c70>]"
      ]
     },
     "execution_count": 3,
     "metadata": {},
     "output_type": "execute_result"
    },
    {
     "data": {
      "image/png": "[encoded data removed]",
      "text/plain": [
       "<Figure size 432x288 with 1 Axes>"
      ]
     },
     "metadata": {
      "needs_background": "light"
     },
     "output_type": "display_data"
    }
   ],
   "source": [
    "arr = np.linspace(0, 2.5, 100)\n",
    "plt.plot(arr, [replacement(x) for x in arr])"
   ]
  },
  {
   "cell_type": "code",
   "execution_count": 4,
   "id": "791453e1-35f7-49cb-8315-e085edc189ed",
   "metadata": {},
   "outputs": [],
   "source": [
    "cf_amounts = np.random.rand(1000) * 2.5\n",
    "alu_amounts = replacement(cf_amounts)"
   ]
  },
  {
   "cell_type": "code",
   "execution_count": 5,
   "id": "a693c203-d6e4-4637-b390-2f29855d844c",
   "metadata": {},
   "outputs": [
    {
     "data": {
      "text/plain": [
       "(array([115.,  84.,  79.,  66.,  76.,  66.,  68., 108., 149., 189.]),\n",
       " array([0.45783631, 0.95591593, 1.45399554, 1.95207515, 2.45015477,\n",
       "        2.94823438, 3.44631399, 3.94439361, 4.44247322, 4.94055284,\n",
       "        5.43863245]),\n",
       " <BarContainer object of 10 artists>)"
      ]
     },
     "execution_count": 5,
     "metadata": {},
     "output_type": "execute_result"
    },
    {
     "data": {
      "image/png": "[encoded data removed]",
      "text/plain": [
       "<Figure size 432x288 with 1 Axes>"
      ]
     },
     "metadata": {
      "needs_background": "light"
     },
     "output_type": "display_data"
    }
   ],
   "source": [
    "plt.hist(alu_amounts)"
   ]
  },
  {
   "cell_type": "code",
   "execution_count": 6,
   "id": "69ae26f1-fcd8-4f8b-b455-1bb77fa43926",
   "metadata": {},
   "outputs": [],
   "source": [
    "bd.projects.set_current(\"fresh-start\")"
   ]
  },
  {
   "cell_type": "code",
   "execution_count": 7,
   "id": "790fb7f4-1a78-49ec-93f9-202356fbe50c",
   "metadata": {},
   "outputs": [],
   "source": [
    "if \"mobility\" in bd.databases:\n",
    "    del bd.databases['mobility']\n",
    "    \n",
    "if \"biosphere\" in bd.databases:\n",
    "    del bd.databases['biosphere']    "
   ]
  },
  {
   "cell_type": "code",
   "execution_count": 8,
   "id": "ad27fef4-a2a7-4afd-ae5b-0f8e4567bf19",
   "metadata": {},
   "outputs": [],
   "source": [
    "db = bd.Database(\"mobility\")\n",
    "db.register()\n",
    "\n",
    "biosphere = bd.Database(\"biosphere\")\n",
    "biosphere.register()"
   ]
  },
  {
   "cell_type": "code",
   "execution_count": 9,
   "id": "c6b558d9-203f-4bb9-ac09-408efe3ba2b7",
   "metadata": {},
   "outputs": [],
   "source": [
    "data = {\n",
    "    'code': 'bike',\n",
    "    'name': 'bike production',\n",
    "    'location': 'NO',\n",
    "    'unit': 'bike'\n",
    "}\n",
    "\n",
    "bike = db.new_activity(**data)\n",
    "bike.save()"
   ]
  },
  {
   "cell_type": "code",
   "execution_count": 10,
   "id": "03377b96-7e5e-4bc7-a524-428049cc1d3d",
   "metadata": {},
   "outputs": [],
   "source": [
    "data = {\n",
    "    'code': 'CF',\n",
    "    'name': 'carbon fibre',\n",
    "    'unit': 'kilogram',\n",
    "    'location': 'CN'\n",
    "}\n",
    "\n",
    "cf = db.new_activity(**data)\n",
    "cf.save()"
   ]
  },
  {
   "cell_type": "code",
   "execution_count": 11,
   "id": "9515d66f-c46b-4ab8-8254-dd87ce48096b",
   "metadata": {},
   "outputs": [],
   "source": [
    "data = {\n",
    "    'code': 'Alu',\n",
    "    'name': 'Aluminium',\n",
    "    'unit': 'kilogram',\n",
    "    'location': 'NO'\n",
    "}\n",
    "\n",
    "alu = db.new_activity(**data)\n",
    "alu.save()"
   ]
  },
  {
   "cell_type": "code",
   "execution_count": 12,
   "id": "c3ed02ab-2b7e-42d4-b03b-cb386b7603d8",
   "metadata": {},
   "outputs": [],
   "source": [
    "ng = db.new_activity(\n",
    "    name=\"Nat Gas\", \n",
    "    code='ng', \n",
    "    location='NO', \n",
    "    unit='MJ'\n",
    ")\n",
    "\n",
    "ng.save()"
   ]
  },
  {
   "cell_type": "code",
   "execution_count": 13,
   "id": "05eb6c4c-10d8-4430-875f-2a32ac9efd2c",
   "metadata": {},
   "outputs": [],
   "source": [
    "co2 = biosphere.new_activity(\n",
    "    name=\"Carbon Dioxide\", \n",
    "    code='co2', \n",
    "    categories=('air',),\n",
    "    type='emission',\n",
    ")\n",
    "\n",
    "co2.save()"
   ]
  },
  {
   "cell_type": "code",
   "execution_count": 14,
   "id": "49d2d738-7e14-40df-8dd0-e9023189ab9b",
   "metadata": {},
   "outputs": [],
   "source": [
    "bike.new_exchange(\n",
    "    amount=2.5, \n",
    "    type='technosphere',\n",
    "    input=cf\n",
    ").save()"
   ]
  },
  {
   "cell_type": "code",
   "execution_count": 15,
   "id": "f8a43b0f-eadc-479e-b8d2-ceab232f0bae",
   "metadata": {},
   "outputs": [],
   "source": [
    "bike.new_exchange(\n",
    "    amount=0, \n",
    "    type='technosphere',\n",
    "    input=alu,\n",
    ").save()"
   ]
  },
  {
   "cell_type": "code",
   "execution_count": 17,
   "id": "6c33d5c2-b27e-4640-952f-ad8ca76cf35a",
   "metadata": {},
   "outputs": [],
   "source": [
    "cf.new_exchange(\n",
    "    amount=237.3,  # plus 58 kWh of electricity, in ecoinvent 3.8 \n",
    "    uncertainty_type=5, \n",
    "    minimum=200, \n",
    "    maximum=300, \n",
    "    type='technosphere',\n",
    "    input=ng,\n",
    ").save()"
   ]
  },
  {
   "cell_type": "code",
   "execution_count": 18,
   "id": "525489dd-caf0-401c-80bc-8ea0f3b8cb71",
   "metadata": {},
   "outputs": [],
   "source": [
    "cf.new_exchange(\n",
    "    amount=26.6, \n",
    "    uncertainty_type=5, \n",
    "    minimum=26,\n",
    "    maximum=27.2, \n",
    "    type='biosphere',\n",
    "    input=co2,\n",
    ").save()"
   ]
  },
  {
   "cell_type": "code",
   "execution_count": 49,
   "id": "8b200ec3-c10b-4fe7-918e-c4d76812453d",
   "metadata": {},
   "outputs": [],
   "source": [
    "alu.new_exchange(\n",
    "    amount=8, \n",
    "    uncertainty_type=2, \n",
    "    loc=8,\n",
    "    scale=1,\n",
    "    type='biosphere',\n",
    "    input=co2,\n",
    ").save()"
   ]
  },
  {
   "cell_type": "code",
   "execution_count": 19,
   "id": "e6420904-e037-4046-ad2d-cf97188722b5",
   "metadata": {},
   "outputs": [],
   "source": [
    "ipcc = bd.Method(('IPCC',))\n",
    "ipcc.write([\n",
    "    (co2.key, {'amount': 1, 'uncertainty_type': 3, 'loc': 1, 'scale': 0.05}),\n",
    "])"
   ]
  },
  {
   "cell_type": "code",
   "execution_count": 20,
   "id": "f031fe36-d25f-41bc-a099-c1e5f77806ab",
   "metadata": {},
   "outputs": [],
   "source": [
    "import bw2calc as bc"
   ]
  },
  {
   "cell_type": "markdown",
   "id": "ff85f580-13cc-4d11-93d3-3b5acd0b5ae8",
   "metadata": {},
   "source": [
    "What if we only want uncertainty in the characterization step?\n",
    "\n",
    "We need to modify the datapackage a bit"
   ]
  },
  {
   "cell_type": "code",
   "execution_count": 21,
   "id": "2504a424-c376-4ed8-9a9f-fb448e2d334f",
   "metadata": {},
   "outputs": [],
   "source": [
    "from bw_processing import load_datapackage\n",
    "from fs.zipfs import ZipFS"
   ]
  },
  {
   "cell_type": "code",
   "execution_count": 54,
   "id": "6ee62fb6-a338-4b2c-a689-0562af0777ab",
   "metadata": {},
   "outputs": [],
   "source": [
    "database_dp = load_datapackage(ZipFS(db.filepath_processed()))\n",
    "method_dp = load_datapackage(ZipFS(ipcc.filepath_processed()))"
   ]
  },
  {
   "cell_type": "markdown",
   "id": "3f1793c6-03a2-42b0-b56d-0ef926951514",
   "metadata": {},
   "source": [
    "We can use the datapackages directly, just as before:"
   ]
  },
  {
   "cell_type": "code",
   "execution_count": 55,
   "id": "ebb4a64c-a691-47bd-92cf-793c3bd7764c",
   "metadata": {},
   "outputs": [],
   "source": [
    "array_dp = bwp.create_datapackage()"
   ]
  },
  {
   "cell_type": "code",
   "execution_count": 56,
   "id": "3f5e8fbd-9907-4aa1-9977-b612dab93e3d",
   "metadata": {},
   "outputs": [
    {
     "data": {
      "text/plain": [
       "array([(2651, 2650), (2652, 2650)], dtype=[('row', '<i4'), ('col', '<i4')])"
      ]
     },
     "execution_count": 56,
     "metadata": {},
     "output_type": "execute_result"
    }
   ],
   "source": [
    "indices_array = np.array([(cf.id, bike.id), (alu.id, bike.id)], dtype=bwp.INDICES_DTYPE)\n",
    "indices_array"
   ]
  },
  {
   "cell_type": "code",
   "execution_count": 57,
   "id": "169f92f0-4d33-4ff6-833c-f823476d3bea",
   "metadata": {},
   "outputs": [
    {
     "data": {
      "text/plain": [
       "{2650: 'bike production' (bike, NO, None),\n",
       " 2652: 'Aluminium' (kilogram, NO, None),\n",
       " 2653: 'Nat Gas' (MJ, NO, None),\n",
       " 2651: 'carbon fibre' (kilogram, CN, None)}"
      ]
     },
     "execution_count": 57,
     "metadata": {},
     "output_type": "execute_result"
    }
   ],
   "source": [
    "{o.id: o for o in db}"
   ]
  },
  {
   "cell_type": "code",
   "execution_count": 58,
   "id": "aa925692-f049-4c44-9d49-4529715cf418",
   "metadata": {},
   "outputs": [],
   "source": [
    "array_dp.add_persistent_array(\n",
    "    matrix=\"technosphere_matrix\",\n",
    "    data_array=np.vstack([cf_amounts, alu_amounts]),\n",
    "    name=\"alu replacing CF\",\n",
    "    flip_array=np.array([True, True]),\n",
    "    indices_array=indices_array,\n",
    ")"
   ]
  },
  {
   "cell_type": "code",
   "execution_count": 59,
   "id": "146f6ad7-175d-45c8-8962-5d1024fe8e1c",
   "metadata": {},
   "outputs": [],
   "source": [
    "lca = bc.LCA(\n",
    "    demand={bike.id: 1},\n",
    "    data_objs=[database_dp, method_dp, array_dp],\n",
    "    use_distributions=False,\n",
    "    use_arrays=True,\n",
    "    seed_override=None\n",
    ")\n",
    "lca.lci()\n",
    "lca.lcia()"
   ]
  },
  {
   "cell_type": "code",
   "execution_count": 60,
   "id": "f583caa4-15c9-4abb-9722-0fe7151ecc25",
   "metadata": {},
   "outputs": [
    {
     "data": {
      "text/html": [
       "<div>\n",
       "<style scoped>\n",
       "    .dataframe tbody tr th:only-of-type {\n",
       "        vertical-align: middle;\n",
       "    }\n",
       "\n",
       "    .dataframe tbody tr th {\n",
       "        vertical-align: top;\n",
       "    }\n",
       "\n",
       "    .dataframe thead th {\n",
       "        text-align: right;\n",
       "    }\n",
       "</style>\n",
       "<table border=\"1\" class=\"dataframe\">\n",
       "  <thead>\n",
       "    <tr style=\"text-align: right;\">\n",
       "      <th></th>\n",
       "      <th>score</th>\n",
       "      <th>inv</th>\n",
       "      <th>char</th>\n",
       "    </tr>\n",
       "  </thead>\n",
       "  <tbody>\n",
       "    <tr>\n",
       "      <th>0</th>\n",
       "      <td>50.785490</td>\n",
       "      <td>50.785490</td>\n",
       "      <td>1.0</td>\n",
       "    </tr>\n",
       "    <tr>\n",
       "      <th>1</th>\n",
       "      <td>51.125391</td>\n",
       "      <td>51.125391</td>\n",
       "      <td>1.0</td>\n",
       "    </tr>\n",
       "    <tr>\n",
       "      <th>2</th>\n",
       "      <td>62.425872</td>\n",
       "      <td>62.425872</td>\n",
       "      <td>1.0</td>\n",
       "    </tr>\n",
       "    <tr>\n",
       "      <th>3</th>\n",
       "      <td>44.040930</td>\n",
       "      <td>44.040930</td>\n",
       "      <td>1.0</td>\n",
       "    </tr>\n",
       "    <tr>\n",
       "      <th>4</th>\n",
       "      <td>47.704933</td>\n",
       "      <td>47.704933</td>\n",
       "      <td>1.0</td>\n",
       "    </tr>\n",
       "    <tr>\n",
       "      <th>5</th>\n",
       "      <td>62.652965</td>\n",
       "      <td>62.652965</td>\n",
       "      <td>1.0</td>\n",
       "    </tr>\n",
       "    <tr>\n",
       "      <th>6</th>\n",
       "      <td>62.933741</td>\n",
       "      <td>62.933741</td>\n",
       "      <td>1.0</td>\n",
       "    </tr>\n",
       "    <tr>\n",
       "      <th>7</th>\n",
       "      <td>62.753064</td>\n",
       "      <td>62.753064</td>\n",
       "      <td>1.0</td>\n",
       "    </tr>\n",
       "    <tr>\n",
       "      <th>8</th>\n",
       "      <td>67.426659</td>\n",
       "      <td>67.426659</td>\n",
       "      <td>1.0</td>\n",
       "    </tr>\n",
       "    <tr>\n",
       "      <th>9</th>\n",
       "      <td>67.688504</td>\n",
       "      <td>67.688504</td>\n",
       "      <td>1.0</td>\n",
       "    </tr>\n",
       "  </tbody>\n",
       "</table>\n",
       "</div>"
      ],
      "text/plain": [
       "       score        inv  char\n",
       "0  50.785490  50.785490   1.0\n",
       "1  51.125391  51.125391   1.0\n",
       "2  62.425872  62.425872   1.0\n",
       "3  44.040930  44.040930   1.0\n",
       "4  47.704933  47.704933   1.0\n",
       "5  62.652965  62.652965   1.0\n",
       "6  62.933741  62.933741   1.0\n",
       "7  62.753064  62.753064   1.0\n",
       "8  67.426659  67.426659   1.0\n",
       "9  67.688504  67.688504   1.0"
      ]
     },
     "execution_count": 60,
     "metadata": {},
     "output_type": "execute_result"
    }
   ],
   "source": [
    "pd.DataFrame([\n",
    "    {\n",
    "        'score': lca.score, \n",
    "        'inv': lca.inventory.sum(), \n",
    "        'char': lca.characterization_matrix.sum()\n",
    "    } for _, _ in zip(lca, range(10))\n",
    "])"
   ]
  }
 ],
 "metadata": {
  "kernelspec": {
   "display_name": "Python 3 (ipykernel)",
   "language": "python",
   "name": "python3"
  },
  "language_info": {
   "codemirror_mode": {
    "name": "ipython",
    "version": 3
   },
   "file_extension": ".py",
   "mimetype": "text/x-python",
   "name": "python",
   "nbconvert_exporter": "python",
   "pygments_lexer": "ipython3",
   "version": "3.9.7"
  }
 },
 "nbformat": 4,
 "nbformat_minor": 5
}
