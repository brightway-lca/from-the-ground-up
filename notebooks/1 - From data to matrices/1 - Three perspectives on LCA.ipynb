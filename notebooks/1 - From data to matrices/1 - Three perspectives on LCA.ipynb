{
 "cells": [
  {
   "cell_type": "markdown",
   "id": "ffa24522-9629-4435-a2ef-f7f2a01bf55d",
   "metadata": {},
   "source": [
    "# 1 - Three perspectives on LCA"
   ]
  },
  {
   "cell_type": "markdown",
   "id": "e03a3eb4-f4c9-45a9-aae6-a4cb32fa6508",
   "metadata": {},
   "source": [
    "Three perspectives on LCA: Document, graph, and matrix. All are equally valid, but explicit or implicit assumptions can make each model confusing. As always, communication is critical for effective model usage."
   ]
  },
  {
   "cell_type": "markdown",
   "id": "7fc1b352-aa5a-4117-bbb9-d2bcfab06804",
   "metadata": {},
   "source": [
    "## Documents\n",
    "\n",
    "CSV or Excel worksheets that list inputs and outputs, and some metadata like name, location, reference unit.\n",
    "\n",
    "### Tricky elements:\n",
    "\n",
    "* Naming (sometimes called nomenclature) can be tricky, especially when data interoperability is desired.\n",
    "* Sign conventions. Normally all numbers in documents are positive, even if they will be negative in the actual math. \n",
    "* Sign conventions between inventory and impact assessment. Traditionally both *consumption* of natural resources and *emission* or air, water, and soil pollutants are given positive numbers. The characterization factors should agree with these sign conventions."
   ]
  },
  {
   "cell_type": "markdown",
   "id": "acb11ab3-c120-4d66-85e5-0d5565551aea",
   "metadata": {},
   "source": [
    "## Graphs\n",
    "\n",
    "Mathematical or programming data structures with **Nodes** and **Edges**. Both nodes and edges can have metadata.\n",
    "\n",
    "### Tricky elements:\n",
    "\n",
    "* Do nodes have types, or edges (i.e. do you know if something is in the technosphere from its node type or incoming/outgoing edge types)?\n",
    "* Do edges have units, or nodes?"
   ]
  },
  {
   "cell_type": "markdown",
   "id": "0a704d7c-31c0-418c-bc36-22bd1e0d7e4a",
   "metadata": {},
   "source": [
    "## Exercise\n",
    "\n",
    "Don't open the solution cell until you try the exercise! If you need it, there is a hint; you can click on the blue bar to the left to reveal the hint.\n",
    "\n",
    "How can you apply the concepts of biosphere, technosphere, and characterization to a graph of nodes and edges? Draw a graph and put labels on the nodes and edges. See if you can indicate the types of edges, e.g. production, consumption, emission, etc."
   ]
  },
  {
   "cell_type": "markdown",
   "id": "9cb30f4c-2ffc-48a9-83b4-175c4d26f513",
   "metadata": {},
   "source": [
    "## Hint"
   ]
  },
  {
   "cell_type": "markdown",
   "id": "c2b5896c-f8dc-4a81-af2c-0651b2e1351e",
   "metadata": {
    "jupyter": {
     "source_hidden": true
    },
    "tags": []
   },
   "source": [
    "One approach is to have nodes of activities, products, environmental flows, and impact categories, and quantitative edges linking these nodes."
   ]
  },
  {
   "cell_type": "markdown",
   "id": "48d88f92-5053-4398-bce6-b87914484e5b",
   "metadata": {},
   "source": [
    "## Matrices\n",
    "\n",
    "Matrices describe linear systems. A common formulation in matrix-based LCA is $h = cBA^{-1}f$, though this can be written in different ways. In IO, the $A$ matrix is normalized, and you see $I-A$, but we don't need to make this assumption (or even the assumption of positive production amounts, or even the meaning of elements on the diagonals in general) - the first formula is more general.\n",
    "\n",
    "### Tricky elements\n",
    "\n",
    "* You need metadata in some additional data store to know what the rows, columns, and results mean. This might seem trivial, but in the real world can be frustrating and prone to error if done manually.\n",
    "* Different formulations between process-based LCA and IO can cause confusion or incorrect results.\n",
    "* Some matrices are nonsquare, or singular, and so cannot guarantee exact solutions to all possible demand vectors. They can still be useful though!\n",
    "* Proper handling of multifunctional systems, substitution, and feedbacks between the natural and industrial environment (which could require new fundamental equations)"
   ]
  },
  {
   "cell_type": "markdown",
   "id": "0e3c72c5-d212-4a6c-93fe-2370b1b0dd05",
   "metadata": {},
   "source": [
    "## Exercise\n",
    "\n",
    "How would you build an $A$ matrix for a process which which produces two useful outputs (say, x and y), and the production of y substitute for another production pathway of y? What are the row and column labels? Can you solve this simple $A^{-1}x = b$ system and get a sensible result?"
   ]
  },
  {
   "cell_type": "markdown",
   "id": "9b0d22d0-9fe0-4b8f-8f9a-804ca7a3fb5d",
   "metadata": {},
   "source": [
    "### Hint"
   ]
  },
  {
   "cell_type": "markdown",
   "id": "e419e337-c672-4591-875b-68e88556ad94",
   "metadata": {
    "jupyter": {
     "source_hidden": true
    },
    "tags": []
   },
   "source": [
    "Think about the meaning of results on the diagonals (though this is only a convention, you can put rows and columns in whatever order you want)."
   ]
  },
  {
   "cell_type": "markdown",
   "id": "235020d0-62ac-4ca8-8c5a-4111b1e12e89",
   "metadata": {},
   "source": [
    "## The role of Brightway in these three perspectives\n",
    "\n",
    "Brightway is a set of libraries (I like the term framework) that handles these different perspectives. Specifically:\n",
    "\n",
    "* `bw2io` is based around the idea of documents - reading, converting, and exporting datasets as documents.\n",
    "* `bw2data` is based around graphs. It uses SQLite as a relational database, and has two tables: Nodes and edges. It is very flexible on how you chose to model these nodes and edges, but comes with a default set of assumptions.\n",
    "* `bw2calc` has a deep love affair with matrices - all kinds of matrices, it doesn't judge, it just helps you build matrices and solve different problems. It does come with a default formulation for LCA math, given in the equation above, but this can be extended in many different ways.\n",
    "\n",
    "We start working with Brightway by using `bw2calc` and its life partners, `bw_processing` and `matrix_utils`. This is the easiest part of LCA, the theory of how our models should work, before we need to explore the horrors of... *reeeaaaaaal wooorrrrrrllld daataaaa (scary ghost noises)*. Let's go to the next notebook."
   ]
  },
  {
   "cell_type": "code",
   "execution_count": null,
   "id": "7a3ac857-3a16-4a0a-a552-a3a601a654e8",
   "metadata": {},
   "outputs": [],
   "source": []
  }
 ],
 "metadata": {
  "kernelspec": {
   "display_name": "Python 3 (ipykernel)",
   "language": "python",
   "name": "python3"
  },
  "language_info": {
   "codemirror_mode": {
    "name": "ipython",
    "version": 3
   },
   "file_extension": ".py",
   "mimetype": "text/x-python",
   "name": "python",
   "nbconvert_exporter": "python",
   "pygments_lexer": "ipython3",
   "version": "3.9.7"
  }
 },
 "nbformat": 4,
 "nbformat_minor": 5
}
